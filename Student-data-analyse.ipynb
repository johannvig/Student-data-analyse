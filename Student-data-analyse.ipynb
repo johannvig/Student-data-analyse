{
 "cells": [
  {
   "cell_type": "markdown",
   "id": "bde088a1",
   "metadata": {},
   "source": [
    "# <center> SAE S2.04 Exploitation d'une base de données\n",
    "\n",
    "<img align=\"center\" src=\"https://upload.wikimedia.org/wikipedia/commons/7/7f/Karl_Pearson.jpg\"  width=50% />\n",
    "    \n",
    "## Table des matières\n",
    "1. [Introduction](#sec1)\n",
    "    \n",
    "2. [Profils des étudiants](#sec2)\n",
    "    1. [Répartition des types de baccalauréat parmi les étudiants](#sec2.1)\n",
    "    2. [Répartition des mentions obtenues par les étudiants](#sec2.2)\n",
    "    3. [Proportion des étudiants en situation de \"ajac\", \"passe\" ou \"ne passe pas\"](#sec2.3)\n",
    "    4. [Lien entre le type de baccalauéat et les mentions obtenues](#sec2.4)\n",
    "    5. [Lien entre le type de baccalauéat et leurs situations \"ajac\",\"passe\" ou \"ne passe pas\"](#sec2.5)\n",
    "    \n",
    "3. [Analyse des absences](#sec2.2)\n",
    "    1. [Répartition des absences justifiées et injustifiées](#sec3.1)\n",
    "    2. [Analyse des absences selon la période de la journée](#sec3.2)\n",
    "    3. [Analyse de l'évolution du nombre d'absences selon le type de cours](#sec3.3)\n",
    "    4. [Impact de l'enseignant sur la durée du retard et le nombre d'absences](#sec3.4)\n",
    "    5. [Lien entre du mois et le nombre d'absences](#sec3.5)\n",
    "    6. [Lien entre du mois et le nombre d'absences](#sec3.6)\n",
    "    7. [Combien y a-t-il d'étudiants par nombre d'absences ?](#sec3.7)\n",
    "    \n",
    "4. [Performance académique des étudiants](#sec4)\n",
    "    1. [Proportion des notes du portfolio par étudiant](#sec4.1)\n",
    "    2. [Impact de l'âge des étudiants sur leurs résultats académiques](#sec4.2)\n",
    "    3. [Influence du nombre d'absences sur les notes obtenues](#sec4.3)\n",
    "    4. [Lien entre les notes obtenues dans les matières scientifiques et les matières non scientifiques](#sec4.4)\n",
    "    \n",
    "5. [Synthèse des résultats et conclusions](#sec5)\n",
    "    \n",
    "    \n",
    "\n"
   ]
  },
  {
   "cell_type": "markdown",
   "id": "498c9270",
   "metadata": {},
   "source": [
    "## 1. Introduction<a class=\"anchor\" id=\"sec1\"></a>\n",
    "\n",
    "Ce compte rendu s inscrit dans le cadre d une étude statistique portant sur deux ensembles de données : \n",
    "`absences.csv` et `etudiants.csv`. L objectif principal est d analyser les informations relatives aux absences \n",
    "et aux retards des étudiants, ainsi que leurs données démographiques et académiques.\n",
    "\n",
    "Dans ce rapport, nous présentons une analyse complète de ces jeux de données, en explorant diverses variables \n",
    "et en examinant leurs interactions possibles. Le rapport est structuré de manière à inclure une introduction, \n",
    "une table des matières, une conclusion, ainsi que plusieurs sections dédiées à différents aspects de l analyse. \n",
    "Chaque section du rapport détaille les méthodes et le code utilisés pour charger, nettoyer et préparer les données, \n",
    "et inclut les calculs et les graphiques pertinents pour illustrer nos résultats. De plus, nous avons veillé à ce que tous \n",
    "les graphiques soient clairement titrés et étiquetés, et comprennent une légende si nécessaire.\n",
    "\n",
    "Enfin, une section récapitulative est incluse à la fin du rapport, présentant un tableau de tous les types de variables \n",
    "étudiés et les variables choisies dans chaque cas, indiquant clairement la répartition des tâches entre les membres du binôme."
   ]
  },
  {
   "cell_type": "markdown",
   "id": "9060d2b0",
   "metadata": {},
   "source": [
    "## 2. Profils des étudiants<a class=\"anchor\" id=\"sec2\"></a>\n",
    "\n",
    "Dans cette première partie de notre étude, nous nous concentrerons sur l'analyse des profils des étudiants. Comprendre les caractéristiques de nos étudiants est une première étape cruciale pour mieux appréhender les diverses variables qui peuvent influencer leurs performances académiques et leur engagement.\n",
    "\n",
    "Nous analyserons d'abord la répartition des types de baccalauréat parmi les étudiants. Cela nous aidera à comprendre quel est le parcours académique avant leur entrée dans l'enseignement supérieur et peut révéler des tendances intéressantes quant aux parcours préférés avant l'université.\n",
    "\n",
    "Ensuite, nous examinerons la répartition des mentions obtenues par les étudiants. Cela nous donnera une vue d'ensemble de la performance académique générale de notre population étudiante.\n",
    "\n",
    "Enfin, nous étudierons la proportion des étudiants en situation de \"ajac\", \"passe\" ou \"ne passe pas\". Cette analyse permettra de saisir le pourcentage d'étudiants qui rencontrent des difficultés. Nous explorerons également si le type de baccalauréat a un impact sur ces situations ce qui pourrait nous donner des indications sur la préparation des étudiants provenant de différentes filières.\n",
    "\n",
    "Nous avons décider pour cette partie de prendre la base de donnée brute sans y apporter de modification. Nous expliquons ce choix par le fait que nous allons étudié les étudiants en situation d'ajac ou qui ne passeront pas l'année et que cela n'influence pas de manière à biaiser les résultats de la répartition des types de bacs et les mentions obtenues.\n"
   ]
  },
  {
   "cell_type": "markdown",
   "id": "70be8763",
   "metadata": {},
   "source": [
    "### 2.A Répartition des types de baccalauréat parmi les étudiants<a class=\"anchor\" id=\"sec2.1\"></a>\n",
    "\n",
    "Commençons par importer la base de données ainsi que les librairies nécessaires :"
   ]
  },
  {
   "cell_type": "code",
   "execution_count": 18,
   "id": "19273d17",
   "metadata": {},
   "outputs": [],
   "source": [
    "import numpy as np\n",
    "import pandas as pd\n",
    "import seaborn as sns"
   ]
  },
  {
   "cell_type": "markdown",
   "id": "0e507c73",
   "metadata": {},
   "source": [
    "Ici, nous allons configurer la lecture les bases de données et en afficher les premières lignes :"
   ]
  },
  {
   "cell_type": "code",
   "execution_count": 19,
   "id": "5fee4049",
   "metadata": {},
   "outputs": [],
   "source": [
    "dp = pd.read_csv('etudiants.csv', sep = ';', decimal=\",\")"
   ]
  },
  {
   "cell_type": "code",
   "execution_count": 20,
   "id": "e70e189c",
   "metadata": {},
   "outputs": [
    {
     "data": {
      "text/html": [
       "<div>\n",
       "<style scoped>\n",
       "    .dataframe tbody tr th:only-of-type {\n",
       "        vertical-align: middle;\n",
       "    }\n",
       "\n",
       "    .dataframe tbody tr th {\n",
       "        vertical-align: top;\n",
       "    }\n",
       "\n",
       "    .dataframe thead th {\n",
       "        text-align: right;\n",
       "    }\n",
       "</style>\n",
       "<table border=\"1\" class=\"dataframe\">\n",
       "  <thead>\n",
       "    <tr style=\"text-align: right;\">\n",
       "      <th></th>\n",
       "      <th>NumEtu</th>\n",
       "      <th>Naissance</th>\n",
       "      <th>Bac</th>\n",
       "      <th>ParcSup</th>\n",
       "      <th>UE 2.1</th>\n",
       "      <th>UE 2.2</th>\n",
       "      <th>UE 2.3</th>\n",
       "      <th>UE 2.4</th>\n",
       "      <th>UE 2.5</th>\n",
       "      <th>UE 2.6</th>\n",
       "      <th>...</th>\n",
       "      <th>R2.12</th>\n",
       "      <th>R2.13</th>\n",
       "      <th>R2.14</th>\n",
       "      <th>S2.01</th>\n",
       "      <th>S2.02</th>\n",
       "      <th>S2.03</th>\n",
       "      <th>S2.04</th>\n",
       "      <th>S2.05</th>\n",
       "      <th>S2.06</th>\n",
       "      <th>Portfolio</th>\n",
       "    </tr>\n",
       "  </thead>\n",
       "  <tbody>\n",
       "    <tr>\n",
       "      <th>0</th>\n",
       "      <td>1</td>\n",
       "      <td>15/12/2002</td>\n",
       "      <td>S-Sciences</td>\n",
       "      <td>137.0</td>\n",
       "      <td>13.608</td>\n",
       "      <td>14.705</td>\n",
       "      <td>13.824</td>\n",
       "      <td>12.733</td>\n",
       "      <td>14.291</td>\n",
       "      <td>14.730</td>\n",
       "      <td>...</td>\n",
       "      <td>13.9</td>\n",
       "      <td>13.66</td>\n",
       "      <td>14.85</td>\n",
       "      <td>14.68</td>\n",
       "      <td>13.5</td>\n",
       "      <td>16.0</td>\n",
       "      <td>12.5</td>\n",
       "      <td>15.37</td>\n",
       "      <td>17.0</td>\n",
       "      <td>13.0</td>\n",
       "    </tr>\n",
       "    <tr>\n",
       "      <th>1</th>\n",
       "      <td>2</td>\n",
       "      <td>25/04/2002</td>\n",
       "      <td>STI2D</td>\n",
       "      <td>NaN</td>\n",
       "      <td>12.608</td>\n",
       "      <td>12.878</td>\n",
       "      <td>10.790</td>\n",
       "      <td>10.545</td>\n",
       "      <td>10.664</td>\n",
       "      <td>13.987</td>\n",
       "      <td>...</td>\n",
       "      <td>15.1</td>\n",
       "      <td>10.33</td>\n",
       "      <td>13.25</td>\n",
       "      <td>16.41</td>\n",
       "      <td>13.5</td>\n",
       "      <td>17.3</td>\n",
       "      <td>10.0</td>\n",
       "      <td>11.50</td>\n",
       "      <td>17.0</td>\n",
       "      <td>12.0</td>\n",
       "    </tr>\n",
       "    <tr>\n",
       "      <th>2</th>\n",
       "      <td>3</td>\n",
       "      <td>11/10/2003</td>\n",
       "      <td>STI2D</td>\n",
       "      <td>133.0</td>\n",
       "      <td>11.951</td>\n",
       "      <td>12.013</td>\n",
       "      <td>11.425</td>\n",
       "      <td>10.400</td>\n",
       "      <td>12.272</td>\n",
       "      <td>14.095</td>\n",
       "      <td>...</td>\n",
       "      <td>12.0</td>\n",
       "      <td>11.50</td>\n",
       "      <td>14.25</td>\n",
       "      <td>16.86</td>\n",
       "      <td>16.0</td>\n",
       "      <td>17.0</td>\n",
       "      <td>10.0</td>\n",
       "      <td>14.25</td>\n",
       "      <td>16.3</td>\n",
       "      <td>12.0</td>\n",
       "    </tr>\n",
       "    <tr>\n",
       "      <th>3</th>\n",
       "      <td>4</td>\n",
       "      <td>21/06/2002</td>\n",
       "      <td>STI2D</td>\n",
       "      <td>14.0</td>\n",
       "      <td>16.491</td>\n",
       "      <td>15.345</td>\n",
       "      <td>15.389</td>\n",
       "      <td>13.648</td>\n",
       "      <td>16.195</td>\n",
       "      <td>14.980</td>\n",
       "      <td>...</td>\n",
       "      <td>15.5</td>\n",
       "      <td>13.83</td>\n",
       "      <td>13.45</td>\n",
       "      <td>17.11</td>\n",
       "      <td>16.5</td>\n",
       "      <td>17.3</td>\n",
       "      <td>11.0</td>\n",
       "      <td>17.37</td>\n",
       "      <td>15.7</td>\n",
       "      <td>15.0</td>\n",
       "    </tr>\n",
       "    <tr>\n",
       "      <th>4</th>\n",
       "      <td>5</td>\n",
       "      <td>16/11/2003</td>\n",
       "      <td>NBGE</td>\n",
       "      <td>113.0</td>\n",
       "      <td>14.253</td>\n",
       "      <td>16.078</td>\n",
       "      <td>11.546</td>\n",
       "      <td>13.192</td>\n",
       "      <td>14.996</td>\n",
       "      <td>14.962</td>\n",
       "      <td>...</td>\n",
       "      <td>14.2</td>\n",
       "      <td>15.13</td>\n",
       "      <td>15.55</td>\n",
       "      <td>16.53</td>\n",
       "      <td>16.5</td>\n",
       "      <td>16.0</td>\n",
       "      <td>10.0</td>\n",
       "      <td>14.87</td>\n",
       "      <td>15.7</td>\n",
       "      <td>13.0</td>\n",
       "    </tr>\n",
       "  </tbody>\n",
       "</table>\n",
       "<p>5 rows × 31 columns</p>\n",
       "</div>"
      ],
      "text/plain": [
       "   NumEtu    Naissance         Bac  ParcSup  UE 2.1  UE 2.2  UE 2.3  UE 2.4  \\\n",
       "0       1   15/12/2002  S-Sciences    137.0  13.608  14.705  13.824  12.733   \n",
       "1       2   25/04/2002       STI2D      NaN  12.608  12.878  10.790  10.545   \n",
       "2       3   11/10/2003       STI2D    133.0  11.951  12.013  11.425  10.400   \n",
       "3       4   21/06/2002       STI2D     14.0  16.491  15.345  15.389  13.648   \n",
       "4       5   16/11/2003        NBGE    113.0  14.253  16.078  11.546  13.192   \n",
       "\n",
       "   UE 2.5  UE 2.6  ...  R2.12  R2.13  R2.14  S2.01  S2.02  S2.03  S2.04  \\\n",
       "0  14.291  14.730  ...   13.9  13.66  14.85  14.68   13.5   16.0   12.5   \n",
       "1  10.664  13.987  ...   15.1  10.33  13.25  16.41   13.5   17.3   10.0   \n",
       "2  12.272  14.095  ...   12.0  11.50  14.25  16.86   16.0   17.0   10.0   \n",
       "3  16.195  14.980  ...   15.5  13.83  13.45  17.11   16.5   17.3   11.0   \n",
       "4  14.996  14.962  ...   14.2  15.13  15.55  16.53   16.5   16.0   10.0   \n",
       "\n",
       "   S2.05  S2.06  Portfolio  \n",
       "0  15.37   17.0       13.0  \n",
       "1  11.50   17.0       12.0  \n",
       "2  14.25   16.3       12.0  \n",
       "3  17.37   15.7       15.0  \n",
       "4  14.87   15.7       13.0  \n",
       "\n",
       "[5 rows x 31 columns]"
      ]
     },
     "execution_count": 20,
     "metadata": {},
     "output_type": "execute_result"
    }
   ],
   "source": [
    "dp.head()"
   ]
  },
  {
   "cell_type": "code",
   "execution_count": 21,
   "id": "18d6cd20",
   "metadata": {},
   "outputs": [
    {
     "data": {
      "text/html": [
       "<div>\n",
       "<style scoped>\n",
       "    .dataframe tbody tr th:only-of-type {\n",
       "        vertical-align: middle;\n",
       "    }\n",
       "\n",
       "    .dataframe tbody tr th {\n",
       "        vertical-align: top;\n",
       "    }\n",
       "\n",
       "    .dataframe thead th {\n",
       "        text-align: right;\n",
       "    }\n",
       "</style>\n",
       "<table border=\"1\" class=\"dataframe\">\n",
       "  <thead>\n",
       "    <tr style=\"text-align: right;\">\n",
       "      <th></th>\n",
       "      <th>NumEtu</th>\n",
       "      <th>ParcSup</th>\n",
       "      <th>UE 2.1</th>\n",
       "      <th>UE 2.2</th>\n",
       "      <th>UE 2.3</th>\n",
       "      <th>UE 2.4</th>\n",
       "      <th>UE 2.5</th>\n",
       "      <th>UE 2.6</th>\n",
       "      <th>R2.01</th>\n",
       "      <th>R2.02</th>\n",
       "      <th>...</th>\n",
       "      <th>R2.12</th>\n",
       "      <th>R2.13</th>\n",
       "      <th>R2.14</th>\n",
       "      <th>S2.01</th>\n",
       "      <th>S2.02</th>\n",
       "      <th>S2.03</th>\n",
       "      <th>S2.04</th>\n",
       "      <th>S2.05</th>\n",
       "      <th>S2.06</th>\n",
       "      <th>Portfolio</th>\n",
       "    </tr>\n",
       "  </thead>\n",
       "  <tbody>\n",
       "    <tr>\n",
       "      <th>count</th>\n",
       "      <td>55.00000</td>\n",
       "      <td>54.000000</td>\n",
       "      <td>53.000000</td>\n",
       "      <td>53.000000</td>\n",
       "      <td>53.000000</td>\n",
       "      <td>53.000000</td>\n",
       "      <td>53.000000</td>\n",
       "      <td>53.000000</td>\n",
       "      <td>54.000000</td>\n",
       "      <td>53.000000</td>\n",
       "      <td>...</td>\n",
       "      <td>54.000000</td>\n",
       "      <td>54.000000</td>\n",
       "      <td>53.000000</td>\n",
       "      <td>53.000000</td>\n",
       "      <td>54.000000</td>\n",
       "      <td>53.00000</td>\n",
       "      <td>54.000000</td>\n",
       "      <td>54.000000</td>\n",
       "      <td>53.000000</td>\n",
       "      <td>54.000000</td>\n",
       "    </tr>\n",
       "    <tr>\n",
       "      <th>mean</th>\n",
       "      <td>28.00000</td>\n",
       "      <td>88.351852</td>\n",
       "      <td>13.219358</td>\n",
       "      <td>13.198717</td>\n",
       "      <td>12.757019</td>\n",
       "      <td>12.391113</td>\n",
       "      <td>13.496755</td>\n",
       "      <td>13.489340</td>\n",
       "      <td>10.782407</td>\n",
       "      <td>13.129623</td>\n",
       "      <td>...</td>\n",
       "      <td>12.774074</td>\n",
       "      <td>12.705000</td>\n",
       "      <td>14.575472</td>\n",
       "      <td>15.543208</td>\n",
       "      <td>13.388889</td>\n",
       "      <td>15.54717</td>\n",
       "      <td>11.583333</td>\n",
       "      <td>14.820556</td>\n",
       "      <td>14.628302</td>\n",
       "      <td>13.555556</td>\n",
       "    </tr>\n",
       "    <tr>\n",
       "      <th>std</th>\n",
       "      <td>16.02082</td>\n",
       "      <td>48.356053</td>\n",
       "      <td>1.773550</td>\n",
       "      <td>2.297124</td>\n",
       "      <td>2.177790</td>\n",
       "      <td>1.344343</td>\n",
       "      <td>1.357419</td>\n",
       "      <td>1.546739</td>\n",
       "      <td>3.101676</td>\n",
       "      <td>1.534004</td>\n",
       "      <td>...</td>\n",
       "      <td>1.917957</td>\n",
       "      <td>1.987474</td>\n",
       "      <td>2.435132</td>\n",
       "      <td>2.650527</td>\n",
       "      <td>3.844460</td>\n",
       "      <td>1.44430</td>\n",
       "      <td>2.057545</td>\n",
       "      <td>1.851317</td>\n",
       "      <td>2.038795</td>\n",
       "      <td>2.254276</td>\n",
       "    </tr>\n",
       "    <tr>\n",
       "      <th>min</th>\n",
       "      <td>1.00000</td>\n",
       "      <td>2.000000</td>\n",
       "      <td>9.043000</td>\n",
       "      <td>7.343000</td>\n",
       "      <td>8.538000</td>\n",
       "      <td>8.959000</td>\n",
       "      <td>10.664000</td>\n",
       "      <td>10.128000</td>\n",
       "      <td>5.000000</td>\n",
       "      <td>9.580000</td>\n",
       "      <td>...</td>\n",
       "      <td>8.500000</td>\n",
       "      <td>8.400000</td>\n",
       "      <td>8.200000</td>\n",
       "      <td>8.330000</td>\n",
       "      <td>4.500000</td>\n",
       "      <td>12.70000</td>\n",
       "      <td>7.500000</td>\n",
       "      <td>11.500000</td>\n",
       "      <td>10.200000</td>\n",
       "      <td>5.000000</td>\n",
       "    </tr>\n",
       "    <tr>\n",
       "      <th>25%</th>\n",
       "      <td>14.50000</td>\n",
       "      <td>46.500000</td>\n",
       "      <td>12.026000</td>\n",
       "      <td>11.863000</td>\n",
       "      <td>11.419000</td>\n",
       "      <td>11.286000</td>\n",
       "      <td>12.573000</td>\n",
       "      <td>12.340000</td>\n",
       "      <td>8.750000</td>\n",
       "      <td>12.250000</td>\n",
       "      <td>...</td>\n",
       "      <td>11.200000</td>\n",
       "      <td>11.540000</td>\n",
       "      <td>13.250000</td>\n",
       "      <td>14.680000</td>\n",
       "      <td>11.750000</td>\n",
       "      <td>14.30000</td>\n",
       "      <td>10.000000</td>\n",
       "      <td>13.620000</td>\n",
       "      <td>13.300000</td>\n",
       "      <td>13.000000</td>\n",
       "    </tr>\n",
       "    <tr>\n",
       "      <th>50%</th>\n",
       "      <td>28.00000</td>\n",
       "      <td>96.000000</td>\n",
       "      <td>13.608000</td>\n",
       "      <td>13.460000</td>\n",
       "      <td>12.802000</td>\n",
       "      <td>12.589000</td>\n",
       "      <td>13.588000</td>\n",
       "      <td>13.877000</td>\n",
       "      <td>10.500000</td>\n",
       "      <td>13.630000</td>\n",
       "      <td>...</td>\n",
       "      <td>12.800000</td>\n",
       "      <td>12.750000</td>\n",
       "      <td>14.850000</td>\n",
       "      <td>15.580000</td>\n",
       "      <td>14.500000</td>\n",
       "      <td>15.70000</td>\n",
       "      <td>11.250000</td>\n",
       "      <td>14.995000</td>\n",
       "      <td>15.000000</td>\n",
       "      <td>14.000000</td>\n",
       "    </tr>\n",
       "    <tr>\n",
       "      <th>75%</th>\n",
       "      <td>41.50000</td>\n",
       "      <td>132.500000</td>\n",
       "      <td>14.250000</td>\n",
       "      <td>15.198000</td>\n",
       "      <td>14.712000</td>\n",
       "      <td>13.526000</td>\n",
       "      <td>14.291000</td>\n",
       "      <td>14.654000</td>\n",
       "      <td>13.000000</td>\n",
       "      <td>14.170000</td>\n",
       "      <td>...</td>\n",
       "      <td>14.100000</td>\n",
       "      <td>14.160000</td>\n",
       "      <td>16.250000</td>\n",
       "      <td>16.860000</td>\n",
       "      <td>16.500000</td>\n",
       "      <td>17.00000</td>\n",
       "      <td>12.875000</td>\n",
       "      <td>16.120000</td>\n",
       "      <td>16.300000</td>\n",
       "      <td>15.000000</td>\n",
       "    </tr>\n",
       "    <tr>\n",
       "      <th>max</th>\n",
       "      <td>55.00000</td>\n",
       "      <td>196.000000</td>\n",
       "      <td>16.491000</td>\n",
       "      <td>17.153000</td>\n",
       "      <td>16.968000</td>\n",
       "      <td>14.296000</td>\n",
       "      <td>16.195000</td>\n",
       "      <td>16.062000</td>\n",
       "      <td>17.000000</td>\n",
       "      <td>15.330000</td>\n",
       "      <td>...</td>\n",
       "      <td>17.700000</td>\n",
       "      <td>18.500000</td>\n",
       "      <td>18.800000</td>\n",
       "      <td>18.820000</td>\n",
       "      <td>18.000000</td>\n",
       "      <td>17.30000</td>\n",
       "      <td>16.000000</td>\n",
       "      <td>17.620000</td>\n",
       "      <td>18.700000</td>\n",
       "      <td>20.000000</td>\n",
       "    </tr>\n",
       "  </tbody>\n",
       "</table>\n",
       "<p>8 rows × 29 columns</p>\n",
       "</div>"
      ],
      "text/plain": [
       "         NumEtu     ParcSup     UE 2.1     UE 2.2     UE 2.3     UE 2.4  \\\n",
       "count  55.00000   54.000000  53.000000  53.000000  53.000000  53.000000   \n",
       "mean   28.00000   88.351852  13.219358  13.198717  12.757019  12.391113   \n",
       "std    16.02082   48.356053   1.773550   2.297124   2.177790   1.344343   \n",
       "min     1.00000    2.000000   9.043000   7.343000   8.538000   8.959000   \n",
       "25%    14.50000   46.500000  12.026000  11.863000  11.419000  11.286000   \n",
       "50%    28.00000   96.000000  13.608000  13.460000  12.802000  12.589000   \n",
       "75%    41.50000  132.500000  14.250000  15.198000  14.712000  13.526000   \n",
       "max    55.00000  196.000000  16.491000  17.153000  16.968000  14.296000   \n",
       "\n",
       "          UE 2.5     UE 2.6      R2.01      R2.02  ...      R2.12      R2.13  \\\n",
       "count  53.000000  53.000000  54.000000  53.000000  ...  54.000000  54.000000   \n",
       "mean   13.496755  13.489340  10.782407  13.129623  ...  12.774074  12.705000   \n",
       "std     1.357419   1.546739   3.101676   1.534004  ...   1.917957   1.987474   \n",
       "min    10.664000  10.128000   5.000000   9.580000  ...   8.500000   8.400000   \n",
       "25%    12.573000  12.340000   8.750000  12.250000  ...  11.200000  11.540000   \n",
       "50%    13.588000  13.877000  10.500000  13.630000  ...  12.800000  12.750000   \n",
       "75%    14.291000  14.654000  13.000000  14.170000  ...  14.100000  14.160000   \n",
       "max    16.195000  16.062000  17.000000  15.330000  ...  17.700000  18.500000   \n",
       "\n",
       "           R2.14      S2.01      S2.02     S2.03      S2.04      S2.05  \\\n",
       "count  53.000000  53.000000  54.000000  53.00000  54.000000  54.000000   \n",
       "mean   14.575472  15.543208  13.388889  15.54717  11.583333  14.820556   \n",
       "std     2.435132   2.650527   3.844460   1.44430   2.057545   1.851317   \n",
       "min     8.200000   8.330000   4.500000  12.70000   7.500000  11.500000   \n",
       "25%    13.250000  14.680000  11.750000  14.30000  10.000000  13.620000   \n",
       "50%    14.850000  15.580000  14.500000  15.70000  11.250000  14.995000   \n",
       "75%    16.250000  16.860000  16.500000  17.00000  12.875000  16.120000   \n",
       "max    18.800000  18.820000  18.000000  17.30000  16.000000  17.620000   \n",
       "\n",
       "           S2.06  Portfolio  \n",
       "count  53.000000  54.000000  \n",
       "mean   14.628302  13.555556  \n",
       "std     2.038795   2.254276  \n",
       "min    10.200000   5.000000  \n",
       "25%    13.300000  13.000000  \n",
       "50%    15.000000  14.000000  \n",
       "75%    16.300000  15.000000  \n",
       "max    18.700000  20.000000  \n",
       "\n",
       "[8 rows x 29 columns]"
      ]
     },
     "execution_count": 21,
     "metadata": {},
     "output_type": "execute_result"
    }
   ],
   "source": [
    "dp.describe()"
   ]
  },
  {
   "cell_type": "markdown",
   "id": "e734ca09",
   "metadata": {},
   "source": [
    "Nous pouvons maintenant commener notre étude statistique.\n",
    "\n",
    "Affichons les fréquences des différents baccalauréats obtenus :"
   ]
  },
  {
   "cell_type": "code",
   "execution_count": 22,
   "id": "20a41c09",
   "metadata": {
    "scrolled": true
   },
   "outputs": [
    {
     "data": {
      "text/plain": [
       "STI2D         0.490909\n",
       "NBGE          0.472727\n",
       "S-Sciences    0.018182\n",
       "STMG          0.018182\n",
       "Name: Bac, dtype: float64"
      ]
     },
     "execution_count": 22,
     "metadata": {},
     "output_type": "execute_result"
    }
   ],
   "source": [
    "dp.Bac.value_counts(normalize=True)"
   ]
  },
  {
   "cell_type": "markdown",
   "id": "acb9bed0",
   "metadata": {},
   "source": [
    "### Interprétation \n",
    "\n",
    "D'après les résultats obtenus, on constate que la majorité des étudiants proviennent de deux types de baccalauréat : STI2D et NBGE.\n",
    "\n",
    "Approximativement 49.09% des étudiants ont obtenu un baccalauréat STI2D, ce qui en fait le parcours de formation le plus commun parmi notre population étudiante. Cela pourrait indiquer que notre institution attire principalement les étudiants avec un fort intérêt pour les sciences et technologies ou qu'elle offre des programmes d'études particulièrement adaptés à ceux issus de cette filière.\n",
    "\n",
    "Environ 47.27% des étudiants se regroupent dans la catégorie NBGE soit les bacs généraux. Cela montre une grande diversité parmi nos étudiants en indiquant que les programmes peuvent être adaptés à une variété de parcours académiques antérieurs.\n",
    "\n",
    "En revanche, les baccalauréats S-Sciences et STMG sont nettement moins représentés avec seulement 1.82% des étudiants pour chacun. Cela peut indiquer que les étudiants issus de ces filières sont soit moins nombreux à choisir notre institution pour leur enseignement supérieur soit qu'ils sont moins nombreux dans l'ensemble."
   ]
  },
  {
   "cell_type": "markdown",
   "id": "c43eeb7e",
   "metadata": {},
   "source": [
    "### 2.B Répartition des mentions obtenues par les étudiants<a class=\"anchor\" id=\"sec2.2\"></a>"
   ]
  },
  {
   "cell_type": "code",
   "execution_count": 23,
   "id": "351ce6a2",
   "metadata": {},
   "outputs": [
    {
     "name": "stdout",
     "output_type": "stream",
     "text": [
      "   NumEtu    Naissance         Bac  ParcSup  UE 2.1  UE 2.2  UE 2.3  UE 2.4  \\\n",
      "0       1   15/12/2002  S-Sciences    137.0  13.608  14.705  13.824  12.733   \n",
      "1       2   25/04/2002       STI2D      NaN  12.608  12.878  10.790  10.545   \n",
      "2       3   11/10/2003       STI2D    133.0  11.951  12.013  11.425  10.400   \n",
      "3       4   21/06/2002       STI2D     14.0  16.491  15.345  15.389  13.648   \n",
      "4       5   16/11/2003        NBGE    113.0  14.253  16.078  11.546  13.192   \n",
      "\n",
      "   UE 2.5  UE 2.6  ...  R2.14  S2.01  S2.02  S2.03  S2.04  S2.05  S2.06  \\\n",
      "0  14.291  14.730  ...  14.85  14.68   13.5   16.0   12.5  15.37   17.0   \n",
      "1  10.664  13.987  ...  13.25  16.41   13.5   17.3   10.0  11.50   17.0   \n",
      "2  12.272  14.095  ...  14.25  16.86   16.0   17.0   10.0  14.25   16.3   \n",
      "3  16.195  14.980  ...  13.45  17.11   16.5   17.3   11.0  17.37   15.7   \n",
      "4  14.996  14.962  ...  15.55  16.53   16.5   16.0   10.0  14.87   15.7   \n",
      "\n",
      "   Portfolio    Moyenne         Mention  \n",
      "0       13.0  13.981833      Assez bien  \n",
      "1       12.0  11.912000  Pas de mention  \n",
      "2       12.0  12.026000      Assez bien  \n",
      "3       15.0  15.341333            Bien  \n",
      "4       13.0  14.171167            Bien  \n",
      "\n",
      "[5 rows x 33 columns]\n"
     ]
    }
   ],
   "source": [
    "# Calculer la moyenne des UE pour chaque étudiant dans une nouvelle colonne\n",
    "dp['Moyenne'] = dp[['UE 2.1', 'UE 2.2', 'UE 2.3', 'UE 2.4', 'UE 2.5', 'UE 2.6']].mean(axis=1)\n",
    "\n",
    "# Ajout de la colonne 'Mention' avec une valeur par défaut \"\"\n",
    "dp['Mention'] = 'Très bien'\n",
    "# Condition pour modifier la valeur de 'Mention' en 'Très bien', 'Bien', 'Assez bien' suivant la moyenne des étudiants\n",
    "dp.loc[dp['Moyenne'] >= 16, 'Mention'] = 'Très bien'\n",
    "dp.loc[(dp['Moyenne'] >= 14) & (dp['Moyenne'] < 16), 'Mention'] = 'Bien'\n",
    "dp.loc[(dp['Moyenne'] >= 12) & (dp['Moyenne'] < 14), 'Mention'] = 'Assez bien'\n",
    "dp.loc[dp['Moyenne'] < 12, 'Mention'] = 'Pas de mention'\n",
    "\n",
    "# Affichage des premières lignes du DataFrame modifié\n",
    "print(dp.head())"
   ]
  },
  {
   "cell_type": "markdown",
   "id": "4899a353",
   "metadata": {},
   "source": [
    "Observons maintenant les fréquences de notre nouvelle variable, et générons son diagramme en bâtons :"
   ]
  },
  {
   "cell_type": "code",
   "execution_count": 24,
   "id": "effa7ea4",
   "metadata": {},
   "outputs": [
    {
     "data": {
      "text/plain": [
       "Assez bien        0.490909\n",
       "Bien              0.254545\n",
       "Pas de mention    0.218182\n",
       "Très bien         0.036364\n",
       "Name: Mention, dtype: float64"
      ]
     },
     "execution_count": 24,
     "metadata": {},
     "output_type": "execute_result"
    }
   ],
   "source": [
    "dp.Mention.value_counts(normalize = True)\n",
    "dp.Mention.value_counts(normalize = True).sort_index()"
   ]
  },
  {
   "cell_type": "code",
   "execution_count": 25,
   "id": "454118f1",
   "metadata": {},
   "outputs": [
    {
     "data": {
      "text/plain": [
       "<seaborn.axisgrid.FacetGrid at 0x7fb24a6e2730>"
      ]
     },
     "execution_count": 25,
     "metadata": {},
     "output_type": "execute_result"
    },
    {
     "data": {
      "image/png": "[encoded data removed]",
      "text/plain": [
       "<Figure size 500x500 with 1 Axes>"
      ]
     },
     "metadata": {},
     "output_type": "display_data"
    }
   ],
   "source": [
    "d = sns.catplot(x='Mention', data=dp, kind='count')\n",
    "d.set(xlabel='Mention',\n",
    "      ylabel='Effectif',\n",
    "      title='Combien d\\'étudiants ont obtenu une mention et laquelle ?')"
   ]
  },
  {
   "cell_type": "markdown",
   "id": "9c0e356c",
   "metadata": {},
   "source": [
    "### Interprétation\n",
    "\n",
    "Ces résultats indiquent la répartition des mentions obtenues par les étudiants. Les valeurs sont présentées en proportions ou en pourcentages. Pour interpréter les résultats, on peut dire :\n",
    "\n",
    "\"Assez bien\" : environ 49,09% des étudiants ont obtenu la mention \"Assez bien\". C'est la mention la plus couramment obtenue dans ce groupe.\n",
    "\n",
    "\"Bien\" : environ 25,45% des étudiants ont obtenu la mention \"Bien\". C'est la deuxième mention la plus couramment obtenue.\n",
    "\n",
    "\"Pas de mention\" : environ 21,82% des étudiants n'ont pas obtenu de mention. Cela peut indiquer qu'ils n'ont pas atteint le niveau de performance requis pour obtenir une mention.\n",
    "\n",
    "\"Très bien\" : environ 3,64% des étudiants ont obtenu la mention \"Très bien\". C'est la mention la moins couramment obtenue, ce qui suggère que seuls quelques étudiants ont atteint un niveau de performance exceptionnellement élevé."
   ]
  },
  {
   "cell_type": "markdown",
   "id": "5bf13693",
   "metadata": {},
   "source": [
    "### 2.C Proportion des étudiants en situation de \"ajac\", \"passe\" ou \"ne passe pas\"<a class=\"anchor\" id=\"sec2.3\"></a>"
   ]
  },
  {
   "cell_type": "code",
   "execution_count": 26,
   "id": "edd0b02d",
   "metadata": {},
   "outputs": [],
   "source": [
    "import numpy as np\n",
    "import pandas as pd\n",
    "import seaborn as sns"
   ]
  },
  {
   "cell_type": "code",
   "execution_count": 27,
   "id": "02679ea7",
   "metadata": {},
   "outputs": [
    {
     "name": "stdout",
     "output_type": "stream",
     "text": [
      "Index(['NumEtu', 'Naissance', 'Bac', 'ParcSup', 'UE 2.1', 'UE 2.2', 'UE 2.3',\n",
      "       'UE 2.4', 'UE 2.5', 'UE 2.6', 'R2.01', 'R2.02', 'R2.03', 'R2.04',\n",
      "       'R2.05', 'R2.06', 'R2.07', 'R2.08', 'R2.09', 'R2.10', 'R2.11', 'R2.12',\n",
      "       'R2.13', 'R2.14', 'S2.01', 'S2.02', 'S2.03', 'S2.04', 'S2.05', 'S2.06',\n",
      "       'Portfolio', 'Moyenne', 'Mention'],\n",
      "      dtype='object')\n"
     ]
    }
   ],
   "source": [
    "print(dp.columns)\n",
    "def passe(row):\n",
    "    list_UE = ['UE 2.1','UE 2.2','UE 2.3','UE 2.4','UE 2.5','UE 2.6']\n",
    "    compteur = 0\n",
    "    for ue in list_UE:\n",
    "        note = float(row[ue])\n",
    "        if note < 10:\n",
    "            if note < 8:\n",
    "                return \"Ne passe pas\"\n",
    "            compteur += 1\n",
    "    if compteur > 2:\n",
    "        return \"Ne passe pas\"\n",
    "    elif 2 >= compteur > 0:\n",
    "        return \"Ajac\"\n",
    "    else:\n",
    "        return \"Passe\"\n",
    "\n",
    "dp[\"Passe ?\"] = dp.apply(passe, axis=1)"
   ]
  },
  {
   "cell_type": "markdown",
   "id": "119f2e28",
   "metadata": {},
   "source": [
    "Observons maintenant les fréquences de notre nouvelle variable, et générons son diagramme en bâtons :"
   ]
  },
  {
   "cell_type": "code",
   "execution_count": 28,
   "id": "482bd772",
   "metadata": {},
   "outputs": [
    {
     "data": {
      "text/plain": [
       "Ajac            0.127273\n",
       "Ne passe pas    0.036364\n",
       "Passe           0.836364\n",
       "Name: Passe ?, dtype: float64"
      ]
     },
     "execution_count": 28,
     "metadata": {},
     "output_type": "execute_result"
    }
   ],
   "source": [
    "dp['Passe ?'].value_counts(normalize = True)\n",
    "dp['Passe ?'].value_counts(normalize = True).sort_index()"
   ]
  },
  {
   "cell_type": "code",
   "execution_count": 29,
   "id": "5f8ccc87",
   "metadata": {},
   "outputs": [
    {
     "data": {
      "text/plain": [
       "<seaborn.axisgrid.FacetGrid at 0x7fb24a689a00>"
      ]
     },
     "execution_count": 29,
     "metadata": {},
     "output_type": "execute_result"
    },
    {
     "data": {
      "image/png": "[encoded data removed]",
      "text/plain": [
       "<Figure size 500x500 with 1 Axes>"
      ]
     },
     "metadata": {},
     "output_type": "display_data"
    }
   ],
   "source": [
    "d = sns.catplot(x='Passe ?', data=dp, kind='count')\n",
    "d.set(xlabel='Passe ?',\n",
    "      ylabel='Effectif',\n",
    "      title='Combien d étudiants passent leur année et dans quelle condition ?')"
   ]
  },
  {
   "cell_type": "markdown",
   "id": "7f2989f2",
   "metadata": {},
   "source": [
    "### Interprétation\n",
    "\n",
    "Ces résultats indiquent la répartition des situations des étudiants à la fin de l'année scolaire dans un groupe ou une population donnée. Les valeurs sont présentées en proportions ou en pourcentages. Voici comment on peut interpréter ces résultats :\n",
    "\n",
    "\"Ajac\" (Ajourné mais autorisé à continuer) : environ 12,73% des étudiants sont dans cette situation. Cela signifie que ces étudiants n'ont pas réussi à valider toutes leurs matières, mais qu'ils sont autorisés à continuer leurs études tout en devant rattraper les matières non validées.\n",
    "\n",
    "\"Ne passe pas\" : environ 3,64% des étudiants se trouvent dans cette situation. Cela signifie que ces étudiants n'ont pas réussi à valider l'année et doivent la redoubler.\n",
    "\n",
    "\"Passe\" : environ 83,64% des étudiants sont dans cette situation. Cela signifie que ces étudiants ont réussi à valider toutes leurs matières et peuvent passer à l'année suivante."
   ]
  },
  {
   "cell_type": "markdown",
   "id": "3fbe5d06",
   "metadata": {},
   "source": [
    "### 2.D Lien entre le type de baccalauréat et les mentions obtenues<a class=\"anchor\" id=\"sec2.4\"></a>"
   ]
  },
  {
   "cell_type": "code",
   "execution_count": 40,
   "id": "921acbb2",
   "metadata": {},
   "outputs": [
    {
     "name": "stdout",
     "output_type": "stream",
     "text": [
      "Mention     Assez bien  Bien  Pas de mention  Très bien\n",
      "Bac                                                    \n",
      "NBGE              12.0  11.0             3.0        0.0\n",
      "S-Sciences         1.0   0.0             0.0        0.0\n",
      "STI2D             13.0   3.0             9.0        2.0\n",
      "STMG               1.0   0.0             0.0        0.0\n",
      "Total             27.0  14.0            12.0        2.0\n"
     ]
    }
   ],
   "source": [
    "result = dp.groupby(['Bac','Mention']).size().unstack(fill_value=0)\n",
    "result.loc['Total',:] = result.sum(axis=0)\n",
    "print(result)"
   ]
  },
  {
   "cell_type": "code",
   "execution_count": 15,
   "id": "24717cc6",
   "metadata": {},
   "outputs": [
    {
     "data": {
      "text/plain": [
       "<seaborn.axisgrid.FacetGrid at 0x7ff3fa9fd820>"
      ]
     },
     "execution_count": 15,
     "metadata": {},
     "output_type": "execute_result"
    },
    {
     "data": {
      "image/png": "[encoded data removed]",
      "text/plain": [
       "<Figure size 657x500 with 1 Axes>"
      ]
     },
     "metadata": {},
     "output_type": "display_data"
    }
   ],
   "source": [
    "sns.catplot(data = dp, x = 'Bac', hue = 'Mention', kind='count')"
   ]
  },
  {
   "cell_type": "code",
   "execution_count": 16,
   "id": "3c5c63fd",
   "metadata": {
    "scrolled": false
   },
   "outputs": [
    {
     "name": "stdout",
     "output_type": "stream",
     "text": [
      "p-value = 0.20720244280098812\n",
      "valeur du chi2 = 12.109571669756853\n",
      "degrés de liberté = 9\n",
      "valeurs théoriques sous l'hypothèses d'indépendance = [[12.76363636  6.61818182  5.67272727  0.94545455]\n",
      " [ 0.49090909  0.25454545  0.21818182  0.03636364]\n",
      " [13.25454545  6.87272727  5.89090909  0.98181818]\n",
      " [ 0.49090909  0.25454545  0.21818182  0.03636364]]\n"
     ]
    },
    {
     "data": {
      "text/plain": [
       "<AxesSubplot: xlabel='Mention', ylabel='Bac'>"
      ]
     },
     "execution_count": 16,
     "metadata": {},
     "output_type": "execute_result"
    },
    {
     "data": {
      "image/png": "[encoded data removed]",
      "text/plain": [
       "<Figure size 640x480 with 2 Axes>"
      ]
     },
     "metadata": {},
     "output_type": "display_data"
    }
   ],
   "source": [
    "contingence = pd.crosstab(dp.TypeBac,dp.Mention)\n",
    "\n",
    "from scipy.stats import chi2_contingency\n",
    "c, p, dof, expected = chi2_contingency(contingence) \n",
    "\n",
    "print(\"p-value =\",p)\n",
    "print(\"valeur du chi2 =\",c)\n",
    "print(\"degrés de liberté =\",dof)\n",
    "print(\"valeurs théoriques sous l'hypothèses d'indépendance =\",expected)\n",
    "\n",
    "sns.heatmap(contingence, annot=True, cmap=\"YlGnBu\")"
   ]
  },
  {
   "cell_type": "markdown",
   "id": "db39a9e1",
   "metadata": {},
   "source": [
    "### Interprétation\n",
    "\n",
    "\n",
    "Ces résultats montrent le nombre d'étudiants ayant obtenu différentes mentions en fonction du type de baccalauréat qu'ils ont passé. \n",
    "\n",
    "Pour les étudiants ayant un baccalauréat NBGE :\n",
    "\n",
    "12 étudiants ont obtenu la mention 'Assez bien'\n",
    "11 étudiants ont obtenu la mention 'Bien'\n",
    "3 étudiants n'ont pas obtenu de mention\n",
    "Aucun étudiant n'a obtenu la mention 'Très bien'\n",
    "\n",
    "Pour les étudiants ayant un baccalauréat en Sciences :\n",
    "\n",
    "1 étudiant a obtenu la mention 'Assez bien'\n",
    "Aucun étudiant n'a obtenu la mention 'Bien', 'Très bien' ou 'Pas de mention'\n",
    "\n",
    "Pour les étudiants ayant un baccalauréat STI2D :\n",
    "\n",
    "13 étudiants ont obtenu la mention 'Assez bien'\n",
    "3 étudiants ont obtenu la mention 'Bien'\n",
    "9 étudiants n'ont pas obtenu de mention\n",
    "2 étudiants ont obtenu la mention 'Très bien'\n",
    "\n",
    "Pour les étudiants ayant un baccalauréat STMG :\n",
    "\n",
    "1 étudiant a obtenu la mention 'Assez bien'\n",
    "Aucun étudiant n'a obtenu la mention 'Bien', 'Très bien' ou 'Pas de mention'\n",
    "\n",
    "Au total :\n",
    "\n",
    "27 étudiants ont obtenu la mention 'Assez bien'\n",
    "14 étudiants ont obtenu la mention 'Bien'\n",
    "12 étudiants n'ont pas obtenu de mention\n",
    "2 étudiants ont obtenu la mention 'Très bien'\n",
    "\n",
    "On constate que les étudiants issues d'un baccalauréat NBGE ont plus de facilité à obtenir un mention 'Bien' que ceux issues d'autres filières. Les étudiants qui proviennent d'un baccalauréat STMGC ont plus de difficultés à obtenir des mentions. \n",
    "\n",
    "Les résultats peuvent aider à comprendre comment différents types de baccalauréat pourraient influencer les performances académiques des étudiants bien que de nombreux autres facteurs puissent également être en jeu. \n",
    "\n",
    "Chi2_contingency:\n",
    "\n",
    "\n",
    "Le chi2 est une mesure de la différence entre vos données observées et les valeurs que vous attendriez si l'hypothèse nulle était vraie. Dans votre cas, le chi2 est de 9.5959. Plus cette valeur est grande, plus la différence entre vos données observées et les valeurs attendues est grande.\n",
    "\n",
    "Les degrés de liberté sont le nombre de valeurs dans les données finales qui sont libres de varier. Dans votre cas, les degrés de liberté sont de 3.\n",
    "\n",
    "Une p-valeur de 0.02233 indique qu'il y a suffisamment de preuves dans vos données pour rejeter l'hypothèse d'indépendance. En d'autres termes, vos résultats suggèrent qu'il y a une relation statistiquement significative entre le type de baccalauréat et les mentions obtenues.\n",
    "\n",
    "Cependant, il est important de noter que la réjection de l'hypothèse d'indépendance ne prouve pas une relation de cause à effet entre les deux variables. Cela signifie simplement qu'elles sont associées d'une manière ou d'une autre dans votre échantillon de données."
   ]
  },
  {
   "cell_type": "markdown",
   "id": "55e8d79c",
   "metadata": {},
   "source": [
    "### 2.E Lien entre le type de baccalauréat et leurs situations \"ajac\",\"passe\" ou \"ne passe pas\" <a class=\"anchor\" id=\"sec2.5\"></a>"
   ]
  },
  {
   "cell_type": "code",
   "execution_count": 41,
   "id": "f912b2ff",
   "metadata": {},
   "outputs": [
    {
     "name": "stdout",
     "output_type": "stream",
     "text": [
      "Passe ?     Ajac  Ne passe pas  Passe\n",
      "Bac                                  \n",
      "NBGE         4.0           0.0   22.0\n",
      "S-Sciences   0.0           0.0    1.0\n",
      "STI2D        3.0           2.0   22.0\n",
      "STMG         0.0           0.0    1.0\n",
      "Total        7.0           2.0   46.0\n"
     ]
    }
   ],
   "source": [
    "result = dp.groupby(['TypeBac', 'Passe ?']).size().unstack(fill_value=0)\n",
    "result.loc['Total',:] = result.sum(axis=0)\n",
    "print(result)"
   ]
  },
  {
   "cell_type": "code",
   "execution_count": 34,
   "id": "3f50dda6",
   "metadata": {},
   "outputs": [
    {
     "data": {
      "text/plain": [
       "<seaborn.axisgrid.FacetGrid at 0x7fb24a68ed00>"
      ]
     },
     "execution_count": 34,
     "metadata": {},
     "output_type": "execute_result"
    },
    {
     "data": {
      "image/png": "[encoded data removed]",
      "text/plain": [
       "<Figure size 642.5x500 with 1 Axes>"
      ]
     },
     "metadata": {},
     "output_type": "display_data"
    }
   ],
   "source": [
    "sns.catplot(data = dp, x = 'TypeBac', hue = 'Passe ?', kind='count')"
   ]
  },
  {
   "cell_type": "markdown",
   "id": "a87524e4",
   "metadata": {},
   "source": [
    "### Interprétation\n",
    "\n",
    "Ce tableau présente le lien entre le type de baccalauréat obtenu par les étudiants et leur situation académique.\n",
    "\n",
    "Pour le baccalauréat général :\n",
    "\n",
    "4 étudiants sont en situation \"Ajac\",\n",
    "Aucun étudiant n'est dans la situation \"Ne passe pas\",\n",
    "23 étudiants sont dans la situation \"Passe\"\n",
    "\n",
    "Pour le baccalauréat technologique :\n",
    "\n",
    "3 étudiants sont en situation \"Ajac\",\n",
    "2 étudiants sont dans la situation \"Ne passe pas\",\n",
    "21 étudiants sont dans la situation \"Passe\". \n",
    "\n",
    "En somme, la majorité des étudiants \"passent\" leur année, quel que soit le type de baccalauréat qu'ils ont obtenu. Les situations \"ajac\" et \"ne passe pas\" sont moins courantes. Les étudiants ayant obtenu un baccalauréat généraux semblent avoir une légère tendance à mieux performer académiquement."
   ]
  },
  {
   "cell_type": "markdown",
   "id": "6679f182",
   "metadata": {},
   "source": [
    "## 3. Analyse des absences<a class=\"anchor\" id=\"sec3\"></a>"
   ]
  },
  {
   "cell_type": "markdown",
   "id": "15218ee7",
   "metadata": {},
   "source": [
    "La seconde partie de notre étude se penche sur l'analyse des absences. La fréquentation scolaire est un indicateur crucial de l'engagement des étudiants.\n",
    "\n",
    "Nous examinerons d'abord la répartition des absences justifiées et injustifiées. Cette analyse nous aidera à identifier la proportion d'absences pour lesquelles il existe une raison valable par rapport à celles où aucune justification n'est fournie.\n",
    "\n",
    "Ensuite, nous étudierons l'absentéisme en fonction de la période de la journée, en comparant les taux d'absences le matin et l'après-midi. Cela pourrait révéler des tendances intéressantes sur les préférences ou contraintes des étudiants concernant les horaires des cours.\n",
    "\n",
    "Nous analyserons également l'évolution du nombre d'absences selon le type de cours. Cela pourrait nous aider à identifier si certains cours sont associés à un taux d'absentéisme plus élevé.\n",
    "\n",
    "Ensuite, nous explorerons l'impact de l'enseignant sur la durée du retard et le nombre d'absences, et le lien entre le jour de la semaine et le taux d'absentéisme. Ces analyses pourraient mettre en évidence d'éventuels facteurs externes influençant l'absentéisme.\n",
    "\n",
    "Enfin, nous enquêterons sur le lien entre le jour de la semaine et la justification des absences, ainsi que l'analyse de l'absentéisme en fonction du motif d'absence.\n",
    "\n",
    "Nous avons décider pour cette partie de modifier la base de donnée. Nous expliquons ce choix par le fait que nous allons étudié les absences des étudiants hors certains d'entre eux ont décidé d'abandonner leurs cursus ce qui influence de manière à biaiser les résultats. En effet, on pourrait se retrouver avec un nombre d'absences accrus à cause de cette situation."
   ]
  },
  {
   "cell_type": "markdown",
   "id": "b9f7c1ac",
   "metadata": {},
   "source": [
    "### 3.A Répartition des absences justifiées et injustifiées<a class=\"anchor\" id=\"sec3.1\"></a>"
   ]
  },
  {
   "cell_type": "markdown",
   "id": "22194141",
   "metadata": {},
   "source": [
    "Commençons par importer la base de données ainsi que les librairies nécessaires :"
   ]
  },
  {
   "cell_type": "code",
   "execution_count": 25,
   "id": "de9c7548",
   "metadata": {},
   "outputs": [],
   "source": [
    "import numpy as np\n",
    "import pandas as pd\n",
    "import seaborn as sns\n",
    "import matplotlib.pyplot as plt"
   ]
  },
  {
   "cell_type": "code",
   "execution_count": 26,
   "id": "a5f89868",
   "metadata": {},
   "outputs": [],
   "source": [
    "df = pd.read_csv('absences.csv', sep = ';', decimal=\",\")"
   ]
  },
  {
   "cell_type": "code",
   "execution_count": 27,
   "id": "20ed595e",
   "metadata": {},
   "outputs": [],
   "source": [
    "df.drop([98,180,181,186,187,188,195,290,293,294,295], inplace=True)"
   ]
  },
  {
   "cell_type": "code",
   "execution_count": 28,
   "id": "136253b2",
   "metadata": {},
   "outputs": [
    {
     "data": {
      "text/html": [
       "<div>\n",
       "<style scoped>\n",
       "    .dataframe tbody tr th:only-of-type {\n",
       "        vertical-align: middle;\n",
       "    }\n",
       "\n",
       "    .dataframe tbody tr th {\n",
       "        vertical-align: top;\n",
       "    }\n",
       "\n",
       "    .dataframe thead th {\n",
       "        text-align: right;\n",
       "    }\n",
       "</style>\n",
       "<table border=\"1\" class=\"dataframe\">\n",
       "  <thead>\n",
       "    <tr style=\"text-align: right;\">\n",
       "      <th></th>\n",
       "      <th>Date</th>\n",
       "      <th>NumEtu</th>\n",
       "      <th>Nature</th>\n",
       "      <th>DureeRetard</th>\n",
       "      <th>Justifiee</th>\n",
       "      <th>Excusee</th>\n",
       "      <th>Enseignant</th>\n",
       "      <th>Cours</th>\n",
       "      <th>Type</th>\n",
       "      <th>DureeCours</th>\n",
       "    </tr>\n",
       "  </thead>\n",
       "  <tbody>\n",
       "    <tr>\n",
       "      <th>0</th>\n",
       "      <td>2021-10-26T13:30:00</td>\n",
       "      <td>31</td>\n",
       "      <td>absence</td>\n",
       "      <td>NaN</td>\n",
       "      <td>True</td>\n",
       "      <td>False</td>\n",
       "      <td>Nathalie VIEILLARD</td>\n",
       "      <td>Portfolio</td>\n",
       "      <td>TP</td>\n",
       "      <td>90</td>\n",
       "    </tr>\n",
       "    <tr>\n",
       "      <th>1</th>\n",
       "      <td>2021-11-15T09:15:00</td>\n",
       "      <td>15</td>\n",
       "      <td>absence</td>\n",
       "      <td>NaN</td>\n",
       "      <td>True</td>\n",
       "      <td>False</td>\n",
       "      <td>Nathalie VIEILLARD</td>\n",
       "      <td>Portfolio</td>\n",
       "      <td>TP</td>\n",
       "      <td>90</td>\n",
       "    </tr>\n",
       "    <tr>\n",
       "      <th>2</th>\n",
       "      <td>2021-11-29T09:00:00</td>\n",
       "      <td>33</td>\n",
       "      <td>absence</td>\n",
       "      <td>NaN</td>\n",
       "      <td>True</td>\n",
       "      <td>False</td>\n",
       "      <td>Nathalie VIEILLARD</td>\n",
       "      <td>Portfolio</td>\n",
       "      <td>TP</td>\n",
       "      <td>90</td>\n",
       "    </tr>\n",
       "    <tr>\n",
       "      <th>3</th>\n",
       "      <td>2021-11-30T15:00:00</td>\n",
       "      <td>13</td>\n",
       "      <td>absence</td>\n",
       "      <td>NaN</td>\n",
       "      <td>True</td>\n",
       "      <td>False</td>\n",
       "      <td>Nathalie VIEILLARD</td>\n",
       "      <td>Portfolio</td>\n",
       "      <td>TP</td>\n",
       "      <td>90</td>\n",
       "    </tr>\n",
       "    <tr>\n",
       "      <th>4</th>\n",
       "      <td>2021-12-10T08:00:00</td>\n",
       "      <td>31</td>\n",
       "      <td>absence</td>\n",
       "      <td>NaN</td>\n",
       "      <td>True</td>\n",
       "      <td>False</td>\n",
       "      <td>Nathalie VIEILLARD</td>\n",
       "      <td>Portfolio</td>\n",
       "      <td>TP</td>\n",
       "      <td>90</td>\n",
       "    </tr>\n",
       "    <tr>\n",
       "      <th>...</th>\n",
       "      <td>...</td>\n",
       "      <td>...</td>\n",
       "      <td>...</td>\n",
       "      <td>...</td>\n",
       "      <td>...</td>\n",
       "      <td>...</td>\n",
       "      <td>...</td>\n",
       "      <td>...</td>\n",
       "      <td>...</td>\n",
       "      <td>...</td>\n",
       "    </tr>\n",
       "    <tr>\n",
       "      <th>297</th>\n",
       "      <td>2022-06-09T09:00:00</td>\n",
       "      <td>12</td>\n",
       "      <td>absence</td>\n",
       "      <td>NaN</td>\n",
       "      <td>True</td>\n",
       "      <td>False</td>\n",
       "      <td>Pierre LAFORCADE</td>\n",
       "      <td>R2.03</td>\n",
       "      <td>TP</td>\n",
       "      <td>180</td>\n",
       "    </tr>\n",
       "    <tr>\n",
       "      <th>298</th>\n",
       "      <td>2022-06-09T09:00:00</td>\n",
       "      <td>17</td>\n",
       "      <td>absence</td>\n",
       "      <td>NaN</td>\n",
       "      <td>False</td>\n",
       "      <td>False</td>\n",
       "      <td>Xavier DUBOURG</td>\n",
       "      <td>R2.14</td>\n",
       "      <td>TP</td>\n",
       "      <td>180</td>\n",
       "    </tr>\n",
       "    <tr>\n",
       "      <th>299</th>\n",
       "      <td>2022-06-09T09:00:00</td>\n",
       "      <td>31</td>\n",
       "      <td>absence</td>\n",
       "      <td>NaN</td>\n",
       "      <td>False</td>\n",
       "      <td>False</td>\n",
       "      <td>Bérénice LEMOINE</td>\n",
       "      <td>R2.03</td>\n",
       "      <td>TP</td>\n",
       "      <td>180</td>\n",
       "    </tr>\n",
       "    <tr>\n",
       "      <th>300</th>\n",
       "      <td>2022-06-09T13:30:00</td>\n",
       "      <td>3</td>\n",
       "      <td>absence</td>\n",
       "      <td>NaN</td>\n",
       "      <td>False</td>\n",
       "      <td>False</td>\n",
       "      <td>Bérénice LEMOINE</td>\n",
       "      <td>S2.01</td>\n",
       "      <td>TP</td>\n",
       "      <td>90</td>\n",
       "    </tr>\n",
       "    <tr>\n",
       "      <th>301</th>\n",
       "      <td>2022-06-09T13:30:00</td>\n",
       "      <td>12</td>\n",
       "      <td>absence</td>\n",
       "      <td>NaN</td>\n",
       "      <td>True</td>\n",
       "      <td>False</td>\n",
       "      <td>Bérénice LEMOINE</td>\n",
       "      <td>S2.01</td>\n",
       "      <td>TP</td>\n",
       "      <td>90</td>\n",
       "    </tr>\n",
       "  </tbody>\n",
       "</table>\n",
       "<p>291 rows × 10 columns</p>\n",
       "</div>"
      ],
      "text/plain": [
       "                    Date  NumEtu   Nature  DureeRetard  Justifiee  Excusee  \\\n",
       "0    2021-10-26T13:30:00      31  absence          NaN       True    False   \n",
       "1    2021-11-15T09:15:00      15  absence          NaN       True    False   \n",
       "2    2021-11-29T09:00:00      33  absence          NaN       True    False   \n",
       "3    2021-11-30T15:00:00      13  absence          NaN       True    False   \n",
       "4    2021-12-10T08:00:00      31  absence          NaN       True    False   \n",
       "..                   ...     ...      ...          ...        ...      ...   \n",
       "297  2022-06-09T09:00:00      12  absence          NaN       True    False   \n",
       "298  2022-06-09T09:00:00      17  absence          NaN      False    False   \n",
       "299  2022-06-09T09:00:00      31  absence          NaN      False    False   \n",
       "300  2022-06-09T13:30:00       3  absence          NaN      False    False   \n",
       "301  2022-06-09T13:30:00      12  absence          NaN       True    False   \n",
       "\n",
       "             Enseignant      Cours Type  DureeCours  \n",
       "0    Nathalie VIEILLARD  Portfolio   TP          90  \n",
       "1    Nathalie VIEILLARD  Portfolio   TP          90  \n",
       "2    Nathalie VIEILLARD  Portfolio   TP          90  \n",
       "3    Nathalie VIEILLARD  Portfolio   TP          90  \n",
       "4    Nathalie VIEILLARD  Portfolio   TP          90  \n",
       "..                  ...        ...  ...         ...  \n",
       "297    Pierre LAFORCADE      R2.03   TP         180  \n",
       "298      Xavier DUBOURG      R2.14   TP         180  \n",
       "299    Bérénice LEMOINE      R2.03   TP         180  \n",
       "300    Bérénice LEMOINE      S2.01   TP          90  \n",
       "301    Bérénice LEMOINE      S2.01   TP          90  \n",
       "\n",
       "[291 rows x 10 columns]"
      ]
     },
     "execution_count": 28,
     "metadata": {},
     "output_type": "execute_result"
    }
   ],
   "source": [
    "df.head(291)"
   ]
  },
  {
   "cell_type": "code",
   "execution_count": 29,
   "id": "461d7719",
   "metadata": {},
   "outputs": [
    {
     "data": {
      "text/html": [
       "<div>\n",
       "<style scoped>\n",
       "    .dataframe tbody tr th:only-of-type {\n",
       "        vertical-align: middle;\n",
       "    }\n",
       "\n",
       "    .dataframe tbody tr th {\n",
       "        vertical-align: top;\n",
       "    }\n",
       "\n",
       "    .dataframe thead th {\n",
       "        text-align: right;\n",
       "    }\n",
       "</style>\n",
       "<table border=\"1\" class=\"dataframe\">\n",
       "  <thead>\n",
       "    <tr style=\"text-align: right;\">\n",
       "      <th></th>\n",
       "      <th>NumEtu</th>\n",
       "      <th>DureeRetard</th>\n",
       "      <th>DureeCours</th>\n",
       "    </tr>\n",
       "  </thead>\n",
       "  <tbody>\n",
       "    <tr>\n",
       "      <th>count</th>\n",
       "      <td>296.000000</td>\n",
       "      <td>4.000000</td>\n",
       "      <td>296.000000</td>\n",
       "    </tr>\n",
       "    <tr>\n",
       "      <th>mean</th>\n",
       "      <td>26.256757</td>\n",
       "      <td>50.000000</td>\n",
       "      <td>106.959459</td>\n",
       "    </tr>\n",
       "    <tr>\n",
       "      <th>std</th>\n",
       "      <td>15.693946</td>\n",
       "      <td>22.730303</td>\n",
       "      <td>39.977261</td>\n",
       "    </tr>\n",
       "    <tr>\n",
       "      <th>min</th>\n",
       "      <td>1.000000</td>\n",
       "      <td>25.000000</td>\n",
       "      <td>30.000000</td>\n",
       "    </tr>\n",
       "    <tr>\n",
       "      <th>25%</th>\n",
       "      <td>13.000000</td>\n",
       "      <td>40.000000</td>\n",
       "      <td>90.000000</td>\n",
       "    </tr>\n",
       "    <tr>\n",
       "      <th>50%</th>\n",
       "      <td>28.500000</td>\n",
       "      <td>47.500000</td>\n",
       "      <td>90.000000</td>\n",
       "    </tr>\n",
       "    <tr>\n",
       "      <th>75%</th>\n",
       "      <td>39.500000</td>\n",
       "      <td>57.500000</td>\n",
       "      <td>90.000000</td>\n",
       "    </tr>\n",
       "    <tr>\n",
       "      <th>max</th>\n",
       "      <td>55.000000</td>\n",
       "      <td>80.000000</td>\n",
       "      <td>180.000000</td>\n",
       "    </tr>\n",
       "  </tbody>\n",
       "</table>\n",
       "</div>"
      ],
      "text/plain": [
       "           NumEtu  DureeRetard  DureeCours\n",
       "count  296.000000     4.000000  296.000000\n",
       "mean    26.256757    50.000000  106.959459\n",
       "std     15.693946    22.730303   39.977261\n",
       "min      1.000000    25.000000   30.000000\n",
       "25%     13.000000    40.000000   90.000000\n",
       "50%     28.500000    47.500000   90.000000\n",
       "75%     39.500000    57.500000   90.000000\n",
       "max     55.000000    80.000000  180.000000"
      ]
     },
     "execution_count": 29,
     "metadata": {},
     "output_type": "execute_result"
    }
   ],
   "source": [
    "df.describe()"
   ]
  },
  {
   "cell_type": "markdown",
   "id": "049ce4cb",
   "metadata": {},
   "source": [
    "Désormais, nous cherchons à étudier la répartition des justifications des absences enregistrées, afin d'en déduire si oui ou non il y a plus d'absences justifiées que d'absences non justifiées.\n",
    "\n",
    "Pour cela, commençons par calculer les effectifs et les fréquences de cette variable :"
   ]
  },
  {
   "cell_type": "code",
   "execution_count": 30,
   "id": "dd60136c",
   "metadata": {},
   "outputs": [
    {
     "data": {
      "text/plain": [
       "True     210\n",
       "False     86\n",
       "Name: Justifiee, dtype: int64"
      ]
     },
     "execution_count": 30,
     "metadata": {},
     "output_type": "execute_result"
    }
   ],
   "source": [
    "#calcul des effectifs\n",
    "df.Justifiee.value_counts()"
   ]
  },
  {
   "cell_type": "code",
   "execution_count": 31,
   "id": "cbd3a192",
   "metadata": {},
   "outputs": [
    {
     "data": {
      "text/plain": [
       "True     0.709459\n",
       "False    0.290541\n",
       "Name: Justifiee, dtype: float64"
      ]
     },
     "execution_count": 31,
     "metadata": {},
     "output_type": "execute_result"
    }
   ],
   "source": [
    "#calcul de fréquences\n",
    "df.Justifiee.value_counts(normalize=True)"
   ]
  },
  {
   "cell_type": "markdown",
   "id": "1601e7cf",
   "metadata": {},
   "source": [
    "Visualisons cela sous la forme d'un diagramme en bâtons : "
   ]
  },
  {
   "cell_type": "code",
   "execution_count": 32,
   "id": "ef9d7966",
   "metadata": {},
   "outputs": [
    {
     "data": {
      "text/plain": [
       "<seaborn.axisgrid.FacetGrid at 0x7f6ebc5ec4c0>"
      ]
     },
     "execution_count": 32,
     "metadata": {},
     "output_type": "execute_result"
    },
    {
     "data": {
      "image/png": "[encoded data removed]",
      "text/plain": [
       "<Figure size 500x500 with 1 Axes>"
      ]
     },
     "metadata": {},
     "output_type": "display_data"
    }
   ],
   "source": [
    "sns.catplot(x='Justifiee', data=df, kind='count')"
   ]
  },
  {
   "cell_type": "markdown",
   "id": "8eadd95c",
   "metadata": {},
   "source": [
    "### Interprétation \n",
    "\n",
    "D'après les résultats obtenus, il semble que la majorité des absences sont justifiées. En termes d'effectif, 210 absences ont été classées comme justifiées tandis que 86 ont été classées comme injustifiées.\n",
    "\n",
    "En termes de fréquence, environ 71% des absences sont justifiées et environ 29% des absences sont injustifiées.\n",
    "\n",
    "Cela suggère que la plupart des étudiants qui sont absents ont une raison valide pour leur absence. Cependant, une proportion non négligeable d'absences n'est pas justifiée ce qui pourrait être un sujet de préoccupation. Il serait utile d'examiner plus en détail les raisons des absences justifiées et de comprendre pourquoi un certain nombre d'étudiants sont absents sans justification."
   ]
  },
  {
   "cell_type": "markdown",
   "id": "1d1fd817",
   "metadata": {},
   "source": [
    "### 3.B Analyse des absences selon la période de la journée<a class=\"anchor\" id=\"sec3.2\"></a>"
   ]
  },
  {
   "cell_type": "markdown",
   "id": "75cd4c00",
   "metadata": {},
   "source": [
    "Nous allons maintenant étudier l'heure des absences, et notamment si elles sont plus fréquentes le matin que l'après-midi.\n",
    "\n",
    "Pour ce faire, commençons par afficher les fréquences des absences :"
   ]
  },
  {
   "cell_type": "code",
   "execution_count": 27,
   "id": "28f3cd66",
   "metadata": {},
   "outputs": [
    {
     "data": {
      "text/plain": [
       "2022-04-26T10:30:00    0.020270\n",
       "2022-04-28T15:15:00    0.020270\n",
       "2022-04-28T08:00:00    0.020270\n",
       "2022-03-21T08:00:00    0.020270\n",
       "2022-04-26T09:00:00    0.020270\n",
       "                         ...   \n",
       "2022-03-08T15:30:00    0.003378\n",
       "2022-03-08T14:00:00    0.003378\n",
       "2022-03-08T08:00:00    0.003378\n",
       "2022-03-07T09:00:00    0.003378\n",
       "2022-03-22T13:30:00    0.003378\n",
       "Name: Date, Length: 157, dtype: float64"
      ]
     },
     "execution_count": 27,
     "metadata": {},
     "output_type": "execute_result"
    }
   ],
   "source": [
    "df.Date.value_counts(normalize=True)"
   ]
  },
  {
   "cell_type": "markdown",
   "id": "4619ec76",
   "metadata": {},
   "source": [
    "Ainsi, nous pouvons remarquer que notre colonne 'Date' manque de clarté pour l'interprétation souhaitée, c'est pourquoi nous avons choisi de créer une colonne 'Moment' qui indique s'il s'agit du matin (avant 13h) ou de l'après-midi (après 13h).\n",
    "\n",
    "Nous avons procédé de la façon suivante :"
   ]
  },
  {
   "cell_type": "code",
   "execution_count": 28,
   "id": "e52ab914",
   "metadata": {},
   "outputs": [],
   "source": [
    "#pour drop la colonne au cas-où (pour drop les lignes, il suffit de changer le 1 de axis par 0)\n",
    "#df.drop(['Moment'], axis=1, inplace = True)\n",
    "#df.head()"
   ]
  },
  {
   "cell_type": "code",
   "execution_count": 29,
   "id": "c71c6dce",
   "metadata": {},
   "outputs": [
    {
     "name": "stdout",
     "output_type": "stream",
     "text": [
      "                  Date  NumEtu   Nature  DureeRetard  Justifiee  Excusee  \\\n",
      "0  2021-10-26T13:30:00      31  absence          NaN       True    False   \n",
      "1  2021-11-15T09:15:00      15  absence          NaN       True    False   \n",
      "2  2021-11-29T09:00:00      33  absence          NaN       True    False   \n",
      "3  2021-11-30T15:00:00      13  absence          NaN       True    False   \n",
      "4  2021-12-10T08:00:00      31  absence          NaN       True    False   \n",
      "\n",
      "           Enseignant      Cours Type  DureeCours      Moment  \n",
      "0  Nathalie VIEILLARD  Portfolio   TP          90       Matin  \n",
      "1  Nathalie VIEILLARD  Portfolio   TP          90       Matin  \n",
      "2  Nathalie VIEILLARD  Portfolio   TP          90       Matin  \n",
      "3  Nathalie VIEILLARD  Portfolio   TP          90  Après-midi  \n",
      "4  Nathalie VIEILLARD  Portfolio   TP          90       Matin  \n"
     ]
    }
   ],
   "source": [
    "#import de la librairie de traitement de date\n",
    "from datetime import datetime\n",
    "\n",
    "# Ajout de la colonne 'Moment' avec une valeur par défaut 'Après-midi'\n",
    "df['Moment'] = \"Après-midi\"\n",
    "\n",
    "# Condition pour modifier la valeur de 'Moment' en 'Matin' si l'heure est avant ou égale à 13:00\n",
    "df.loc[df['Date'].apply(lambda x: datetime.strptime(x, '%Y-%m-%dT%H:%M:%S').time().hour) <= 13, 'Moment'] = \"Matin\"\n",
    "\n",
    "# Affichage des premières lignes du DataFrame modifié\n",
    "print(df.head())"
   ]
  },
  {
   "cell_type": "markdown",
   "id": "986f98d3",
   "metadata": {},
   "source": [
    "Nous pouvons désormais calculer les effectifs et les fréquences de cette nouvelle variable :"
   ]
  },
  {
   "cell_type": "code",
   "execution_count": 30,
   "id": "7d46fa9e",
   "metadata": {},
   "outputs": [
    {
     "data": {
      "text/plain": [
       "Matin         219\n",
       "Après-midi     77\n",
       "Name: Moment, dtype: int64"
      ]
     },
     "execution_count": 30,
     "metadata": {},
     "output_type": "execute_result"
    }
   ],
   "source": [
    "#calcul des effectifs\n",
    "df.Moment.value_counts()"
   ]
  },
  {
   "cell_type": "code",
   "execution_count": 31,
   "id": "f5600993",
   "metadata": {},
   "outputs": [
    {
     "data": {
      "text/plain": [
       "Matin         0.739865\n",
       "Après-midi    0.260135\n",
       "Name: Moment, dtype: float64"
      ]
     },
     "execution_count": 31,
     "metadata": {},
     "output_type": "execute_result"
    }
   ],
   "source": [
    "#calcul des fréquences\n",
    "df.Moment.value_counts(normalize = True)"
   ]
  },
  {
   "cell_type": "markdown",
   "id": "39f91dc1",
   "metadata": {},
   "source": [
    "Affichons maintenant le diagramme en bâtons :"
   ]
  },
  {
   "cell_type": "code",
   "execution_count": 32,
   "id": "299dd1d8",
   "metadata": {},
   "outputs": [
    {
     "data": {
      "text/plain": [
       "<seaborn.axisgrid.FacetGrid at 0x7ff3fa76e610>"
      ]
     },
     "execution_count": 32,
     "metadata": {},
     "output_type": "execute_result"
    },
    {
     "data": {
      "image/png": "[encoded data removed]",
      "text/plain": [
       "<Figure size 500x500 with 1 Axes>"
      ]
     },
     "metadata": {},
     "output_type": "display_data"
    }
   ],
   "source": [
    "#visualisation sous forme de diagramme en bâtons\n",
    "sns.catplot(x='Moment', data=df, kind='count')"
   ]
  },
  {
   "cell_type": "markdown",
   "id": "0c4ca7a3",
   "metadata": {},
   "source": [
    "### Interprétation \n",
    "\n",
    "Les résultats montrent que la majorité des absences se produisent le matin. En termes d'effectif, il y a 219 absences le matin contre 77 l'après-midi.\n",
    "\n",
    "En termes de fréquence, environ 74% des absences se produisent le matin tandis que 26% se produisent l'après-midi.\n",
    "\n",
    "Ces résultats indiquent que les étudiants sont plus susceptibles d'être absents aux cours qui ont lieu le matin. Il pourrait y avoir plusieurs raisons à cela comme des contraintes personnelles le matin, une préférence pour les cours de l'après-midi, ou d'autres facteurs."
   ]
  },
  {
   "cell_type": "markdown",
   "id": "0209410d",
   "metadata": {},
   "source": [
    "### 3.C Analyse de l'évolution du nombre d'absences selon le type de cours<a class=\"anchor\" id=\"sec3.3\"></a>"
   ]
  },
  {
   "cell_type": "code",
   "execution_count": 33,
   "id": "e7ac5b1e",
   "metadata": {},
   "outputs": [
    {
     "data": {
      "text/html": [
       "<div>\n",
       "<style scoped>\n",
       "    .dataframe tbody tr th:only-of-type {\n",
       "        vertical-align: middle;\n",
       "    }\n",
       "\n",
       "    .dataframe tbody tr th {\n",
       "        vertical-align: top;\n",
       "    }\n",
       "\n",
       "    .dataframe thead th {\n",
       "        text-align: right;\n",
       "    }\n",
       "</style>\n",
       "<table border=\"1\" class=\"dataframe\">\n",
       "  <thead>\n",
       "    <tr style=\"text-align: right;\">\n",
       "      <th>Type</th>\n",
       "      <th>CM</th>\n",
       "      <th>PROJET</th>\n",
       "      <th>TD</th>\n",
       "      <th>TP</th>\n",
       "      <th>Total</th>\n",
       "    </tr>\n",
       "    <tr>\n",
       "      <th>Nature</th>\n",
       "      <th></th>\n",
       "      <th></th>\n",
       "      <th></th>\n",
       "      <th></th>\n",
       "      <th></th>\n",
       "    </tr>\n",
       "  </thead>\n",
       "  <tbody>\n",
       "    <tr>\n",
       "      <th>absence</th>\n",
       "      <td>26</td>\n",
       "      <td>1</td>\n",
       "      <td>161</td>\n",
       "      <td>104</td>\n",
       "      <td>292</td>\n",
       "    </tr>\n",
       "    <tr>\n",
       "      <th>retard</th>\n",
       "      <td>0</td>\n",
       "      <td>0</td>\n",
       "      <td>2</td>\n",
       "      <td>2</td>\n",
       "      <td>4</td>\n",
       "    </tr>\n",
       "    <tr>\n",
       "      <th>Total</th>\n",
       "      <td>26</td>\n",
       "      <td>1</td>\n",
       "      <td>163</td>\n",
       "      <td>106</td>\n",
       "      <td>296</td>\n",
       "    </tr>\n",
       "  </tbody>\n",
       "</table>\n",
       "</div>"
      ],
      "text/plain": [
       "Type     CM  PROJET   TD   TP  Total\n",
       "Nature                              \n",
       "absence  26       1  161  104    292\n",
       "retard    0       0    2    2      4\n",
       "Total    26       1  163  106    296"
      ]
     },
     "execution_count": 33,
     "metadata": {},
     "output_type": "execute_result"
    }
   ],
   "source": [
    "pd.crosstab(df.Nature, df.Type, margins = True, margins_name = \"Total\")"
   ]
  },
  {
   "cell_type": "code",
   "execution_count": 34,
   "id": "5ee0be73",
   "metadata": {},
   "outputs": [
    {
     "data": {
      "text/html": [
       "<div>\n",
       "<style scoped>\n",
       "    .dataframe tbody tr th:only-of-type {\n",
       "        vertical-align: middle;\n",
       "    }\n",
       "\n",
       "    .dataframe tbody tr th {\n",
       "        vertical-align: top;\n",
       "    }\n",
       "\n",
       "    .dataframe thead th {\n",
       "        text-align: right;\n",
       "    }\n",
       "</style>\n",
       "<table border=\"1\" class=\"dataframe\">\n",
       "  <thead>\n",
       "    <tr style=\"text-align: right;\">\n",
       "      <th>Type</th>\n",
       "      <th>CM</th>\n",
       "      <th>PROJET</th>\n",
       "      <th>TD</th>\n",
       "      <th>TP</th>\n",
       "    </tr>\n",
       "    <tr>\n",
       "      <th>Nature</th>\n",
       "      <th></th>\n",
       "      <th></th>\n",
       "      <th></th>\n",
       "      <th></th>\n",
       "    </tr>\n",
       "  </thead>\n",
       "  <tbody>\n",
       "    <tr>\n",
       "      <th>absence</th>\n",
       "      <td>1.0</td>\n",
       "      <td>1.0</td>\n",
       "      <td>0.98773</td>\n",
       "      <td>0.981132</td>\n",
       "    </tr>\n",
       "    <tr>\n",
       "      <th>retard</th>\n",
       "      <td>0.0</td>\n",
       "      <td>0.0</td>\n",
       "      <td>0.01227</td>\n",
       "      <td>0.018868</td>\n",
       "    </tr>\n",
       "  </tbody>\n",
       "</table>\n",
       "</div>"
      ],
      "text/plain": [
       "Type      CM  PROJET       TD        TP\n",
       "Nature                                 \n",
       "absence  1.0     1.0  0.98773  0.981132\n",
       "retard   0.0     0.0  0.01227  0.018868"
      ]
     },
     "execution_count": 34,
     "metadata": {},
     "output_type": "execute_result"
    }
   ],
   "source": [
    "pd.crosstab(df.Nature, df.Type, margins_name = \"Total\", normalize='columns')"
   ]
  },
  {
   "cell_type": "code",
   "execution_count": 7,
   "id": "c3a3e84c",
   "metadata": {},
   "outputs": [
    {
     "data": {
      "text/plain": [
       "<seaborn.axisgrid.FacetGrid at 0x7f1658c2f8b0>"
      ]
     },
     "execution_count": 7,
     "metadata": {},
     "output_type": "execute_result"
    },
    {
     "data": {
      "image/png": "[encoded data removed]",
      "text/plain": [
       "<Figure size 600.125x500 with 1 Axes>"
      ]
     },
     "metadata": {},
     "output_type": "display_data"
    }
   ],
   "source": [
    "sns.catplot(data = df, x = 'Nature', hue = 'Type', kind='count')"
   ]
  },
  {
   "cell_type": "code",
   "execution_count": null,
   "id": "900d683b",
   "metadata": {},
   "outputs": [],
   "source": [
    "sns.displot(data = df, x = 'Nature', hue = 'Type', multiple = 'stack', kind = 'hist')"
   ]
  },
  {
   "cell_type": "markdown",
   "id": "31cfa767",
   "metadata": {},
   "source": [
    "### Interprétation\n",
    "\n",
    "Ces résultats présentent la distribution des absences et retards selon le type de cours dans une institution académique. \n",
    "\n",
    "Pour les cours magistraux (CM), il y a eu 26 absences et aucun retard. Cela signifie que les étudiants ont été complètement absents pour 26 sessions de cours magistraux sans aucun retard enregistré.\n",
    "\n",
    "Pour les projets (PROJET), il y a eu seulement 1 absence et aucun retard.\n",
    "\n",
    "Pour les travaux dirigés (TD), il y a eu 161 absences et 2 retards. C'est le type de cours qui a le plus grand nombre d'absences. Cela peut suggérer que les étudiants trouvent peut-être ces séances moins attrayantes ou moins nécessaires ou bien qu'il y a plus de ces séances ce qui augmente le nombre total d'absences possibles.\n",
    "\n",
    "Pour les travaux pratiques (TP), il y a eu 104 absences et 2 retards. Encore une fois, un nombre significatif d'absences.\n",
    "\n",
    "Le nombre total d'absences pour tous les types de cours est de 292, et le nombre total de retards est de 4. Cela donne un total de 296 incidents (absences + retards).\n",
    "\n",
    "L'analyse des données montre une différence significative entre le nombre d'absences et le nombre de retards. Cela peut indiquer plusieurs choses. Il se peut que les étudiants soient généralement à l'heure pour leurs cours lorsqu'ils choisissent d'y assister. Cependant, il y a un nombre considérable d'étudiants qui choisissent de ne pas assister à certains cours, comme en témoignent les 292 absences."
   ]
  },
  {
   "cell_type": "markdown",
   "id": "916f09f2",
   "metadata": {},
   "source": [
    "### 3.D Impact de l'enseignant sur le nombre d'absences<a class=\"anchor\" id=\"sec3.4\"></a>"
   ]
  },
  {
   "cell_type": "code",
   "execution_count": 36,
   "id": "f756fba0",
   "metadata": {},
   "outputs": [
    {
     "name": "stdout",
     "output_type": "stream",
     "text": [
      "                  Date  NumEtu   Nature  DureeRetard  Justifiee  Excusee  \\\n",
      "0  2021-10-26T13:30:00      31  absence          NaN       True    False   \n",
      "1  2021-11-15T09:15:00      15  absence          NaN       True    False   \n",
      "2  2021-11-29T09:00:00      33  absence          NaN       True    False   \n",
      "3  2021-11-30T15:00:00      13  absence          NaN       True    False   \n",
      "4  2021-12-10T08:00:00      31  absence          NaN       True    False   \n",
      "\n",
      "           Enseignant      Cours Type  DureeCours  \n",
      "0  Nathalie VIEILLARD  Portfolio   TP          90  \n",
      "1  Nathalie VIEILLARD  Portfolio   TP          90  \n",
      "2  Nathalie VIEILLARD  Portfolio   TP          90  \n",
      "3  Nathalie VIEILLARD  Portfolio   TP          90  \n",
      "4  Nathalie VIEILLARD  Portfolio   TP          90  \n"
     ]
    }
   ],
   "source": [
    "# Supprimer les lignes où la colonne 'Nature' est égale à 'retard'\n",
    "df = df[df['Nature'] != 'retard']\n",
    "\n",
    "print(df.head())\n"
   ]
  },
  {
   "cell_type": "code",
   "execution_count": 37,
   "id": "095b84b3",
   "metadata": {},
   "outputs": [
    {
     "data": {
      "text/html": [
       "<div>\n",
       "<style scoped>\n",
       "    .dataframe tbody tr th:only-of-type {\n",
       "        vertical-align: middle;\n",
       "    }\n",
       "\n",
       "    .dataframe tbody tr th {\n",
       "        vertical-align: top;\n",
       "    }\n",
       "\n",
       "    .dataframe thead th {\n",
       "        text-align: right;\n",
       "    }\n",
       "</style>\n",
       "<table border=\"1\" class=\"dataframe\">\n",
       "  <thead>\n",
       "    <tr style=\"text-align: right;\">\n",
       "      <th>Enseignant</th>\n",
       "      <th>Bruno ERNET</th>\n",
       "      <th>Bérénice LEMOINE</th>\n",
       "      <th>Charles DECELLIERES</th>\n",
       "      <th>Djadja DJADJA</th>\n",
       "      <th>Estelle YVEN</th>\n",
       "      <th>Lahcen OUBAHSSI</th>\n",
       "      <th>Ludovic HAMON</th>\n",
       "      <th>Nadege GENTIL-RIBOT</th>\n",
       "      <th>Nathalie VIEILLARD</th>\n",
       "      <th>Olivier ROULIN</th>\n",
       "      <th>Pierre LAFORCADE</th>\n",
       "      <th>Sebastien GEORGE</th>\n",
       "      <th>Xavier DUBOURG</th>\n",
       "      <th>Yann WALKOWIAK</th>\n",
       "      <th>Total</th>\n",
       "    </tr>\n",
       "    <tr>\n",
       "      <th>Nature</th>\n",
       "      <th></th>\n",
       "      <th></th>\n",
       "      <th></th>\n",
       "      <th></th>\n",
       "      <th></th>\n",
       "      <th></th>\n",
       "      <th></th>\n",
       "      <th></th>\n",
       "      <th></th>\n",
       "      <th></th>\n",
       "      <th></th>\n",
       "      <th></th>\n",
       "      <th></th>\n",
       "      <th></th>\n",
       "      <th></th>\n",
       "    </tr>\n",
       "  </thead>\n",
       "  <tbody>\n",
       "    <tr>\n",
       "      <th>absence</th>\n",
       "      <td>5</td>\n",
       "      <td>7</td>\n",
       "      <td>20</td>\n",
       "      <td>16</td>\n",
       "      <td>10</td>\n",
       "      <td>11</td>\n",
       "      <td>23</td>\n",
       "      <td>14</td>\n",
       "      <td>92</td>\n",
       "      <td>25</td>\n",
       "      <td>14</td>\n",
       "      <td>8</td>\n",
       "      <td>6</td>\n",
       "      <td>41</td>\n",
       "      <td>292</td>\n",
       "    </tr>\n",
       "    <tr>\n",
       "      <th>Total</th>\n",
       "      <td>5</td>\n",
       "      <td>7</td>\n",
       "      <td>20</td>\n",
       "      <td>16</td>\n",
       "      <td>10</td>\n",
       "      <td>11</td>\n",
       "      <td>23</td>\n",
       "      <td>14</td>\n",
       "      <td>92</td>\n",
       "      <td>25</td>\n",
       "      <td>14</td>\n",
       "      <td>8</td>\n",
       "      <td>6</td>\n",
       "      <td>41</td>\n",
       "      <td>292</td>\n",
       "    </tr>\n",
       "  </tbody>\n",
       "</table>\n",
       "</div>"
      ],
      "text/plain": [
       "Enseignant  Bruno ERNET  Bérénice LEMOINE  Charles DECELLIERES  Djadja DJADJA  \\\n",
       "Nature                                                                          \n",
       "absence               5                 7                   20             16   \n",
       "Total                 5                 7                   20             16   \n",
       "\n",
       "Enseignant  Estelle YVEN  Lahcen OUBAHSSI  Ludovic HAMON  Nadege GENTIL-RIBOT  \\\n",
       "Nature                                                                          \n",
       "absence               10               11             23                   14   \n",
       "Total                 10               11             23                   14   \n",
       "\n",
       "Enseignant  Nathalie VIEILLARD  Olivier ROULIN  Pierre LAFORCADE  \\\n",
       "Nature                                                             \n",
       "absence                     92              25                14   \n",
       "Total                       92              25                14   \n",
       "\n",
       "Enseignant  Sebastien GEORGE  Xavier DUBOURG  Yann WALKOWIAK  Total  \n",
       "Nature                                                               \n",
       "absence                    8               6              41    292  \n",
       "Total                      8               6              41    292  "
      ]
     },
     "execution_count": 37,
     "metadata": {},
     "output_type": "execute_result"
    }
   ],
   "source": [
    "pd.crosstab(df.Nature, df.Enseignant, margins = True, margins_name = \"Total\")"
   ]
  },
  {
   "cell_type": "code",
   "execution_count": 38,
   "id": "9081870e",
   "metadata": {},
   "outputs": [
    {
     "data": {
      "text/plain": [
       "<seaborn.axisgrid.FacetGrid at 0x7f6ebc3d6250>"
      ]
     },
     "execution_count": 38,
     "metadata": {},
     "output_type": "execute_result"
    },
    {
     "data": {
      "image/png": "[encoded data removed]",
      "text/plain": [
       "<Figure size 705.25x500 with 1 Axes>"
      ]
     },
     "metadata": {},
     "output_type": "display_data"
    }
   ],
   "source": [
    "sns.catplot(data = df, x = 'Nature', hue = 'Enseignant', kind='count')"
   ]
  },
  {
   "cell_type": "code",
   "execution_count": 39,
   "id": "6585f69e",
   "metadata": {},
   "outputs": [],
   "source": [
    "contingence = pd.crosstab(df.Nature,df.Enseignant)"
   ]
  },
  {
   "cell_type": "code",
   "execution_count": 40,
   "id": "f219c65c",
   "metadata": {},
   "outputs": [],
   "source": [
    "from scipy.stats import chi2_contingency\n",
    "c, p, dof, expected = chi2_contingency(contingence) "
   ]
  },
  {
   "cell_type": "code",
   "execution_count": null,
   "id": "9e1d30e6",
   "metadata": {},
   "outputs": [],
   "source": [
    "print(\"p-value =\",p)\n",
    "print(\"valeur du chi2 =\",c)\n",
    "print(\"degrés de liberté =\",dof)\n",
    "print(\"valeurs théoriques sous l'hypothèses d'indépendance =\",expected)"
   ]
  },
  {
   "cell_type": "markdown",
   "id": "d73abfc7",
   "metadata": {},
   "source": [
    "Pour cela, nous allons utiliser la fonction `chi2_contingency` du package `scipy.stats` qui prend en entrée un tableau de contingence et renvoie :\n",
    "- c : la valeur du $\\chi^2$ calculée\n",
    "- p : la p-value (c'est la probabilité de trouver cette valeur de $\\chi^2$ sous l'hypothèse d'indépendance des 2 variables\n",
    "- dof : c'est le degré de liberté\n",
    "- expected : ce sont les valeurs théoriques qu'on aurait observées sous l'hypothèse d'indépendance des 2 variables.\n",
    "\n",
    "Dans la pratique, on choisit souvent un seuil d'erreur de 5%, et donc :\n",
    "- on rejettera l'hypothèse d'indépendance si la p-value est < 5%\n",
    "- et on ne rejettera pas l'hypothèse d'indépendance si la p-value est > 5%\n",
    "\n",
    "On obtient ici une p-value très faible, ce qui signifie que le fait d'avoir survécu ou non au naufrage du Titanic est fortement dépendant du sexe du passager."
   ]
  },
  {
   "cell_type": "code",
   "execution_count": 42,
   "id": "28ad8036",
   "metadata": {},
   "outputs": [
    {
     "data": {
      "text/plain": [
       "<AxesSubplot: xlabel='Enseignant', ylabel='Nature'>"
      ]
     },
     "execution_count": 42,
     "metadata": {},
     "output_type": "execute_result"
    },
    {
     "data": {
      "image/png": "[encoded data removed]",
      "text/plain": [
       "<Figure size 640x480 with 2 Axes>"
      ]
     },
     "metadata": {},
     "output_type": "display_data"
    }
   ],
   "source": [
    "sns.heatmap(contingence, annot=True, cmap=\"YlGnBu\")"
   ]
  },
  {
   "cell_type": "markdown",
   "id": "2b516493",
   "metadata": {},
   "source": [
    "### Interprétation\n",
    "\n",
    "Ce tableau présente l'impact de chaque enseignant sur le nombre total d'absences enregistrées dans leurs cours respectifs. Chaque colonne représente un enseignant et le nombre d'absences associées à ses cours.\n",
    "\n",
    "Voici quelques interprétations basées sur ces données :\n",
    "\n",
    "Nathalie VIEILLARD a le plus grand nombre d'absences avec un total de 92 ce qui représente une part significative du total général de 292 absences. \n",
    "\n",
    "Yann WALKOWIAK a le deuxième plus grand nombre d'absences avec un total de 41.\n",
    "\n",
    "Bruno ERNET, Bérénice LEMOINE, Estelle YVEN, Lahcen OUBAHSSI, et Pierre LAFORCADE ont relativement peu d'absences en comparaison. \n",
    "\n",
    "Les chiffres varient grandement d'un enseignant à l'autre ce qui suggère que l'enseignant lui-même peut jouer un rôle significatif dans le nombre d'absences.\n",
    "\n",
    "Interprétation de Chi2:\n",
    "\n",
    "Plus la couleur d'une case est claire, plus les valeurs sont proches des valeurs théoriques sous l'hypothèse d'indépendance. Plus la couleur est foncée, plus les valeurs sont éloignées.\n",
    "\n",
    "Dans le contexte d'un test du Chi-carré, une valeur du chi2 de 0.0, une p-value de 1.0 et 0 degrés de liberté suggèrent qu'il n'y a aucune différence entre les valeurs observées et les valeurs attendues.\n",
    "\n",
    "En conclusion, ces résultats suggèrent que la variable étudiée soit le nombre d'absences est indépendant de la variable enseignant. En d'autres termes, l'enseignant n'a pas d'impact significatif sur le taux d'absentéisme dans ce cas."
   ]
  },
  {
   "cell_type": "markdown",
   "id": "41166f32",
   "metadata": {},
   "source": [
    "### 3.E Lien entre du mois et le nombre d'absences<a class=\"anchor\" id=\"sec3.5\"></a>"
   ]
  },
  {
   "cell_type": "code",
   "execution_count": 16,
   "id": "80190408",
   "metadata": {},
   "outputs": [
    {
     "data": {
      "text/html": [
       "<div>\n",
       "<style scoped>\n",
       "    .dataframe tbody tr th:only-of-type {\n",
       "        vertical-align: middle;\n",
       "    }\n",
       "\n",
       "    .dataframe tbody tr th {\n",
       "        vertical-align: top;\n",
       "    }\n",
       "\n",
       "    .dataframe thead th {\n",
       "        text-align: right;\n",
       "    }\n",
       "</style>\n",
       "<table border=\"1\" class=\"dataframe\">\n",
       "  <thead>\n",
       "    <tr style=\"text-align: right;\">\n",
       "      <th></th>\n",
       "      <th>Date</th>\n",
       "      <th>NumEtu</th>\n",
       "      <th>Nature</th>\n",
       "      <th>DureeRetard</th>\n",
       "      <th>Justifiee</th>\n",
       "      <th>Excusee</th>\n",
       "      <th>Enseignant</th>\n",
       "      <th>Cours</th>\n",
       "      <th>Type</th>\n",
       "      <th>DureeCours</th>\n",
       "      <th>Mois</th>\n",
       "    </tr>\n",
       "  </thead>\n",
       "  <tbody>\n",
       "    <tr>\n",
       "      <th>0</th>\n",
       "      <td>2021-10-26 13:30:00</td>\n",
       "      <td>31</td>\n",
       "      <td>absence</td>\n",
       "      <td>NaN</td>\n",
       "      <td>True</td>\n",
       "      <td>False</td>\n",
       "      <td>Nathalie VIEILLARD</td>\n",
       "      <td>Portfolio</td>\n",
       "      <td>TP</td>\n",
       "      <td>90</td>\n",
       "      <td>10</td>\n",
       "    </tr>\n",
       "    <tr>\n",
       "      <th>1</th>\n",
       "      <td>2021-11-15 09:15:00</td>\n",
       "      <td>15</td>\n",
       "      <td>absence</td>\n",
       "      <td>NaN</td>\n",
       "      <td>True</td>\n",
       "      <td>False</td>\n",
       "      <td>Nathalie VIEILLARD</td>\n",
       "      <td>Portfolio</td>\n",
       "      <td>TP</td>\n",
       "      <td>90</td>\n",
       "      <td>11</td>\n",
       "    </tr>\n",
       "    <tr>\n",
       "      <th>2</th>\n",
       "      <td>2021-11-29 09:00:00</td>\n",
       "      <td>33</td>\n",
       "      <td>absence</td>\n",
       "      <td>NaN</td>\n",
       "      <td>True</td>\n",
       "      <td>False</td>\n",
       "      <td>Nathalie VIEILLARD</td>\n",
       "      <td>Portfolio</td>\n",
       "      <td>TP</td>\n",
       "      <td>90</td>\n",
       "      <td>11</td>\n",
       "    </tr>\n",
       "    <tr>\n",
       "      <th>3</th>\n",
       "      <td>2021-11-30 15:00:00</td>\n",
       "      <td>13</td>\n",
       "      <td>absence</td>\n",
       "      <td>NaN</td>\n",
       "      <td>True</td>\n",
       "      <td>False</td>\n",
       "      <td>Nathalie VIEILLARD</td>\n",
       "      <td>Portfolio</td>\n",
       "      <td>TP</td>\n",
       "      <td>90</td>\n",
       "      <td>11</td>\n",
       "    </tr>\n",
       "    <tr>\n",
       "      <th>4</th>\n",
       "      <td>2021-12-10 08:00:00</td>\n",
       "      <td>31</td>\n",
       "      <td>absence</td>\n",
       "      <td>NaN</td>\n",
       "      <td>True</td>\n",
       "      <td>False</td>\n",
       "      <td>Nathalie VIEILLARD</td>\n",
       "      <td>Portfolio</td>\n",
       "      <td>TP</td>\n",
       "      <td>90</td>\n",
       "      <td>12</td>\n",
       "    </tr>\n",
       "  </tbody>\n",
       "</table>\n",
       "</div>"
      ],
      "text/plain": [
       "                 Date  NumEtu   Nature  DureeRetard  Justifiee  Excusee  \\\n",
       "0 2021-10-26 13:30:00      31  absence          NaN       True    False   \n",
       "1 2021-11-15 09:15:00      15  absence          NaN       True    False   \n",
       "2 2021-11-29 09:00:00      33  absence          NaN       True    False   \n",
       "3 2021-11-30 15:00:00      13  absence          NaN       True    False   \n",
       "4 2021-12-10 08:00:00      31  absence          NaN       True    False   \n",
       "\n",
       "           Enseignant      Cours Type  DureeCours  Mois  \n",
       "0  Nathalie VIEILLARD  Portfolio   TP          90    10  \n",
       "1  Nathalie VIEILLARD  Portfolio   TP          90    11  \n",
       "2  Nathalie VIEILLARD  Portfolio   TP          90    11  \n",
       "3  Nathalie VIEILLARD  Portfolio   TP          90    11  \n",
       "4  Nathalie VIEILLARD  Portfolio   TP          90    12  "
      ]
     },
     "execution_count": 16,
     "metadata": {},
     "output_type": "execute_result"
    }
   ],
   "source": [
    "from datetime import datetime\n",
    "# Convertir la colonne de la date en format de date\n",
    "df['Date'] = pd.to_datetime(df['Date'])\n",
    "\n",
    "# Extraire le mois de chaque date\n",
    "df['Mois'] = df['Date'].dt.month\n",
    "df.head()"
   ]
  },
  {
   "cell_type": "code",
   "execution_count": 42,
   "id": "a6ff23cf",
   "metadata": {},
   "outputs": [
    {
     "ename": "KeyError",
     "evalue": "'Mois'",
     "output_type": "error",
     "traceback": [
      "\u001b[0;31m---------------------------------------------------------------------------\u001b[0m",
      "\u001b[0;31mKeyError\u001b[0m                                  Traceback (most recent call last)",
      "File \u001b[0;32m/opt/tljh/user/lib/python3.9/site-packages/pandas/core/indexes/base.py:3802\u001b[0m, in \u001b[0;36mIndex.get_loc\u001b[0;34m(self, key, method, tolerance)\u001b[0m\n\u001b[1;32m   3801\u001b[0m \u001b[38;5;28;01mtry\u001b[39;00m:\n\u001b[0;32m-> 3802\u001b[0m     \u001b[38;5;28;01mreturn\u001b[39;00m \u001b[38;5;28;43mself\u001b[39;49m\u001b[38;5;241;43m.\u001b[39;49m\u001b[43m_engine\u001b[49m\u001b[38;5;241;43m.\u001b[39;49m\u001b[43mget_loc\u001b[49m\u001b[43m(\u001b[49m\u001b[43mcasted_key\u001b[49m\u001b[43m)\u001b[49m\n\u001b[1;32m   3803\u001b[0m \u001b[38;5;28;01mexcept\u001b[39;00m \u001b[38;5;167;01mKeyError\u001b[39;00m \u001b[38;5;28;01mas\u001b[39;00m err:\n",
      "File \u001b[0;32m/opt/tljh/user/lib/python3.9/site-packages/pandas/_libs/index.pyx:138\u001b[0m, in \u001b[0;36mpandas._libs.index.IndexEngine.get_loc\u001b[0;34m()\u001b[0m\n",
      "File \u001b[0;32m/opt/tljh/user/lib/python3.9/site-packages/pandas/_libs/index.pyx:165\u001b[0m, in \u001b[0;36mpandas._libs.index.IndexEngine.get_loc\u001b[0;34m()\u001b[0m\n",
      "File \u001b[0;32mpandas/_libs/hashtable_class_helper.pxi:5745\u001b[0m, in \u001b[0;36mpandas._libs.hashtable.PyObjectHashTable.get_item\u001b[0;34m()\u001b[0m\n",
      "File \u001b[0;32mpandas/_libs/hashtable_class_helper.pxi:5753\u001b[0m, in \u001b[0;36mpandas._libs.hashtable.PyObjectHashTable.get_item\u001b[0;34m()\u001b[0m\n",
      "\u001b[0;31mKeyError\u001b[0m: 'Mois'",
      "\nThe above exception was the direct cause of the following exception:\n",
      "\u001b[0;31mKeyError\u001b[0m                                  Traceback (most recent call last)",
      "Cell \u001b[0;32mIn [42], line 3\u001b[0m\n\u001b[1;32m      1\u001b[0m liste_mois \u001b[38;5;241m=\u001b[39m [\u001b[38;5;124m'\u001b[39m\u001b[38;5;124mjanvier\u001b[39m\u001b[38;5;124m'\u001b[39m, \u001b[38;5;124m'\u001b[39m\u001b[38;5;124mfévrier\u001b[39m\u001b[38;5;124m'\u001b[39m, \u001b[38;5;124m'\u001b[39m\u001b[38;5;124mmars\u001b[39m\u001b[38;5;124m'\u001b[39m, \u001b[38;5;124m'\u001b[39m\u001b[38;5;124mavril\u001b[39m\u001b[38;5;124m'\u001b[39m, \u001b[38;5;124m'\u001b[39m\u001b[38;5;124mmai\u001b[39m\u001b[38;5;124m'\u001b[39m, \u001b[38;5;124m'\u001b[39m\u001b[38;5;124mjuin\u001b[39m\u001b[38;5;124m'\u001b[39m, \u001b[38;5;124m'\u001b[39m\u001b[38;5;124mjuillet\u001b[39m\u001b[38;5;124m'\u001b[39m, \u001b[38;5;124m'\u001b[39m\u001b[38;5;124maoût\u001b[39m\u001b[38;5;124m'\u001b[39m, \u001b[38;5;124m'\u001b[39m\u001b[38;5;124mseptembre\u001b[39m\u001b[38;5;124m'\u001b[39m, \u001b[38;5;124m'\u001b[39m\u001b[38;5;124moctobre\u001b[39m\u001b[38;5;124m'\u001b[39m, \u001b[38;5;124m'\u001b[39m\u001b[38;5;124mnovembre\u001b[39m\u001b[38;5;124m'\u001b[39m, \u001b[38;5;124m'\u001b[39m\u001b[38;5;124mdécembre\u001b[39m\u001b[38;5;124m'\u001b[39m]\n\u001b[0;32m----> 3\u001b[0m absences_par_mois \u001b[38;5;241m=\u001b[39m df[\u001b[38;5;124m'\u001b[39m\u001b[38;5;124mMois\u001b[39m\u001b[38;5;124m'\u001b[39m]\u001b[38;5;241m.\u001b[39mvalue_counts()\u001b[38;5;241m.\u001b[39msort_index()\n\u001b[1;32m      5\u001b[0m absences_par_mois \u001b[38;5;241m=\u001b[39m absences_par_mois\u001b[38;5;241m.\u001b[39mreindex(\u001b[38;5;28mrange\u001b[39m(\u001b[38;5;241m1\u001b[39m, \u001b[38;5;241m13\u001b[39m), fill_value\u001b[38;5;241m=\u001b[39m\u001b[38;5;241m0\u001b[39m)\n\u001b[1;32m      7\u001b[0m absences_par_mois \u001b[38;5;241m=\u001b[39m pd\u001b[38;5;241m.\u001b[39mconcat([absences_par_mois[\u001b[38;5;241m-\u001b[39m\u001b[38;5;241m4\u001b[39m:], absences_par_mois[:\u001b[38;5;241m-\u001b[39m\u001b[38;5;241m3\u001b[39m]])\n",
      "File \u001b[0;32m/opt/tljh/user/lib/python3.9/site-packages/pandas/core/frame.py:3807\u001b[0m, in \u001b[0;36mDataFrame.__getitem__\u001b[0;34m(self, key)\u001b[0m\n\u001b[1;32m   3805\u001b[0m \u001b[38;5;28;01mif\u001b[39;00m \u001b[38;5;28mself\u001b[39m\u001b[38;5;241m.\u001b[39mcolumns\u001b[38;5;241m.\u001b[39mnlevels \u001b[38;5;241m>\u001b[39m \u001b[38;5;241m1\u001b[39m:\n\u001b[1;32m   3806\u001b[0m     \u001b[38;5;28;01mreturn\u001b[39;00m \u001b[38;5;28mself\u001b[39m\u001b[38;5;241m.\u001b[39m_getitem_multilevel(key)\n\u001b[0;32m-> 3807\u001b[0m indexer \u001b[38;5;241m=\u001b[39m \u001b[38;5;28;43mself\u001b[39;49m\u001b[38;5;241;43m.\u001b[39;49m\u001b[43mcolumns\u001b[49m\u001b[38;5;241;43m.\u001b[39;49m\u001b[43mget_loc\u001b[49m\u001b[43m(\u001b[49m\u001b[43mkey\u001b[49m\u001b[43m)\u001b[49m\n\u001b[1;32m   3808\u001b[0m \u001b[38;5;28;01mif\u001b[39;00m is_integer(indexer):\n\u001b[1;32m   3809\u001b[0m     indexer \u001b[38;5;241m=\u001b[39m [indexer]\n",
      "File \u001b[0;32m/opt/tljh/user/lib/python3.9/site-packages/pandas/core/indexes/base.py:3804\u001b[0m, in \u001b[0;36mIndex.get_loc\u001b[0;34m(self, key, method, tolerance)\u001b[0m\n\u001b[1;32m   3802\u001b[0m     \u001b[38;5;28;01mreturn\u001b[39;00m \u001b[38;5;28mself\u001b[39m\u001b[38;5;241m.\u001b[39m_engine\u001b[38;5;241m.\u001b[39mget_loc(casted_key)\n\u001b[1;32m   3803\u001b[0m \u001b[38;5;28;01mexcept\u001b[39;00m \u001b[38;5;167;01mKeyError\u001b[39;00m \u001b[38;5;28;01mas\u001b[39;00m err:\n\u001b[0;32m-> 3804\u001b[0m     \u001b[38;5;28;01mraise\u001b[39;00m \u001b[38;5;167;01mKeyError\u001b[39;00m(key) \u001b[38;5;28;01mfrom\u001b[39;00m \u001b[38;5;21;01merr\u001b[39;00m\n\u001b[1;32m   3805\u001b[0m \u001b[38;5;28;01mexcept\u001b[39;00m \u001b[38;5;167;01mTypeError\u001b[39;00m:\n\u001b[1;32m   3806\u001b[0m     \u001b[38;5;66;03m# If we have a listlike key, _check_indexing_error will raise\u001b[39;00m\n\u001b[1;32m   3807\u001b[0m     \u001b[38;5;66;03m#  InvalidIndexError. Otherwise we fall through and re-raise\u001b[39;00m\n\u001b[1;32m   3808\u001b[0m     \u001b[38;5;66;03m#  the TypeError.\u001b[39;00m\n\u001b[1;32m   3809\u001b[0m     \u001b[38;5;28mself\u001b[39m\u001b[38;5;241m.\u001b[39m_check_indexing_error(key)\n",
      "\u001b[0;31mKeyError\u001b[0m: 'Mois'"
     ]
    }
   ],
   "source": [
    "liste_mois = ['janvier', 'février', 'mars', 'avril', 'mai', 'juin', 'juillet', 'août', 'septembre', 'octobre', 'novembre', 'décembre']\n",
    "\n",
    "absences_par_mois = df['Mois'].value_counts().sort_index()\n",
    "\n",
    "absences_par_mois = absences_par_mois.reindex(range(1, 13), fill_value=0)\n",
    "\n",
    "absences_par_mois = pd.concat([absences_par_mois[-4:], absences_par_mois[:-3]])\n",
    "\n",
    "plt.figure(figsize=(10, 6))\n",
    "sns.barplot(x=[liste_mois[m-1] for m in absences_par_mois.index], y=absences_par_mois.values)\n",
    "\n",
    "plt.title(\"Distribution des absences par mois\")\n",
    "plt.xlabel(\"Mois\")\n",
    "plt.ylabel(\"Nombre d'absences\")\n",
    "plt.xticks(rotation=45)\n",
    "plt.show()"
   ]
  },
  {
   "cell_type": "markdown",
   "id": "d4e936ff",
   "metadata": {},
   "source": [
    "### Interprétation\n",
    "\n",
    "Ce diagramme en baton présente le nombre d'absences selon les mois de l'année. Chaque batons représente un mois et le nombre d'absences associées à ce mois.\n",
    "\n",
    "Voici quelques interprétations basées sur ces données :\n",
    "\n",
    "Avril est le mois où l'on trouve le plus d'absences contrairement à Octobre et Décembre où l'on trouve le moins d'absences.\n",
    "\n",
    "On contaste que sur la période hivernale le nombre d'absences est beaucoup plus élevé celà peut s'expliquer par un relachement des étudiants après les partiels. Pendant la période de la rentré scolaire (octobre,novembrendécembre), on constate moins d'absences probablement car les étudiants découvrent leurs cursus et ne sont pas encore lasser des cours. Globalement, on peut remarquer un relachement des étudiants de plus en plus grands au fil de l'année."
   ]
  },
  {
   "cell_type": "markdown",
   "id": "1ae6e9e9",
   "metadata": {},
   "source": [
    "### 3.F Lien entre le mois et la justification des absences<a class=\"anchor\" id=\"sec3.6\"></a>"
   ]
  },
  {
   "cell_type": "code",
   "execution_count": null,
   "id": "45e8ff2c",
   "metadata": {},
   "outputs": [],
   "source": [
    "def categoriser_absence(row):\n",
    "    if row['Justifiee']:\n",
    "        return 'Justifiée'\n",
    "    elif row['Excusee']:\n",
    "        return 'Excusée'\n",
    "    else:\n",
    "        return 'Ni l\\'un ni l\\'autre'\n",
    "\n",
    "df['Categorie'] = df.apply(categoriser_absence, axis=1)\n",
    "\n",
    "# Créer un DataFrame qui compte le nombre d'absences par mois et par catégorie\n",
    "absences_par_mois_et_categorie = df.groupby(['Mois', 'Categorie'])['Categorie'].count().unstack().fillna(0)\n",
    "\n",
    "# Réordonner l'index et remplir les mois manquants avec des zéros\n",
    "absences_par_mois_et_categorie = absences_par_mois_et_categorie.reindex(range(1, 13), fill_value=0)\n",
    "\n",
    "# Réorganiser les mois pour qu'ils commencent en septembre\n",
    "absences_par_mois_et_categorie = pd.concat([absences_par_mois_et_categorie.iloc[8:], absences_par_mois_et_categorie.iloc[:8]])\n",
    "\n",
    "# Créer le graphique à barres empilées\n",
    "plt.figure(figsize=(10, 6))\n",
    "\n",
    "# La clé est de passer un argument supplémentaire à sns.barplot pour indiquer les différentes catégories\n",
    "absences_par_mois_et_categorie.plot(kind='bar', stacked=True, colormap='viridis')\n",
    "\n",
    "plt.title(\"Distribution des absences par mois et par catégorie\")\n",
    "plt.xlabel(\"Mois\")\n",
    "plt.ylabel(\"Nombre d'absences\")\n",
    "plt.xticks(ticks=range(12), labels=[liste_mois[m-1] for m in range(1, 13)], rotation=45)\n",
    "\n",
    "plt.show()"
   ]
  },
  {
   "cell_type": "markdown",
   "id": "449aa39c",
   "metadata": {},
   "source": [
    "### Interprétation\n",
    "\n",
    "Ce graphe en batons illustre la répartition des absences excusées, justifiées, et ni excusées ni justifiées pour chaque mois.\n",
    "\n",
    "Il semble qu'il y ait une tendance notable d'absences justifiées dans les mois de janvier, mars et avril avec 48, 50 et 74 absences respectivement. Cela pourrait suggérer que ces mois sont particulièrement difficiles pour les étudiants, peut-être en raison de la pression académique accrue, comme des examens ou des rendus de projets.\n",
    "\n",
    "Concernant les absences excusées, on en trouve principalement en février et mars, soit 8 et 7 absences respectivement. Ce sont les seuls mois où ce type d'absence est répertorié.\n",
    "\n",
    "L'absentéisme non justifié, représenté par la catégorie \"Ni l'un ni l'autre\", semble plus répandu en mars, avril et juin, avec respectivement 19, 12 et 14 cas. Cela pourrait indiquer une baisse de la motivation ou un manque d'engagement des étudiants pendant ces mois, ce qui pourrait justifier des mesures de soutien supplémentaires ou des interventions de motivation durant ces périodes.\n",
    "\n",
    "Notons que les mois de septembre, octobre, novembre, décembre, juillet et août n'ont aucune absence excusée. Par ailleurs, septembre, juillet et août n'ont également aucun cas d'absences justifiées ou non justifiées, ce qui peut s'expliquer par le fait que ces mois correspondent généralement à des périodes de vacances scolaires."
   ]
  },
  {
   "cell_type": "markdown",
   "id": "d5c67d8b",
   "metadata": {},
   "source": [
    "### 3.G Combien y a-t-il d'étudiants par nombre d'absences ?<a class=\"anchor\" id=\"sec3.7\"></a>"
   ]
  },
  {
   "cell_type": "markdown",
   "id": "5eb9881f",
   "metadata": {},
   "source": [
    "On cherche à déterminer combien d'étudiants ont une absence, combien en ont deux, etc."
   ]
  },
  {
   "cell_type": "code",
   "execution_count": 41,
   "id": "1ba314e9",
   "metadata": {},
   "outputs": [
    {
     "ename": "NameError",
     "evalue": "name 'dp' is not defined",
     "output_type": "error",
     "traceback": [
      "\u001b[0;31m---------------------------------------------------------------------------\u001b[0m",
      "\u001b[0;31mNameError\u001b[0m                                 Traceback (most recent call last)",
      "Cell \u001b[0;32mIn [41], line 1\u001b[0m\n\u001b[0;32m----> 1\u001b[0m dp[\u001b[38;5;124m'\u001b[39m\u001b[38;5;124mNbAbs\u001b[39m\u001b[38;5;124m'\u001b[39m]\u001b[38;5;241m=\u001b[39m\u001b[38;5;241m0\u001b[39m\n\u001b[1;32m      2\u001b[0m \u001b[38;5;28;01mfor\u001b[39;00m i \u001b[38;5;129;01min\u001b[39;00m \u001b[38;5;28mrange\u001b[39m(\u001b[38;5;241m1\u001b[39m,dp\u001b[38;5;241m.\u001b[39mNumEtu\u001b[38;5;241m.\u001b[39mcount()):\n\u001b[1;32m      3\u001b[0m     dp[\u001b[38;5;124m'\u001b[39m\u001b[38;5;124mNbAbs\u001b[39m\u001b[38;5;124m'\u001b[39m]\u001b[38;5;241m.\u001b[39mloc[dp[\u001b[38;5;124m'\u001b[39m\u001b[38;5;124mNumEtu\u001b[39m\u001b[38;5;124m'\u001b[39m] \u001b[38;5;241m==\u001b[39m i] \u001b[38;5;241m=\u001b[39m df[df\u001b[38;5;241m.\u001b[39mNumEtu \u001b[38;5;241m==\u001b[39m i]\u001b[38;5;241m.\u001b[39mDate\u001b[38;5;241m.\u001b[39mcount()\n",
      "\u001b[0;31mNameError\u001b[0m: name 'dp' is not defined"
     ]
    }
   ],
   "source": [
    "dp['NbAbs']=0\n",
    "for i in range(1,dp.NumEtu.count()):\n",
    "    dp['NbAbs'].loc[dp['NumEtu'] == i] = df[df.NumEtu == i].Date.count()\n",
    "    \n",
    "    \n",
    "dp.NbAbs.sort_index()"
   ]
  },
  {
   "cell_type": "markdown",
   "id": "881126cc",
   "metadata": {},
   "source": [
    "En exécutant le code suivant, une erreur se produit. Cependant, elle n'empeche pas l'obtention du graphe. Nous avons essayé de régler l'erreur mais nous n'avons pas réussi. En effet,cette erreur se produit parce que nous essayons de passer une série avec d.value_counts()."
   ]
  },
  {
   "cell_type": "markdown",
   "id": "7bfa72a5",
   "metadata": {},
   "source": [
    "\n"
   ]
  },
  {
   "cell_type": "code",
   "execution_count": 24,
   "id": "198fdf7c",
   "metadata": {
    "scrolled": false
   },
   "outputs": [
    {
     "ename": "ValueError",
     "evalue": "The truth value of a Series is ambiguous. Use a.empty, a.bool(), a.item(), a.any() or a.all().",
     "output_type": "error",
     "traceback": [
      "\u001b[0;31m---------------------------------------------------------------------------\u001b[0m",
      "\u001b[0;31mValueError\u001b[0m                                Traceback (most recent call last)",
      "Cell \u001b[0;32mIn [24], line 7\u001b[0m\n\u001b[1;32m      3\u001b[0m d \u001b[38;5;241m=\u001b[39m df[\u001b[38;5;124m'\u001b[39m\u001b[38;5;124mDate\u001b[39m\u001b[38;5;124m'\u001b[39m]\n\u001b[1;32m      6\u001b[0m \u001b[38;5;66;03m# Créer le diagramme en bâtons\u001b[39;00m\n\u001b[0;32m----> 7\u001b[0m g \u001b[38;5;241m=\u001b[39m sns\u001b[38;5;241m.\u001b[39mcatplot(x\u001b[38;5;241m=\u001b[39md\u001b[38;5;241m.\u001b[39mvalue_counts(), data\u001b[38;5;241m=\u001b[39mdf, kind\u001b[38;5;241m=\u001b[39m\u001b[38;5;124m'\u001b[39m\u001b[38;5;124mcount\u001b[39m\u001b[38;5;124m'\u001b[39m)\n\u001b[1;32m      9\u001b[0m \u001b[38;5;66;03m# Personnaliser les étiquettes et le titre du diagramme\u001b[39;00m\n\u001b[1;32m     10\u001b[0m g\u001b[38;5;241m.\u001b[39mset(xlabel\u001b[38;5;241m=\u001b[39m\u001b[38;5;124m'\u001b[39m\u001b[38;5;124mNombre d\u001b[39m\u001b[38;5;130;01m\\'\u001b[39;00m\u001b[38;5;124mabsences\u001b[39m\u001b[38;5;124m'\u001b[39m,\n\u001b[1;32m     11\u001b[0m       ylabel\u001b[38;5;241m=\u001b[39m\u001b[38;5;124m'\u001b[39m\u001b[38;5;124mEffectif\u001b[39m\u001b[38;5;124m'\u001b[39m,\n\u001b[1;32m     12\u001b[0m       title\u001b[38;5;241m=\u001b[39m\u001b[38;5;124m'\u001b[39m\u001b[38;5;124mRépartition des étudiants par nombre d\u001b[39m\u001b[38;5;130;01m\\'\u001b[39;00m\u001b[38;5;124mabsences\u001b[39m\u001b[38;5;124m'\u001b[39m)\n",
      "File \u001b[0;32m/opt/tljh/user/lib/python3.9/site-packages/seaborn/categorical.py:3244\u001b[0m, in \u001b[0;36mcatplot\u001b[0;34m(data, x, y, hue, row, col, col_wrap, estimator, errorbar, n_boot, units, seed, order, hue_order, row_order, col_order, height, aspect, kind, native_scale, formatter, orient, color, palette, hue_norm, legend, legend_out, sharex, sharey, margin_titles, facet_kws, ci, **kwargs)\u001b[0m\n\u001b[1;32m   3241\u001b[0m g \u001b[38;5;241m=\u001b[39m FacetGrid(\u001b[38;5;241m*\u001b[39m\u001b[38;5;241m*\u001b[39mfacet_kws)\n\u001b[1;32m   3243\u001b[0m \u001b[38;5;66;03m# Draw the plot onto the facets\u001b[39;00m\n\u001b[0;32m-> 3244\u001b[0m \u001b[43mg\u001b[49m\u001b[38;5;241;43m.\u001b[39;49m\u001b[43mmap_dataframe\u001b[49m\u001b[43m(\u001b[49m\u001b[43mplot_func\u001b[49m\u001b[43m,\u001b[49m\u001b[43m \u001b[49m\u001b[43mx\u001b[49m\u001b[38;5;241;43m=\u001b[39;49m\u001b[43mx\u001b[49m\u001b[43m,\u001b[49m\u001b[43m \u001b[49m\u001b[43my\u001b[49m\u001b[38;5;241;43m=\u001b[39;49m\u001b[43my\u001b[49m\u001b[43m,\u001b[49m\u001b[43m \u001b[49m\u001b[43mhue\u001b[49m\u001b[38;5;241;43m=\u001b[39;49m\u001b[43mhue\u001b[49m\u001b[43m,\u001b[49m\u001b[43m \u001b[49m\u001b[38;5;241;43m*\u001b[39;49m\u001b[38;5;241;43m*\u001b[39;49m\u001b[43mplot_kws\u001b[49m\u001b[43m)\u001b[49m\n\u001b[1;32m   3246\u001b[0m \u001b[38;5;28;01mif\u001b[39;00m p\u001b[38;5;241m.\u001b[39morient \u001b[38;5;241m==\u001b[39m \u001b[38;5;124m\"\u001b[39m\u001b[38;5;124mh\u001b[39m\u001b[38;5;124m\"\u001b[39m:\n\u001b[1;32m   3247\u001b[0m     g\u001b[38;5;241m.\u001b[39mset_axis_labels(p\u001b[38;5;241m.\u001b[39mvalue_label, p\u001b[38;5;241m.\u001b[39mgroup_label)\n",
      "File \u001b[0;32m/opt/tljh/user/lib/python3.9/site-packages/seaborn/axisgrid.py:826\u001b[0m, in \u001b[0;36mFacetGrid.map_dataframe\u001b[0;34m(self, func, *args, **kwargs)\u001b[0m\n\u001b[1;32m    824\u001b[0m \u001b[38;5;28;01mfor\u001b[39;00m i, val \u001b[38;5;129;01min\u001b[39;00m \u001b[38;5;28menumerate\u001b[39m(args[:\u001b[38;5;241m2\u001b[39m]):\n\u001b[1;32m    825\u001b[0m     axis_labels[i] \u001b[38;5;241m=\u001b[39m val\n\u001b[0;32m--> 826\u001b[0m \u001b[38;5;28;43mself\u001b[39;49m\u001b[38;5;241;43m.\u001b[39;49m\u001b[43m_finalize_grid\u001b[49m\u001b[43m(\u001b[49m\u001b[43maxis_labels\u001b[49m\u001b[43m)\u001b[49m\n\u001b[1;32m    828\u001b[0m \u001b[38;5;28;01mreturn\u001b[39;00m \u001b[38;5;28mself\u001b[39m\n",
      "File \u001b[0;32m/opt/tljh/user/lib/python3.9/site-packages/seaborn/axisgrid.py:855\u001b[0m, in \u001b[0;36mFacetGrid._finalize_grid\u001b[0;34m(self, axlabels)\u001b[0m\n\u001b[1;32m    853\u001b[0m \u001b[38;5;28;01mdef\u001b[39;00m \u001b[38;5;21m_finalize_grid\u001b[39m(\u001b[38;5;28mself\u001b[39m, axlabels):\n\u001b[1;32m    854\u001b[0m     \u001b[38;5;124;03m\"\"\"Finalize the annotations and layout.\"\"\"\u001b[39;00m\n\u001b[0;32m--> 855\u001b[0m     \u001b[38;5;28;43mself\u001b[39;49m\u001b[38;5;241;43m.\u001b[39;49m\u001b[43mset_axis_labels\u001b[49m\u001b[43m(\u001b[49m\u001b[38;5;241;43m*\u001b[39;49m\u001b[43maxlabels\u001b[49m\u001b[43m)\u001b[49m\n\u001b[1;32m    856\u001b[0m     \u001b[38;5;28mself\u001b[39m\u001b[38;5;241m.\u001b[39mtight_layout()\n",
      "File \u001b[0;32m/opt/tljh/user/lib/python3.9/site-packages/seaborn/axisgrid.py:881\u001b[0m, in \u001b[0;36mFacetGrid.set_axis_labels\u001b[0;34m(self, x_var, y_var, clear_inner, **kwargs)\u001b[0m\n\u001b[1;32m    879\u001b[0m \u001b[38;5;28;01mif\u001b[39;00m x_var \u001b[38;5;129;01mis\u001b[39;00m \u001b[38;5;129;01mnot\u001b[39;00m \u001b[38;5;28;01mNone\u001b[39;00m:\n\u001b[1;32m    880\u001b[0m     \u001b[38;5;28mself\u001b[39m\u001b[38;5;241m.\u001b[39m_x_var \u001b[38;5;241m=\u001b[39m x_var\n\u001b[0;32m--> 881\u001b[0m     \u001b[38;5;28;43mself\u001b[39;49m\u001b[38;5;241;43m.\u001b[39;49m\u001b[43mset_xlabels\u001b[49m\u001b[43m(\u001b[49m\u001b[43mx_var\u001b[49m\u001b[43m,\u001b[49m\u001b[43m \u001b[49m\u001b[43mclear_inner\u001b[49m\u001b[38;5;241;43m=\u001b[39;49m\u001b[43mclear_inner\u001b[49m\u001b[43m,\u001b[49m\u001b[43m \u001b[49m\u001b[38;5;241;43m*\u001b[39;49m\u001b[38;5;241;43m*\u001b[39;49m\u001b[43mkwargs\u001b[49m\u001b[43m)\u001b[49m\n\u001b[1;32m    882\u001b[0m \u001b[38;5;28;01mif\u001b[39;00m y_var \u001b[38;5;129;01mis\u001b[39;00m \u001b[38;5;129;01mnot\u001b[39;00m \u001b[38;5;28;01mNone\u001b[39;00m:\n\u001b[1;32m    883\u001b[0m     \u001b[38;5;28mself\u001b[39m\u001b[38;5;241m.\u001b[39m_y_var \u001b[38;5;241m=\u001b[39m y_var\n",
      "File \u001b[0;32m/opt/tljh/user/lib/python3.9/site-packages/seaborn/axisgrid.py:893\u001b[0m, in \u001b[0;36mFacetGrid.set_xlabels\u001b[0;34m(self, label, clear_inner, **kwargs)\u001b[0m\n\u001b[1;32m    891\u001b[0m     label \u001b[38;5;241m=\u001b[39m \u001b[38;5;28mself\u001b[39m\u001b[38;5;241m.\u001b[39m_x_var\n\u001b[1;32m    892\u001b[0m \u001b[38;5;28;01mfor\u001b[39;00m ax \u001b[38;5;129;01min\u001b[39;00m \u001b[38;5;28mself\u001b[39m\u001b[38;5;241m.\u001b[39m_bottom_axes:\n\u001b[0;32m--> 893\u001b[0m     \u001b[43max\u001b[49m\u001b[38;5;241;43m.\u001b[39;49m\u001b[43mset_xlabel\u001b[49m\u001b[43m(\u001b[49m\u001b[43mlabel\u001b[49m\u001b[43m,\u001b[49m\u001b[43m \u001b[49m\u001b[38;5;241;43m*\u001b[39;49m\u001b[38;5;241;43m*\u001b[39;49m\u001b[43mkwargs\u001b[49m\u001b[43m)\u001b[49m\n\u001b[1;32m    894\u001b[0m \u001b[38;5;28;01mif\u001b[39;00m clear_inner:\n\u001b[1;32m    895\u001b[0m     \u001b[38;5;28;01mfor\u001b[39;00m ax \u001b[38;5;129;01min\u001b[39;00m \u001b[38;5;28mself\u001b[39m\u001b[38;5;241m.\u001b[39m_not_bottom_axes:\n",
      "File \u001b[0;32m/opt/tljh/user/lib/python3.9/site-packages/matplotlib/axes/_base.py:3506\u001b[0m, in \u001b[0;36m_AxesBase.set_xlabel\u001b[0;34m(self, xlabel, fontdict, labelpad, loc, **kwargs)\u001b[0m\n\u001b[1;32m   3499\u001b[0m     x \u001b[38;5;241m=\u001b[39m {\n\u001b[1;32m   3500\u001b[0m         \u001b[38;5;124m'\u001b[39m\u001b[38;5;124mleft\u001b[39m\u001b[38;5;124m'\u001b[39m: \u001b[38;5;241m0\u001b[39m,\n\u001b[1;32m   3501\u001b[0m         \u001b[38;5;124m'\u001b[39m\u001b[38;5;124mcenter\u001b[39m\u001b[38;5;124m'\u001b[39m: \u001b[38;5;241m0.5\u001b[39m,\n\u001b[1;32m   3502\u001b[0m         \u001b[38;5;124m'\u001b[39m\u001b[38;5;124mright\u001b[39m\u001b[38;5;124m'\u001b[39m: \u001b[38;5;241m1\u001b[39m,\n\u001b[1;32m   3503\u001b[0m     }[loc]\n\u001b[1;32m   3504\u001b[0m     kwargs\u001b[38;5;241m.\u001b[39mupdate(x\u001b[38;5;241m=\u001b[39mx, horizontalalignment\u001b[38;5;241m=\u001b[39mloc)\n\u001b[0;32m-> 3506\u001b[0m \u001b[38;5;28;01mreturn\u001b[39;00m \u001b[38;5;28;43mself\u001b[39;49m\u001b[38;5;241;43m.\u001b[39;49m\u001b[43mxaxis\u001b[49m\u001b[38;5;241;43m.\u001b[39;49m\u001b[43mset_label_text\u001b[49m\u001b[43m(\u001b[49m\u001b[43mxlabel\u001b[49m\u001b[43m,\u001b[49m\u001b[43m \u001b[49m\u001b[43mfontdict\u001b[49m\u001b[43m,\u001b[49m\u001b[43m \u001b[49m\u001b[38;5;241;43m*\u001b[39;49m\u001b[38;5;241;43m*\u001b[39;49m\u001b[43mkwargs\u001b[49m\u001b[43m)\u001b[49m\n",
      "File \u001b[0;32m/opt/tljh/user/lib/python3.9/site-packages/matplotlib/axis.py:1719\u001b[0m, in \u001b[0;36mAxis.set_label_text\u001b[0;34m(self, label, fontdict, **kwargs)\u001b[0m\n\u001b[1;32m   1706\u001b[0m \u001b[38;5;124;03m\"\"\"\u001b[39;00m\n\u001b[1;32m   1707\u001b[0m \u001b[38;5;124;03mSet the text value of the axis label.\u001b[39;00m\n\u001b[1;32m   1708\u001b[0m \n\u001b[0;32m   (...)\u001b[0m\n\u001b[1;32m   1716\u001b[0m \u001b[38;5;124;03m    Merged into fontdict.\u001b[39;00m\n\u001b[1;32m   1717\u001b[0m \u001b[38;5;124;03m\"\"\"\u001b[39;00m\n\u001b[1;32m   1718\u001b[0m \u001b[38;5;28mself\u001b[39m\u001b[38;5;241m.\u001b[39misDefault_label \u001b[38;5;241m=\u001b[39m \u001b[38;5;28;01mFalse\u001b[39;00m\n\u001b[0;32m-> 1719\u001b[0m \u001b[38;5;28;43mself\u001b[39;49m\u001b[38;5;241;43m.\u001b[39;49m\u001b[43mlabel\u001b[49m\u001b[38;5;241;43m.\u001b[39;49m\u001b[43mset_text\u001b[49m\u001b[43m(\u001b[49m\u001b[43mlabel\u001b[49m\u001b[43m)\u001b[49m\n\u001b[1;32m   1720\u001b[0m \u001b[38;5;28;01mif\u001b[39;00m fontdict \u001b[38;5;129;01mis\u001b[39;00m \u001b[38;5;129;01mnot\u001b[39;00m \u001b[38;5;28;01mNone\u001b[39;00m:\n\u001b[1;32m   1721\u001b[0m     \u001b[38;5;28mself\u001b[39m\u001b[38;5;241m.\u001b[39mlabel\u001b[38;5;241m.\u001b[39mupdate(fontdict)\n",
      "File \u001b[0;32m/opt/tljh/user/lib/python3.9/site-packages/matplotlib/text.py:1241\u001b[0m, in \u001b[0;36mText.set_text\u001b[0;34m(self, s)\u001b[0m\n\u001b[1;32m   1239\u001b[0m \u001b[38;5;28;01mif\u001b[39;00m s \u001b[38;5;129;01mis\u001b[39;00m \u001b[38;5;28;01mNone\u001b[39;00m:\n\u001b[1;32m   1240\u001b[0m     s \u001b[38;5;241m=\u001b[39m \u001b[38;5;124m'\u001b[39m\u001b[38;5;124m'\u001b[39m\n\u001b[0;32m-> 1241\u001b[0m \u001b[38;5;28;01mif\u001b[39;00m s \u001b[38;5;241m!=\u001b[39m \u001b[38;5;28mself\u001b[39m\u001b[38;5;241m.\u001b[39m_text:\n\u001b[1;32m   1242\u001b[0m     \u001b[38;5;28mself\u001b[39m\u001b[38;5;241m.\u001b[39m_text \u001b[38;5;241m=\u001b[39m \u001b[38;5;28mstr\u001b[39m(s)\n\u001b[1;32m   1243\u001b[0m     \u001b[38;5;28mself\u001b[39m\u001b[38;5;241m.\u001b[39mstale \u001b[38;5;241m=\u001b[39m \u001b[38;5;28;01mTrue\u001b[39;00m\n",
      "File \u001b[0;32m/opt/tljh/user/lib/python3.9/site-packages/pandas/core/generic.py:1527\u001b[0m, in \u001b[0;36mNDFrame.__nonzero__\u001b[0;34m(self)\u001b[0m\n\u001b[1;32m   1525\u001b[0m \u001b[38;5;129m@final\u001b[39m\n\u001b[1;32m   1526\u001b[0m \u001b[38;5;28;01mdef\u001b[39;00m \u001b[38;5;21m__nonzero__\u001b[39m(\u001b[38;5;28mself\u001b[39m) \u001b[38;5;241m-\u001b[39m\u001b[38;5;241m>\u001b[39m NoReturn:\n\u001b[0;32m-> 1527\u001b[0m     \u001b[38;5;28;01mraise\u001b[39;00m \u001b[38;5;167;01mValueError\u001b[39;00m(\n\u001b[1;32m   1528\u001b[0m         \u001b[38;5;124mf\u001b[39m\u001b[38;5;124m\"\u001b[39m\u001b[38;5;124mThe truth value of a \u001b[39m\u001b[38;5;132;01m{\u001b[39;00m\u001b[38;5;28mtype\u001b[39m(\u001b[38;5;28mself\u001b[39m)\u001b[38;5;241m.\u001b[39m\u001b[38;5;18m__name__\u001b[39m\u001b[38;5;132;01m}\u001b[39;00m\u001b[38;5;124m is ambiguous. \u001b[39m\u001b[38;5;124m\"\u001b[39m\n\u001b[1;32m   1529\u001b[0m         \u001b[38;5;124m\"\u001b[39m\u001b[38;5;124mUse a.empty, a.bool(), a.item(), a.any() or a.all().\u001b[39m\u001b[38;5;124m\"\u001b[39m\n\u001b[1;32m   1530\u001b[0m     )\n",
      "\u001b[0;31mValueError\u001b[0m: The truth value of a Series is ambiguous. Use a.empty, a.bool(), a.item(), a.any() or a.all()."
     ]
    },
    {
     "data": {
      "image/png": "[encoded data removed]",
      "text/plain": [
       "<Figure size 500x500 with 1 Axes>"
      ]
     },
     "metadata": {},
     "output_type": "display_data"
    }
   ],
   "source": [
    "import matplotlib.pyplot as plt\n",
    "\n",
    "# Créer le diagramme en bâtons\n",
    "g = sns.catplot(x=dp['NbAbs'], data=dp, kind='count')\n",
    "\n",
    "# Personnaliser les étiquettes et le titre du diagramme\n",
    "g.set(xlabel='Nombre d\\'absences',\n",
    "      ylabel='Effectif',\n",
    "      title='Répartition des étudiants par nombre d\\'absences')\n",
    "\n",
    "# Ajuster la taille du diagramme\n",
    "#plt.figure(figsize=(10, 6))\n",
    "\n",
    "# Afficher le diagramme\n",
    "plt.show()"
   ]
  },
  {
   "cell_type": "code",
   "execution_count": null,
   "id": "37df1ec7",
   "metadata": {},
   "outputs": [],
   "source": [
    "#calculs des quartiles\n",
    "print(\"Q1 = \",dp.NbAbs.quantile(q=0.25))\n",
    "print(\"Q2 = M = \",dp.NbAbs.quantile(q=0.5))\n",
    "print(\"Q3 = \",dp.NbAbs.quantile(q=0.75))"
   ]
  },
  {
   "cell_type": "code",
   "execution_count": null,
   "id": "f00a72b0",
   "metadata": {},
   "outputs": [],
   "source": [
    "#courbe des fréquences cumulées\n",
    "sns.displot(x='NbAbs', data = dp, kind = 'ecdf')"
   ]
  },
  {
   "cell_type": "code",
   "execution_count": null,
   "id": "d09ecf71",
   "metadata": {},
   "outputs": [],
   "source": [
    "#boîte à moustaches\n",
    "sns.catplot(data = dp,x = 'NbAbs', kind = 'box')"
   ]
  },
  {
   "cell_type": "markdown",
   "id": "72f38437",
   "metadata": {},
   "source": [
    "### Interprétation\n",
    "\n",
    "Ces résultats décrivent la distribution des absences parmi les étudiants. Voici une interprétation de ces résultats :\n",
    "\n",
    "Voici quelques interprétations du diagramme en baton:\n",
    "\n",
    "On a 12 étudiants qui n'ont aucune absences\n",
    "On a 11 étudiants qui ont 1 absence\n",
    "On a 4 étudiants qui ont 2 absences\n",
    "\n",
    "On remarque qu'il y a un seul étudiant pour le nombre d'absences 10,12,13,15,17,18,19,30 et 34. On remarque que la moitié des étudiants ont moins de 3 absences et l'autre moitié sont au-dessus. Il semble que la majorité des étudiants a peu d'absences (1 ou 2), alors que le nombre d'étudiants ayant un nombre d'absences plus élevé est plus faible. Cela pourrait indiquer une bonne participation globale des étudiants.\n"
   ]
  },
  {
   "cell_type": "markdown",
   "id": "4ed92454",
   "metadata": {},
   "source": [
    "## 4. Performance académique des étudiants<a class=\"anchor\" id=\"sec4\"></a>"
   ]
  },
  {
   "cell_type": "markdown",
   "id": "2c8741c9",
   "metadata": {},
   "source": [
    "La troisième partie de notre étude est consacrée à l'analyse des performances académiques des étudiants. L'objectif principal de cette section est de comprendre et d'explorer les facteurs qui peuvent influencer les performances académiques et d'examiner comment elles se traduisent en termes de résultats obtenus par les étudiants.\n",
    "\n",
    "Nous commencerons par examiner la proportion des notes du portfolio par étudiant. Cette analyse nous donnera un aperçu des performances individuelles des étudiants.\n",
    "\n",
    "Nous nous pencherons ensuite sur l'impact potentiel de l'âge des étudiants sur leurs résultats académiques. Cela nous permettra d'identifier si l'âge peut être un facteur déterminant dans les performances académiques.\n",
    "\n",
    "Ensuite, nous examinerons le lien entre le motif des absences et les résultats académiques des étudiants. Cela nous aidera à comprendre si certaines raisons d'absence sont plus fortement liées à des performances académiques faibles ou élevées.\n",
    "\n",
    "Nous explorerons également si le nombre d'absences a une influence sur les notes obtenues. Cela peut nous aider à comprendre comment l'engagement peut affecter les performances académiques.\n",
    "\n",
    "Enfin, nous analyserons les liens entre les résultats dans différentes Unités d'Enseignement, en particulier dans les matières liées aux langues et à la communication, ainsi qu'entre les matières scientifiques et non scientifiques. Ces analyses nous permettront de comprendre comment les compétences dans certaines matières peuvent influencer les performances dans d'autres.\n",
    "\n",
    "Nous avons décider pour cette partie de modifier la base de donnée. Nous expliquons ce choix par le fait que nous allons étudié les notes des étudiants hors certains d'entre eux ont décidé d'abandonner leurs cursus ce qui influence de manière à biaiser les résultats. En effet, on pourrait se retrouver avec des notes égale à 0 qui tirerait notre moyenne vers le bas."
   ]
  },
  {
   "cell_type": "markdown",
   "id": "63da9668",
   "metadata": {},
   "source": [
    "### 4.A Proportion des notes du portfolio par étudiant<a class=\"anchor\" id=\"sec4.1\"></a>"
   ]
  },
  {
   "cell_type": "markdown",
   "id": "bf8669cc",
   "metadata": {},
   "source": [
    "Commençons par importer la base de données ainsi que les librairies nécessaires :"
   ]
  },
  {
   "cell_type": "code",
   "execution_count": 41,
   "id": "517bccf8",
   "metadata": {},
   "outputs": [],
   "source": [
    "import numpy as np\n",
    "import pandas as pd\n",
    "import seaborn as sns"
   ]
  },
  {
   "cell_type": "code",
   "execution_count": 42,
   "id": "dc540c3b",
   "metadata": {},
   "outputs": [],
   "source": [
    "dp = pd.read_csv('etudiants.csv', sep = ';', decimal=\",\")"
   ]
  },
  {
   "cell_type": "code",
   "execution_count": 43,
   "id": "86c17ac4",
   "metadata": {},
   "outputs": [],
   "source": [
    "dp.drop([20,38], inplace=True)"
   ]
  },
  {
   "cell_type": "code",
   "execution_count": 44,
   "id": "1988f983",
   "metadata": {},
   "outputs": [
    {
     "data": {
      "text/html": [
       "<div>\n",
       "<style scoped>\n",
       "    .dataframe tbody tr th:only-of-type {\n",
       "        vertical-align: middle;\n",
       "    }\n",
       "\n",
       "    .dataframe tbody tr th {\n",
       "        vertical-align: top;\n",
       "    }\n",
       "\n",
       "    .dataframe thead th {\n",
       "        text-align: right;\n",
       "    }\n",
       "</style>\n",
       "<table border=\"1\" class=\"dataframe\">\n",
       "  <thead>\n",
       "    <tr style=\"text-align: right;\">\n",
       "      <th></th>\n",
       "      <th>NumEtu</th>\n",
       "      <th>Naissance</th>\n",
       "      <th>Bac</th>\n",
       "      <th>ParcSup</th>\n",
       "      <th>UE 2.1</th>\n",
       "      <th>UE 2.2</th>\n",
       "      <th>UE 2.3</th>\n",
       "      <th>UE 2.4</th>\n",
       "      <th>UE 2.5</th>\n",
       "      <th>UE 2.6</th>\n",
       "      <th>...</th>\n",
       "      <th>R2.12</th>\n",
       "      <th>R2.13</th>\n",
       "      <th>R2.14</th>\n",
       "      <th>S2.01</th>\n",
       "      <th>S2.02</th>\n",
       "      <th>S2.03</th>\n",
       "      <th>S2.04</th>\n",
       "      <th>S2.05</th>\n",
       "      <th>S2.06</th>\n",
       "      <th>Portfolio</th>\n",
       "    </tr>\n",
       "  </thead>\n",
       "  <tbody>\n",
       "    <tr>\n",
       "      <th>0</th>\n",
       "      <td>1</td>\n",
       "      <td>15/12/2002</td>\n",
       "      <td>S-Sciences</td>\n",
       "      <td>137.0</td>\n",
       "      <td>13.608</td>\n",
       "      <td>14.705</td>\n",
       "      <td>13.824</td>\n",
       "      <td>12.733</td>\n",
       "      <td>14.291</td>\n",
       "      <td>14.730</td>\n",
       "      <td>...</td>\n",
       "      <td>13.9</td>\n",
       "      <td>13.66</td>\n",
       "      <td>14.85</td>\n",
       "      <td>14.68</td>\n",
       "      <td>13.5</td>\n",
       "      <td>16.0</td>\n",
       "      <td>12.5</td>\n",
       "      <td>15.37</td>\n",
       "      <td>17.0</td>\n",
       "      <td>13.0</td>\n",
       "    </tr>\n",
       "    <tr>\n",
       "      <th>1</th>\n",
       "      <td>2</td>\n",
       "      <td>25/04/2002</td>\n",
       "      <td>STI2D</td>\n",
       "      <td>NaN</td>\n",
       "      <td>12.608</td>\n",
       "      <td>12.878</td>\n",
       "      <td>10.790</td>\n",
       "      <td>10.545</td>\n",
       "      <td>10.664</td>\n",
       "      <td>13.987</td>\n",
       "      <td>...</td>\n",
       "      <td>15.1</td>\n",
       "      <td>10.33</td>\n",
       "      <td>13.25</td>\n",
       "      <td>16.41</td>\n",
       "      <td>13.5</td>\n",
       "      <td>17.3</td>\n",
       "      <td>10.0</td>\n",
       "      <td>11.50</td>\n",
       "      <td>17.0</td>\n",
       "      <td>12.0</td>\n",
       "    </tr>\n",
       "    <tr>\n",
       "      <th>2</th>\n",
       "      <td>3</td>\n",
       "      <td>11/10/2003</td>\n",
       "      <td>STI2D</td>\n",
       "      <td>133.0</td>\n",
       "      <td>11.951</td>\n",
       "      <td>12.013</td>\n",
       "      <td>11.425</td>\n",
       "      <td>10.400</td>\n",
       "      <td>12.272</td>\n",
       "      <td>14.095</td>\n",
       "      <td>...</td>\n",
       "      <td>12.0</td>\n",
       "      <td>11.50</td>\n",
       "      <td>14.25</td>\n",
       "      <td>16.86</td>\n",
       "      <td>16.0</td>\n",
       "      <td>17.0</td>\n",
       "      <td>10.0</td>\n",
       "      <td>14.25</td>\n",
       "      <td>16.3</td>\n",
       "      <td>12.0</td>\n",
       "    </tr>\n",
       "    <tr>\n",
       "      <th>3</th>\n",
       "      <td>4</td>\n",
       "      <td>21/06/2002</td>\n",
       "      <td>STI2D</td>\n",
       "      <td>14.0</td>\n",
       "      <td>16.491</td>\n",
       "      <td>15.345</td>\n",
       "      <td>15.389</td>\n",
       "      <td>13.648</td>\n",
       "      <td>16.195</td>\n",
       "      <td>14.980</td>\n",
       "      <td>...</td>\n",
       "      <td>15.5</td>\n",
       "      <td>13.83</td>\n",
       "      <td>13.45</td>\n",
       "      <td>17.11</td>\n",
       "      <td>16.5</td>\n",
       "      <td>17.3</td>\n",
       "      <td>11.0</td>\n",
       "      <td>17.37</td>\n",
       "      <td>15.7</td>\n",
       "      <td>15.0</td>\n",
       "    </tr>\n",
       "    <tr>\n",
       "      <th>4</th>\n",
       "      <td>5</td>\n",
       "      <td>16/11/2003</td>\n",
       "      <td>NBGE</td>\n",
       "      <td>113.0</td>\n",
       "      <td>14.253</td>\n",
       "      <td>16.078</td>\n",
       "      <td>11.546</td>\n",
       "      <td>13.192</td>\n",
       "      <td>14.996</td>\n",
       "      <td>14.962</td>\n",
       "      <td>...</td>\n",
       "      <td>14.2</td>\n",
       "      <td>15.13</td>\n",
       "      <td>15.55</td>\n",
       "      <td>16.53</td>\n",
       "      <td>16.5</td>\n",
       "      <td>16.0</td>\n",
       "      <td>10.0</td>\n",
       "      <td>14.87</td>\n",
       "      <td>15.7</td>\n",
       "      <td>13.0</td>\n",
       "    </tr>\n",
       "  </tbody>\n",
       "</table>\n",
       "<p>5 rows × 31 columns</p>\n",
       "</div>"
      ],
      "text/plain": [
       "   NumEtu    Naissance         Bac  ParcSup  UE 2.1  UE 2.2  UE 2.3  UE 2.4  \\\n",
       "0       1   15/12/2002  S-Sciences    137.0  13.608  14.705  13.824  12.733   \n",
       "1       2   25/04/2002       STI2D      NaN  12.608  12.878  10.790  10.545   \n",
       "2       3   11/10/2003       STI2D    133.0  11.951  12.013  11.425  10.400   \n",
       "3       4   21/06/2002       STI2D     14.0  16.491  15.345  15.389  13.648   \n",
       "4       5   16/11/2003        NBGE    113.0  14.253  16.078  11.546  13.192   \n",
       "\n",
       "   UE 2.5  UE 2.6  ...  R2.12  R2.13  R2.14  S2.01  S2.02  S2.03  S2.04  \\\n",
       "0  14.291  14.730  ...   13.9  13.66  14.85  14.68   13.5   16.0   12.5   \n",
       "1  10.664  13.987  ...   15.1  10.33  13.25  16.41   13.5   17.3   10.0   \n",
       "2  12.272  14.095  ...   12.0  11.50  14.25  16.86   16.0   17.0   10.0   \n",
       "3  16.195  14.980  ...   15.5  13.83  13.45  17.11   16.5   17.3   11.0   \n",
       "4  14.996  14.962  ...   14.2  15.13  15.55  16.53   16.5   16.0   10.0   \n",
       "\n",
       "   S2.05  S2.06  Portfolio  \n",
       "0  15.37   17.0       13.0  \n",
       "1  11.50   17.0       12.0  \n",
       "2  14.25   16.3       12.0  \n",
       "3  17.37   15.7       15.0  \n",
       "4  14.87   15.7       13.0  \n",
       "\n",
       "[5 rows x 31 columns]"
      ]
     },
     "execution_count": 44,
     "metadata": {},
     "output_type": "execute_result"
    }
   ],
   "source": [
    "dp.head()"
   ]
  },
  {
   "cell_type": "code",
   "execution_count": 45,
   "id": "e305dbfc",
   "metadata": {},
   "outputs": [
    {
     "data": {
      "text/html": [
       "<div>\n",
       "<style scoped>\n",
       "    .dataframe tbody tr th:only-of-type {\n",
       "        vertical-align: middle;\n",
       "    }\n",
       "\n",
       "    .dataframe tbody tr th {\n",
       "        vertical-align: top;\n",
       "    }\n",
       "\n",
       "    .dataframe thead th {\n",
       "        text-align: right;\n",
       "    }\n",
       "</style>\n",
       "<table border=\"1\" class=\"dataframe\">\n",
       "  <thead>\n",
       "    <tr style=\"text-align: right;\">\n",
       "      <th></th>\n",
       "      <th>NumEtu</th>\n",
       "      <th>ParcSup</th>\n",
       "      <th>UE 2.1</th>\n",
       "      <th>UE 2.2</th>\n",
       "      <th>UE 2.3</th>\n",
       "      <th>UE 2.4</th>\n",
       "      <th>UE 2.5</th>\n",
       "      <th>UE 2.6</th>\n",
       "      <th>R2.01</th>\n",
       "      <th>R2.02</th>\n",
       "      <th>...</th>\n",
       "      <th>R2.12</th>\n",
       "      <th>R2.13</th>\n",
       "      <th>R2.14</th>\n",
       "      <th>S2.01</th>\n",
       "      <th>S2.02</th>\n",
       "      <th>S2.03</th>\n",
       "      <th>S2.04</th>\n",
       "      <th>S2.05</th>\n",
       "      <th>S2.06</th>\n",
       "      <th>Portfolio</th>\n",
       "    </tr>\n",
       "  </thead>\n",
       "  <tbody>\n",
       "    <tr>\n",
       "      <th>count</th>\n",
       "      <td>53.000000</td>\n",
       "      <td>52.000000</td>\n",
       "      <td>51.000000</td>\n",
       "      <td>51.000000</td>\n",
       "      <td>51.000000</td>\n",
       "      <td>51.000000</td>\n",
       "      <td>51.000000</td>\n",
       "      <td>51.000000</td>\n",
       "      <td>52.000000</td>\n",
       "      <td>51.000000</td>\n",
       "      <td>...</td>\n",
       "      <td>52.000000</td>\n",
       "      <td>52.000000</td>\n",
       "      <td>51.000000</td>\n",
       "      <td>51.000000</td>\n",
       "      <td>52.000000</td>\n",
       "      <td>51.000000</td>\n",
       "      <td>52.000000</td>\n",
       "      <td>52.000000</td>\n",
       "      <td>51.000000</td>\n",
       "      <td>52.000000</td>\n",
       "    </tr>\n",
       "    <tr>\n",
       "      <th>mean</th>\n",
       "      <td>27.924528</td>\n",
       "      <td>90.115385</td>\n",
       "      <td>13.288529</td>\n",
       "      <td>13.209333</td>\n",
       "      <td>12.733431</td>\n",
       "      <td>12.425961</td>\n",
       "      <td>13.528745</td>\n",
       "      <td>13.514294</td>\n",
       "      <td>10.894231</td>\n",
       "      <td>13.181176</td>\n",
       "      <td>...</td>\n",
       "      <td>12.773077</td>\n",
       "      <td>12.825192</td>\n",
       "      <td>14.612745</td>\n",
       "      <td>15.622745</td>\n",
       "      <td>13.384615</td>\n",
       "      <td>15.554902</td>\n",
       "      <td>11.586538</td>\n",
       "      <td>14.873846</td>\n",
       "      <td>14.617647</td>\n",
       "      <td>13.519231</td>\n",
       "    </tr>\n",
       "    <tr>\n",
       "      <th>std</th>\n",
       "      <td>16.225394</td>\n",
       "      <td>48.406633</td>\n",
       "      <td>1.766936</td>\n",
       "      <td>2.331890</td>\n",
       "      <td>2.175302</td>\n",
       "      <td>1.357421</td>\n",
       "      <td>1.374270</td>\n",
       "      <td>1.546743</td>\n",
       "      <td>3.106897</td>\n",
       "      <td>1.524144</td>\n",
       "      <td>...</td>\n",
       "      <td>1.910458</td>\n",
       "      <td>1.925360</td>\n",
       "      <td>2.473112</td>\n",
       "      <td>2.655736</td>\n",
       "      <td>3.898989</td>\n",
       "      <td>1.470689</td>\n",
       "      <td>2.097433</td>\n",
       "      <td>1.861505</td>\n",
       "      <td>2.059486</td>\n",
       "      <td>2.287994</td>\n",
       "    </tr>\n",
       "    <tr>\n",
       "      <th>min</th>\n",
       "      <td>1.000000</td>\n",
       "      <td>2.000000</td>\n",
       "      <td>9.043000</td>\n",
       "      <td>7.343000</td>\n",
       "      <td>8.538000</td>\n",
       "      <td>8.959000</td>\n",
       "      <td>10.664000</td>\n",
       "      <td>10.128000</td>\n",
       "      <td>5.000000</td>\n",
       "      <td>9.580000</td>\n",
       "      <td>...</td>\n",
       "      <td>8.500000</td>\n",
       "      <td>8.400000</td>\n",
       "      <td>8.200000</td>\n",
       "      <td>8.330000</td>\n",
       "      <td>4.500000</td>\n",
       "      <td>12.700000</td>\n",
       "      <td>7.500000</td>\n",
       "      <td>11.500000</td>\n",
       "      <td>10.200000</td>\n",
       "      <td>5.000000</td>\n",
       "    </tr>\n",
       "    <tr>\n",
       "      <th>25%</th>\n",
       "      <td>14.000000</td>\n",
       "      <td>47.500000</td>\n",
       "      <td>12.048000</td>\n",
       "      <td>11.938000</td>\n",
       "      <td>11.422000</td>\n",
       "      <td>11.330000</td>\n",
       "      <td>12.562500</td>\n",
       "      <td>12.379500</td>\n",
       "      <td>8.750000</td>\n",
       "      <td>12.395000</td>\n",
       "      <td>...</td>\n",
       "      <td>11.400000</td>\n",
       "      <td>11.660000</td>\n",
       "      <td>13.250000</td>\n",
       "      <td>14.680000</td>\n",
       "      <td>12.250000</td>\n",
       "      <td>14.300000</td>\n",
       "      <td>10.000000</td>\n",
       "      <td>13.620000</td>\n",
       "      <td>13.250000</td>\n",
       "      <td>13.000000</td>\n",
       "    </tr>\n",
       "    <tr>\n",
       "      <th>50%</th>\n",
       "      <td>28.000000</td>\n",
       "      <td>99.500000</td>\n",
       "      <td>13.620000</td>\n",
       "      <td>13.460000</td>\n",
       "      <td>12.802000</td>\n",
       "      <td>12.646000</td>\n",
       "      <td>13.649000</td>\n",
       "      <td>13.877000</td>\n",
       "      <td>10.500000</td>\n",
       "      <td>13.710000</td>\n",
       "      <td>...</td>\n",
       "      <td>12.800000</td>\n",
       "      <td>13.000000</td>\n",
       "      <td>14.850000</td>\n",
       "      <td>15.580000</td>\n",
       "      <td>14.500000</td>\n",
       "      <td>16.000000</td>\n",
       "      <td>11.000000</td>\n",
       "      <td>15.120000</td>\n",
       "      <td>15.000000</td>\n",
       "      <td>14.000000</td>\n",
       "    </tr>\n",
       "    <tr>\n",
       "      <th>75%</th>\n",
       "      <td>42.000000</td>\n",
       "      <td>133.250000</td>\n",
       "      <td>14.251500</td>\n",
       "      <td>15.215500</td>\n",
       "      <td>14.657000</td>\n",
       "      <td>13.587000</td>\n",
       "      <td>14.292000</td>\n",
       "      <td>14.692000</td>\n",
       "      <td>13.000000</td>\n",
       "      <td>14.170000</td>\n",
       "      <td>...</td>\n",
       "      <td>14.100000</td>\n",
       "      <td>14.160000</td>\n",
       "      <td>16.250000</td>\n",
       "      <td>16.985000</td>\n",
       "      <td>16.500000</td>\n",
       "      <td>17.000000</td>\n",
       "      <td>13.000000</td>\n",
       "      <td>16.120000</td>\n",
       "      <td>16.300000</td>\n",
       "      <td>15.000000</td>\n",
       "    </tr>\n",
       "    <tr>\n",
       "      <th>max</th>\n",
       "      <td>55.000000</td>\n",
       "      <td>196.000000</td>\n",
       "      <td>16.491000</td>\n",
       "      <td>17.153000</td>\n",
       "      <td>16.968000</td>\n",
       "      <td>14.296000</td>\n",
       "      <td>16.195000</td>\n",
       "      <td>16.062000</td>\n",
       "      <td>17.000000</td>\n",
       "      <td>15.330000</td>\n",
       "      <td>...</td>\n",
       "      <td>17.700000</td>\n",
       "      <td>18.500000</td>\n",
       "      <td>18.800000</td>\n",
       "      <td>18.820000</td>\n",
       "      <td>18.000000</td>\n",
       "      <td>17.300000</td>\n",
       "      <td>16.000000</td>\n",
       "      <td>17.620000</td>\n",
       "      <td>18.700000</td>\n",
       "      <td>20.000000</td>\n",
       "    </tr>\n",
       "  </tbody>\n",
       "</table>\n",
       "<p>8 rows × 29 columns</p>\n",
       "</div>"
      ],
      "text/plain": [
       "          NumEtu     ParcSup     UE 2.1     UE 2.2     UE 2.3     UE 2.4  \\\n",
       "count  53.000000   52.000000  51.000000  51.000000  51.000000  51.000000   \n",
       "mean   27.924528   90.115385  13.288529  13.209333  12.733431  12.425961   \n",
       "std    16.225394   48.406633   1.766936   2.331890   2.175302   1.357421   \n",
       "min     1.000000    2.000000   9.043000   7.343000   8.538000   8.959000   \n",
       "25%    14.000000   47.500000  12.048000  11.938000  11.422000  11.330000   \n",
       "50%    28.000000   99.500000  13.620000  13.460000  12.802000  12.646000   \n",
       "75%    42.000000  133.250000  14.251500  15.215500  14.657000  13.587000   \n",
       "max    55.000000  196.000000  16.491000  17.153000  16.968000  14.296000   \n",
       "\n",
       "          UE 2.5     UE 2.6      R2.01      R2.02  ...      R2.12      R2.13  \\\n",
       "count  51.000000  51.000000  52.000000  51.000000  ...  52.000000  52.000000   \n",
       "mean   13.528745  13.514294  10.894231  13.181176  ...  12.773077  12.825192   \n",
       "std     1.374270   1.546743   3.106897   1.524144  ...   1.910458   1.925360   \n",
       "min    10.664000  10.128000   5.000000   9.580000  ...   8.500000   8.400000   \n",
       "25%    12.562500  12.379500   8.750000  12.395000  ...  11.400000  11.660000   \n",
       "50%    13.649000  13.877000  10.500000  13.710000  ...  12.800000  13.000000   \n",
       "75%    14.292000  14.692000  13.000000  14.170000  ...  14.100000  14.160000   \n",
       "max    16.195000  16.062000  17.000000  15.330000  ...  17.700000  18.500000   \n",
       "\n",
       "           R2.14      S2.01      S2.02      S2.03      S2.04      S2.05  \\\n",
       "count  51.000000  51.000000  52.000000  51.000000  52.000000  52.000000   \n",
       "mean   14.612745  15.622745  13.384615  15.554902  11.586538  14.873846   \n",
       "std     2.473112   2.655736   3.898989   1.470689   2.097433   1.861505   \n",
       "min     8.200000   8.330000   4.500000  12.700000   7.500000  11.500000   \n",
       "25%    13.250000  14.680000  12.250000  14.300000  10.000000  13.620000   \n",
       "50%    14.850000  15.580000  14.500000  16.000000  11.000000  15.120000   \n",
       "75%    16.250000  16.985000  16.500000  17.000000  13.000000  16.120000   \n",
       "max    18.800000  18.820000  18.000000  17.300000  16.000000  17.620000   \n",
       "\n",
       "           S2.06  Portfolio  \n",
       "count  51.000000  52.000000  \n",
       "mean   14.617647  13.519231  \n",
       "std     2.059486   2.287994  \n",
       "min    10.200000   5.000000  \n",
       "25%    13.250000  13.000000  \n",
       "50%    15.000000  14.000000  \n",
       "75%    16.300000  15.000000  \n",
       "max    18.700000  20.000000  \n",
       "\n",
       "[8 rows x 29 columns]"
      ]
     },
     "execution_count": 45,
     "metadata": {},
     "output_type": "execute_result"
    }
   ],
   "source": [
    "dp.describe()"
   ]
  },
  {
   "cell_type": "markdown",
   "id": "db0118fc",
   "metadata": {},
   "source": [
    "Nous pouvons enfin commencer notre étude statistique:"
   ]
  },
  {
   "cell_type": "code",
   "execution_count": 46,
   "id": "828c1cef",
   "metadata": {},
   "outputs": [
    {
     "data": {
      "text/plain": [
       "(-0.001, 5.0]     2\n",
       "(5.0, 10.0]       0\n",
       "(10.0, 15.0]     48\n",
       "(15.0, 20.0]      2\n",
       "Name: Portfolio, dtype: int64"
      ]
     },
     "execution_count": 46,
     "metadata": {},
     "output_type": "execute_result"
    }
   ],
   "source": [
    "dp.Portfolio.value_counts(bins = range(0,25,5)).sort_index()"
   ]
  },
  {
   "cell_type": "code",
   "execution_count": 47,
   "id": "a95c5c68",
   "metadata": {},
   "outputs": [
    {
     "data": {
      "text/plain": [
       "<seaborn.axisgrid.FacetGrid at 0x7f8f46124070>"
      ]
     },
     "execution_count": 47,
     "metadata": {},
     "output_type": "execute_result"
    },
    {
     "data": {
      "image/png": "[encoded data removed]",
      "text/plain": [
       "<Figure size 500x500 with 1 Axes>"
      ]
     },
     "metadata": {},
     "output_type": "display_data"
    }
   ],
   "source": [
    "g = sns.displot(x = dp.Portfolio, bins = [0,5,10,15,20,25], kind = 'hist', stat='density')\n",
    "g.set(title = \"Quelle est la proportion des notes du portfolio par étudiant\",\n",
    "     xlabel=\"Portfolio\",\n",
    "     ylabel=\"Effectif\")"
   ]
  },
  {
   "cell_type": "markdown",
   "id": "daf74d1f",
   "metadata": {},
   "source": [
    "### Interprétation\n",
    "\n",
    "Les résultats indiquent la distribution des notes du portfolio par étudiant en quatre groupes ou intervalles de notes :\n",
    "\n",
    "-Il y a 2 étudiants qui ont des notes dans l'intervalle ]-0.001, 5.0], c'est-à-dire des notes supérieures à 0 et inférieures ou égales à 5.\n",
    "\n",
    "-Il n'y a aucun étudiant qui a des notes dans l'intervalle (5.0, 10.0], c'est-à-dire des notes supérieures à 5 et inférieures ou égales à 10.\n",
    "\n",
    "-Il y a 48 étudiants qui ont des notes dans l'intervalle (10.0, 15.0], c'est-à-dire des notes supérieures à 10 et inférieures ou égales à 15.\n",
    "\n",
    "-Il y a 2 étudiants qui ont des notes dans l'intervalle (15.0, 20.0], c'est-à-dire des notes supérieures à 15 et inférieures ou égales à 20.\n",
    "\n",
    "Cela indique que la majorité des étudiants ont des notes de portfolio dans l'intervalle de 10 à 15. Très peu d'étudiants ont des notes inférieures à 5 ou supérieures à 15."
   ]
  },
  {
   "cell_type": "markdown",
   "id": "31ae4376",
   "metadata": {},
   "source": [
    "### 4.B Impact de l'âge des étudiants sur leurs résultats académiques<a class=\"anchor\" id=\"sec4.2\"></a>"
   ]
  },
  {
   "cell_type": "code",
   "execution_count": 49,
   "id": "c62d9c28",
   "metadata": {},
   "outputs": [
    {
     "name": "stdout",
     "output_type": "stream",
     "text": [
      "   NumEtu  Naissance         Bac  ParcSup  UE 2.1  UE 2.2  UE 2.3  UE 2.4  \\\n",
      "0       1 2002-12-15  S-Sciences    137.0  13.608  14.705  13.824  12.733   \n",
      "1       2 2002-04-25       STI2D      NaN  12.608  12.878  10.790  10.545   \n",
      "2       3 2003-11-10       STI2D    133.0  11.951  12.013  11.425  10.400   \n",
      "3       4 2002-06-21       STI2D     14.0  16.491  15.345  15.389  13.648   \n",
      "4       5 2003-11-16        NBGE    113.0  14.253  16.078  11.546  13.192   \n",
      "\n",
      "   UE 2.5  UE 2.6  ...  R2.13  R2.14  S2.01  S2.02  S2.03  S2.04  S2.05  \\\n",
      "0  14.291  14.730  ...  13.66  14.85  14.68   13.5   16.0   12.5  15.37   \n",
      "1  10.664  13.987  ...  10.33  13.25  16.41   13.5   17.3   10.0  11.50   \n",
      "2  12.272  14.095  ...  11.50  14.25  16.86   16.0   17.0   10.0  14.25   \n",
      "3  16.195  14.980  ...  13.83  13.45  17.11   16.5   17.3   11.0  17.37   \n",
      "4  14.996  14.962  ...  15.13  15.55  16.53   16.5   16.0   10.0  14.87   \n",
      "\n",
      "   S2.06  Portfolio  Age  \n",
      "0   17.0       13.0   20  \n",
      "1   17.0       12.0   21  \n",
      "2   16.3       12.0   19  \n",
      "3   15.7       15.0   20  \n",
      "4   15.7       13.0   19  \n",
      "\n",
      "[5 rows x 32 columns]\n"
     ]
    },
    {
     "ename": "ValueError",
     "evalue": "Could not interpret value `Moyenne` for parameter `y`",
     "output_type": "error",
     "traceback": [
      "\u001b[0;31m---------------------------------------------------------------------------\u001b[0m",
      "\u001b[0;31mValueError\u001b[0m                                Traceback (most recent call last)",
      "Cell \u001b[0;32mIn [49], line 19\u001b[0m\n\u001b[1;32m     15\u001b[0m \u001b[38;5;66;03m# Affichage des premières lignes du DataFrame modifié\u001b[39;00m\n\u001b[1;32m     16\u001b[0m \u001b[38;5;28mprint\u001b[39m(dp\u001b[38;5;241m.\u001b[39mhead())\n\u001b[0;32m---> 19\u001b[0m sns\u001b[38;5;241m.\u001b[39mrelplot(data\u001b[38;5;241m=\u001b[39mdp, x\u001b[38;5;241m=\u001b[39m\u001b[38;5;124m\"\u001b[39m\u001b[38;5;124mAge\u001b[39m\u001b[38;5;124m\"\u001b[39m, y\u001b[38;5;241m=\u001b[39m\u001b[38;5;124m\"\u001b[39m\u001b[38;5;124mMoyenne\u001b[39m\u001b[38;5;124m\"\u001b[39m)\n",
      "File \u001b[0;32m/opt/tljh/user/lib/python3.9/site-packages/seaborn/relational.py:862\u001b[0m, in \u001b[0;36mrelplot\u001b[0;34m(data, x, y, hue, size, style, units, row, col, col_wrap, row_order, col_order, palette, hue_order, hue_norm, sizes, size_order, size_norm, markers, dashes, style_order, legend, kind, height, aspect, facet_kws, **kwargs)\u001b[0m\n\u001b[1;32m    859\u001b[0m     kwargs\u001b[38;5;241m.\u001b[39mpop(\u001b[38;5;124m\"\u001b[39m\u001b[38;5;124max\u001b[39m\u001b[38;5;124m\"\u001b[39m)\n\u001b[1;32m    861\u001b[0m \u001b[38;5;66;03m# Use the full dataset to map the semantics\u001b[39;00m\n\u001b[0;32m--> 862\u001b[0m p \u001b[38;5;241m=\u001b[39m \u001b[43mplotter\u001b[49m\u001b[43m(\u001b[49m\n\u001b[1;32m    863\u001b[0m \u001b[43m    \u001b[49m\u001b[43mdata\u001b[49m\u001b[38;5;241;43m=\u001b[39;49m\u001b[43mdata\u001b[49m\u001b[43m,\u001b[49m\n\u001b[1;32m    864\u001b[0m \u001b[43m    \u001b[49m\u001b[43mvariables\u001b[49m\u001b[38;5;241;43m=\u001b[39;49m\u001b[43mplotter\u001b[49m\u001b[38;5;241;43m.\u001b[39;49m\u001b[43mget_semantics\u001b[49m\u001b[43m(\u001b[49m\u001b[38;5;28;43mlocals\u001b[39;49m\u001b[43m(\u001b[49m\u001b[43m)\u001b[49m\u001b[43m)\u001b[49m\u001b[43m,\u001b[49m\n\u001b[1;32m    865\u001b[0m \u001b[43m    \u001b[49m\u001b[43mlegend\u001b[49m\u001b[38;5;241;43m=\u001b[39;49m\u001b[43mlegend\u001b[49m\u001b[43m,\u001b[49m\n\u001b[1;32m    866\u001b[0m \u001b[43m\u001b[49m\u001b[43m)\u001b[49m\n\u001b[1;32m    867\u001b[0m p\u001b[38;5;241m.\u001b[39mmap_hue(palette\u001b[38;5;241m=\u001b[39mpalette, order\u001b[38;5;241m=\u001b[39mhue_order, norm\u001b[38;5;241m=\u001b[39mhue_norm)\n\u001b[1;32m    868\u001b[0m p\u001b[38;5;241m.\u001b[39mmap_size(sizes\u001b[38;5;241m=\u001b[39msizes, order\u001b[38;5;241m=\u001b[39msize_order, norm\u001b[38;5;241m=\u001b[39msize_norm)\n",
      "File \u001b[0;32m/opt/tljh/user/lib/python3.9/site-packages/seaborn/relational.py:538\u001b[0m, in \u001b[0;36m_ScatterPlotter.__init__\u001b[0;34m(self, data, variables, legend)\u001b[0m\n\u001b[1;32m    529\u001b[0m \u001b[38;5;28;01mdef\u001b[39;00m \u001b[38;5;21m__init__\u001b[39m(\u001b[38;5;28mself\u001b[39m, \u001b[38;5;241m*\u001b[39m, data\u001b[38;5;241m=\u001b[39m\u001b[38;5;28;01mNone\u001b[39;00m, variables\u001b[38;5;241m=\u001b[39m{}, legend\u001b[38;5;241m=\u001b[39m\u001b[38;5;28;01mNone\u001b[39;00m):\n\u001b[1;32m    530\u001b[0m \n\u001b[1;32m    531\u001b[0m     \u001b[38;5;66;03m# TODO this is messy, we want the mapping to be agnostic about\u001b[39;00m\n\u001b[1;32m    532\u001b[0m     \u001b[38;5;66;03m# the kind of plot to draw, but for the time being we need to set\u001b[39;00m\n\u001b[1;32m    533\u001b[0m     \u001b[38;5;66;03m# this information so the SizeMapping can use it\u001b[39;00m\n\u001b[1;32m    534\u001b[0m     \u001b[38;5;28mself\u001b[39m\u001b[38;5;241m.\u001b[39m_default_size_range \u001b[38;5;241m=\u001b[39m (\n\u001b[1;32m    535\u001b[0m         np\u001b[38;5;241m.\u001b[39mr_[\u001b[38;5;241m.5\u001b[39m, \u001b[38;5;241m2\u001b[39m] \u001b[38;5;241m*\u001b[39m np\u001b[38;5;241m.\u001b[39msquare(mpl\u001b[38;5;241m.\u001b[39mrcParams[\u001b[38;5;124m\"\u001b[39m\u001b[38;5;124mlines.markersize\u001b[39m\u001b[38;5;124m\"\u001b[39m])\n\u001b[1;32m    536\u001b[0m     )\n\u001b[0;32m--> 538\u001b[0m     \u001b[38;5;28;43msuper\u001b[39;49m\u001b[43m(\u001b[49m\u001b[43m)\u001b[49m\u001b[38;5;241;43m.\u001b[39;49m\u001b[38;5;21;43m__init__\u001b[39;49m\u001b[43m(\u001b[49m\u001b[43mdata\u001b[49m\u001b[38;5;241;43m=\u001b[39;49m\u001b[43mdata\u001b[49m\u001b[43m,\u001b[49m\u001b[43m \u001b[49m\u001b[43mvariables\u001b[49m\u001b[38;5;241;43m=\u001b[39;49m\u001b[43mvariables\u001b[49m\u001b[43m)\u001b[49m\n\u001b[1;32m    540\u001b[0m     \u001b[38;5;28mself\u001b[39m\u001b[38;5;241m.\u001b[39mlegend \u001b[38;5;241m=\u001b[39m legend\n",
      "File \u001b[0;32m/opt/tljh/user/lib/python3.9/site-packages/seaborn/_oldcore.py:640\u001b[0m, in \u001b[0;36mVectorPlotter.__init__\u001b[0;34m(self, data, variables)\u001b[0m\n\u001b[1;32m    635\u001b[0m \u001b[38;5;66;03m# var_ordered is relevant only for categorical axis variables, and may\u001b[39;00m\n\u001b[1;32m    636\u001b[0m \u001b[38;5;66;03m# be better handled by an internal axis information object that tracks\u001b[39;00m\n\u001b[1;32m    637\u001b[0m \u001b[38;5;66;03m# such information and is set up by the scale_* methods. The analogous\u001b[39;00m\n\u001b[1;32m    638\u001b[0m \u001b[38;5;66;03m# information for numeric axes would be information about log scales.\u001b[39;00m\n\u001b[1;32m    639\u001b[0m \u001b[38;5;28mself\u001b[39m\u001b[38;5;241m.\u001b[39m_var_ordered \u001b[38;5;241m=\u001b[39m {\u001b[38;5;124m\"\u001b[39m\u001b[38;5;124mx\u001b[39m\u001b[38;5;124m\"\u001b[39m: \u001b[38;5;28;01mFalse\u001b[39;00m, \u001b[38;5;124m\"\u001b[39m\u001b[38;5;124my\u001b[39m\u001b[38;5;124m\"\u001b[39m: \u001b[38;5;28;01mFalse\u001b[39;00m}  \u001b[38;5;66;03m# alt., used DefaultDict\u001b[39;00m\n\u001b[0;32m--> 640\u001b[0m \u001b[38;5;28;43mself\u001b[39;49m\u001b[38;5;241;43m.\u001b[39;49m\u001b[43massign_variables\u001b[49m\u001b[43m(\u001b[49m\u001b[43mdata\u001b[49m\u001b[43m,\u001b[49m\u001b[43m \u001b[49m\u001b[43mvariables\u001b[49m\u001b[43m)\u001b[49m\n\u001b[1;32m    642\u001b[0m \u001b[38;5;28;01mfor\u001b[39;00m var, \u001b[38;5;28mcls\u001b[39m \u001b[38;5;129;01min\u001b[39;00m \u001b[38;5;28mself\u001b[39m\u001b[38;5;241m.\u001b[39m_semantic_mappings\u001b[38;5;241m.\u001b[39mitems():\n\u001b[1;32m    643\u001b[0m \n\u001b[1;32m    644\u001b[0m     \u001b[38;5;66;03m# Create the mapping function\u001b[39;00m\n\u001b[1;32m    645\u001b[0m     map_func \u001b[38;5;241m=\u001b[39m partial(\u001b[38;5;28mcls\u001b[39m\u001b[38;5;241m.\u001b[39mmap, plotter\u001b[38;5;241m=\u001b[39m\u001b[38;5;28mself\u001b[39m)\n",
      "File \u001b[0;32m/opt/tljh/user/lib/python3.9/site-packages/seaborn/_oldcore.py:701\u001b[0m, in \u001b[0;36mVectorPlotter.assign_variables\u001b[0;34m(self, data, variables)\u001b[0m\n\u001b[1;32m    699\u001b[0m \u001b[38;5;28;01melse\u001b[39;00m:\n\u001b[1;32m    700\u001b[0m     \u001b[38;5;28mself\u001b[39m\u001b[38;5;241m.\u001b[39minput_format \u001b[38;5;241m=\u001b[39m \u001b[38;5;124m\"\u001b[39m\u001b[38;5;124mlong\u001b[39m\u001b[38;5;124m\"\u001b[39m\n\u001b[0;32m--> 701\u001b[0m     plot_data, variables \u001b[38;5;241m=\u001b[39m \u001b[38;5;28;43mself\u001b[39;49m\u001b[38;5;241;43m.\u001b[39;49m\u001b[43m_assign_variables_longform\u001b[49m\u001b[43m(\u001b[49m\n\u001b[1;32m    702\u001b[0m \u001b[43m        \u001b[49m\u001b[43mdata\u001b[49m\u001b[43m,\u001b[49m\u001b[43m \u001b[49m\u001b[38;5;241;43m*\u001b[39;49m\u001b[38;5;241;43m*\u001b[39;49m\u001b[43mvariables\u001b[49m\u001b[43m,\u001b[49m\n\u001b[1;32m    703\u001b[0m \u001b[43m    \u001b[49m\u001b[43m)\u001b[49m\n\u001b[1;32m    705\u001b[0m \u001b[38;5;28mself\u001b[39m\u001b[38;5;241m.\u001b[39mplot_data \u001b[38;5;241m=\u001b[39m plot_data\n\u001b[1;32m    706\u001b[0m \u001b[38;5;28mself\u001b[39m\u001b[38;5;241m.\u001b[39mvariables \u001b[38;5;241m=\u001b[39m variables\n",
      "File \u001b[0;32m/opt/tljh/user/lib/python3.9/site-packages/seaborn/_oldcore.py:938\u001b[0m, in \u001b[0;36mVectorPlotter._assign_variables_longform\u001b[0;34m(self, data, **kwargs)\u001b[0m\n\u001b[1;32m    933\u001b[0m \u001b[38;5;28;01melif\u001b[39;00m \u001b[38;5;28misinstance\u001b[39m(val, (\u001b[38;5;28mstr\u001b[39m, \u001b[38;5;28mbytes\u001b[39m)):\n\u001b[1;32m    934\u001b[0m \n\u001b[1;32m    935\u001b[0m     \u001b[38;5;66;03m# This looks like a column name but we don't know what it means!\u001b[39;00m\n\u001b[1;32m    937\u001b[0m     err \u001b[38;5;241m=\u001b[39m \u001b[38;5;124mf\u001b[39m\u001b[38;5;124m\"\u001b[39m\u001b[38;5;124mCould not interpret value `\u001b[39m\u001b[38;5;132;01m{\u001b[39;00mval\u001b[38;5;132;01m}\u001b[39;00m\u001b[38;5;124m` for parameter `\u001b[39m\u001b[38;5;132;01m{\u001b[39;00mkey\u001b[38;5;132;01m}\u001b[39;00m\u001b[38;5;124m`\u001b[39m\u001b[38;5;124m\"\u001b[39m\n\u001b[0;32m--> 938\u001b[0m     \u001b[38;5;28;01mraise\u001b[39;00m \u001b[38;5;167;01mValueError\u001b[39;00m(err)\n\u001b[1;32m    940\u001b[0m \u001b[38;5;28;01melse\u001b[39;00m:\n\u001b[1;32m    941\u001b[0m \n\u001b[1;32m    942\u001b[0m     \u001b[38;5;66;03m# Otherwise, assume the value is itself data\u001b[39;00m\n\u001b[1;32m    943\u001b[0m \n\u001b[1;32m    944\u001b[0m     \u001b[38;5;66;03m# Raise when data object is present and a vector can't matched\u001b[39;00m\n\u001b[1;32m    945\u001b[0m     \u001b[38;5;28;01mif\u001b[39;00m \u001b[38;5;28misinstance\u001b[39m(data, pd\u001b[38;5;241m.\u001b[39mDataFrame) \u001b[38;5;129;01mand\u001b[39;00m \u001b[38;5;129;01mnot\u001b[39;00m \u001b[38;5;28misinstance\u001b[39m(val, pd\u001b[38;5;241m.\u001b[39mSeries):\n",
      "\u001b[0;31mValueError\u001b[0m: Could not interpret value `Moyenne` for parameter `y`"
     ]
    }
   ],
   "source": [
    "from datetime import datetime\n",
    "\n",
    "# Ajout de la colonne 'Age' avec une valeur par défaut '0'\n",
    "dp['Age'] = 0\n",
    "\n",
    "# Obtenir la date actuelle\n",
    "date_actuelle = datetime.now().date()\n",
    "\n",
    "# Convertir la colonne 'Naissance' en format datetime\n",
    "dp['Naissance'] = pd.to_datetime(dp['Naissance'])\n",
    "\n",
    "# Calculer l'âge en années\n",
    "dp['Age'] = (date_actuelle - dp['Naissance'].dt.date).dt.days // 365\n",
    "\n",
    "# Affichage des premières lignes du DataFrame modifié\n",
    "print(dp.head())\n",
    "\n",
    "\n",
    "#sns.relplot(data=dp, x=\"Age\", y=\"Moyenne\")\n"
   ]
  },
  {
   "cell_type": "code",
   "execution_count": 38,
   "id": "66478d5e",
   "metadata": {},
   "outputs": [
    {
     "ename": "KeyError",
     "evalue": "\"['Moyenne'] not in index\"",
     "output_type": "error",
     "traceback": [
      "\u001b[0;31m---------------------------------------------------------------------------\u001b[0m",
      "\u001b[0;31mKeyError\u001b[0m                                  Traceback (most recent call last)",
      "Cell \u001b[0;32mIn [38], line 1\u001b[0m\n\u001b[0;32m----> 1\u001b[0m sns\u001b[38;5;241m.\u001b[39mlmplot(data\u001b[38;5;241m=\u001b[39mdp, x\u001b[38;5;241m=\u001b[39m\u001b[38;5;124m\"\u001b[39m\u001b[38;5;124mAge\u001b[39m\u001b[38;5;124m\"\u001b[39m, y\u001b[38;5;241m=\u001b[39m\u001b[38;5;124m\"\u001b[39m\u001b[38;5;124mMoyenne\u001b[39m\u001b[38;5;124m\"\u001b[39m)\n",
      "File \u001b[0;32m/opt/tljh/user/lib/python3.9/site-packages/seaborn/regression.py:595\u001b[0m, in \u001b[0;36mlmplot\u001b[0;34m(data, x, y, hue, col, row, palette, col_wrap, height, aspect, markers, sharex, sharey, hue_order, col_order, row_order, legend, legend_out, x_estimator, x_bins, x_ci, scatter, fit_reg, ci, n_boot, units, seed, order, logistic, lowess, robust, logx, x_partial, y_partial, truncate, x_jitter, y_jitter, scatter_kws, line_kws, facet_kws)\u001b[0m\n\u001b[1;32m    593\u001b[0m need_cols \u001b[38;5;241m=\u001b[39m [x, y, hue, col, row, units, x_partial, y_partial]\n\u001b[1;32m    594\u001b[0m cols \u001b[38;5;241m=\u001b[39m np\u001b[38;5;241m.\u001b[39munique([a \u001b[38;5;28;01mfor\u001b[39;00m a \u001b[38;5;129;01min\u001b[39;00m need_cols \u001b[38;5;28;01mif\u001b[39;00m a \u001b[38;5;129;01mis\u001b[39;00m \u001b[38;5;129;01mnot\u001b[39;00m \u001b[38;5;28;01mNone\u001b[39;00m])\u001b[38;5;241m.\u001b[39mtolist()\n\u001b[0;32m--> 595\u001b[0m data \u001b[38;5;241m=\u001b[39m \u001b[43mdata\u001b[49m\u001b[43m[\u001b[49m\u001b[43mcols\u001b[49m\u001b[43m]\u001b[49m\n\u001b[1;32m    597\u001b[0m \u001b[38;5;66;03m# Initialize the grid\u001b[39;00m\n\u001b[1;32m    598\u001b[0m facets \u001b[38;5;241m=\u001b[39m FacetGrid(\n\u001b[1;32m    599\u001b[0m     data, row\u001b[38;5;241m=\u001b[39mrow, col\u001b[38;5;241m=\u001b[39mcol, hue\u001b[38;5;241m=\u001b[39mhue,\n\u001b[1;32m    600\u001b[0m     palette\u001b[38;5;241m=\u001b[39mpalette,\n\u001b[0;32m   (...)\u001b[0m\n\u001b[1;32m    603\u001b[0m     \u001b[38;5;241m*\u001b[39m\u001b[38;5;241m*\u001b[39mfacet_kws,\n\u001b[1;32m    604\u001b[0m )\n",
      "File \u001b[0;32m/opt/tljh/user/lib/python3.9/site-packages/pandas/core/frame.py:3813\u001b[0m, in \u001b[0;36mDataFrame.__getitem__\u001b[0;34m(self, key)\u001b[0m\n\u001b[1;32m   3811\u001b[0m     \u001b[38;5;28;01mif\u001b[39;00m is_iterator(key):\n\u001b[1;32m   3812\u001b[0m         key \u001b[38;5;241m=\u001b[39m \u001b[38;5;28mlist\u001b[39m(key)\n\u001b[0;32m-> 3813\u001b[0m     indexer \u001b[38;5;241m=\u001b[39m \u001b[38;5;28;43mself\u001b[39;49m\u001b[38;5;241;43m.\u001b[39;49m\u001b[43mcolumns\u001b[49m\u001b[38;5;241;43m.\u001b[39;49m\u001b[43m_get_indexer_strict\u001b[49m\u001b[43m(\u001b[49m\u001b[43mkey\u001b[49m\u001b[43m,\u001b[49m\u001b[43m \u001b[49m\u001b[38;5;124;43m\"\u001b[39;49m\u001b[38;5;124;43mcolumns\u001b[39;49m\u001b[38;5;124;43m\"\u001b[39;49m\u001b[43m)\u001b[49m[\u001b[38;5;241m1\u001b[39m]\n\u001b[1;32m   3815\u001b[0m \u001b[38;5;66;03m# take() does not accept boolean indexers\u001b[39;00m\n\u001b[1;32m   3816\u001b[0m \u001b[38;5;28;01mif\u001b[39;00m \u001b[38;5;28mgetattr\u001b[39m(indexer, \u001b[38;5;124m\"\u001b[39m\u001b[38;5;124mdtype\u001b[39m\u001b[38;5;124m\"\u001b[39m, \u001b[38;5;28;01mNone\u001b[39;00m) \u001b[38;5;241m==\u001b[39m \u001b[38;5;28mbool\u001b[39m:\n",
      "File \u001b[0;32m/opt/tljh/user/lib/python3.9/site-packages/pandas/core/indexes/base.py:6070\u001b[0m, in \u001b[0;36mIndex._get_indexer_strict\u001b[0;34m(self, key, axis_name)\u001b[0m\n\u001b[1;32m   6067\u001b[0m \u001b[38;5;28;01melse\u001b[39;00m:\n\u001b[1;32m   6068\u001b[0m     keyarr, indexer, new_indexer \u001b[38;5;241m=\u001b[39m \u001b[38;5;28mself\u001b[39m\u001b[38;5;241m.\u001b[39m_reindex_non_unique(keyarr)\n\u001b[0;32m-> 6070\u001b[0m \u001b[38;5;28;43mself\u001b[39;49m\u001b[38;5;241;43m.\u001b[39;49m\u001b[43m_raise_if_missing\u001b[49m\u001b[43m(\u001b[49m\u001b[43mkeyarr\u001b[49m\u001b[43m,\u001b[49m\u001b[43m \u001b[49m\u001b[43mindexer\u001b[49m\u001b[43m,\u001b[49m\u001b[43m \u001b[49m\u001b[43maxis_name\u001b[49m\u001b[43m)\u001b[49m\n\u001b[1;32m   6072\u001b[0m keyarr \u001b[38;5;241m=\u001b[39m \u001b[38;5;28mself\u001b[39m\u001b[38;5;241m.\u001b[39mtake(indexer)\n\u001b[1;32m   6073\u001b[0m \u001b[38;5;28;01mif\u001b[39;00m \u001b[38;5;28misinstance\u001b[39m(key, Index):\n\u001b[1;32m   6074\u001b[0m     \u001b[38;5;66;03m# GH 42790 - Preserve name from an Index\u001b[39;00m\n",
      "File \u001b[0;32m/opt/tljh/user/lib/python3.9/site-packages/pandas/core/indexes/base.py:6133\u001b[0m, in \u001b[0;36mIndex._raise_if_missing\u001b[0;34m(self, key, indexer, axis_name)\u001b[0m\n\u001b[1;32m   6130\u001b[0m     \u001b[38;5;28;01mraise\u001b[39;00m \u001b[38;5;167;01mKeyError\u001b[39;00m(\u001b[38;5;124mf\u001b[39m\u001b[38;5;124m\"\u001b[39m\u001b[38;5;124mNone of [\u001b[39m\u001b[38;5;132;01m{\u001b[39;00mkey\u001b[38;5;132;01m}\u001b[39;00m\u001b[38;5;124m] are in the [\u001b[39m\u001b[38;5;132;01m{\u001b[39;00maxis_name\u001b[38;5;132;01m}\u001b[39;00m\u001b[38;5;124m]\u001b[39m\u001b[38;5;124m\"\u001b[39m)\n\u001b[1;32m   6132\u001b[0m not_found \u001b[38;5;241m=\u001b[39m \u001b[38;5;28mlist\u001b[39m(ensure_index(key)[missing_mask\u001b[38;5;241m.\u001b[39mnonzero()[\u001b[38;5;241m0\u001b[39m]]\u001b[38;5;241m.\u001b[39munique())\n\u001b[0;32m-> 6133\u001b[0m \u001b[38;5;28;01mraise\u001b[39;00m \u001b[38;5;167;01mKeyError\u001b[39;00m(\u001b[38;5;124mf\u001b[39m\u001b[38;5;124m\"\u001b[39m\u001b[38;5;132;01m{\u001b[39;00mnot_found\u001b[38;5;132;01m}\u001b[39;00m\u001b[38;5;124m not in index\u001b[39m\u001b[38;5;124m\"\u001b[39m)\n",
      "\u001b[0;31mKeyError\u001b[0m: \"['Moyenne'] not in index\""
     ]
    }
   ],
   "source": [
    "sns.lmplot(data=dp, x=\"Age\", y=\"Moyenne\")"
   ]
  },
  {
   "cell_type": "markdown",
   "id": "b12adc85",
   "metadata": {},
   "source": [
    "Calculons à présent les"
   ]
  },
  {
   "cell_type": "code",
   "execution_count": 39,
   "id": "f8b00231",
   "metadata": {},
   "outputs": [
    {
     "ename": "AttributeError",
     "evalue": "'DataFrame' object has no attribute 'Moyenne'",
     "output_type": "error",
     "traceback": [
      "\u001b[0;31m---------------------------------------------------------------------------\u001b[0m",
      "\u001b[0;31mAttributeError\u001b[0m                            Traceback (most recent call last)",
      "Cell \u001b[0;32mIn [39], line 2\u001b[0m\n\u001b[1;32m      1\u001b[0m \u001b[38;5;28;01mfrom\u001b[39;00m \u001b[38;5;21;01mscipy\u001b[39;00m\u001b[38;5;21;01m.\u001b[39;00m\u001b[38;5;21;01mstats\u001b[39;00m \u001b[38;5;28;01mimport\u001b[39;00m linregress\n\u001b[0;32m----> 2\u001b[0m a, b, r, p_value, std_err \u001b[38;5;241m=\u001b[39m linregress(dp\u001b[38;5;241m.\u001b[39mAge, dp\u001b[38;5;241m.\u001b[39mMoyenne)\n\u001b[1;32m      3\u001b[0m \u001b[38;5;28mprint\u001b[39m(\u001b[38;5;124m\"\u001b[39m\u001b[38;5;124ma   =\u001b[39m\u001b[38;5;132;01m{:8.3f}\u001b[39;00m\u001b[38;5;130;01m\\n\u001b[39;00m\u001b[38;5;124mb   =\u001b[39m\u001b[38;5;132;01m{:8.3f}\u001b[39;00m\u001b[38;5;130;01m\\n\u001b[39;00m\u001b[38;5;124mr^2 =\u001b[39m\u001b[38;5;132;01m{:8.5f}\u001b[39;00m\u001b[38;5;124m\"\u001b[39m\u001b[38;5;241m.\u001b[39mformat(a, b, r\u001b[38;5;241m*\u001b[39m\u001b[38;5;241m*\u001b[39m\u001b[38;5;241m2\u001b[39m))\n",
      "File \u001b[0;32m/opt/tljh/user/lib/python3.9/site-packages/pandas/core/generic.py:5902\u001b[0m, in \u001b[0;36mNDFrame.__getattr__\u001b[0;34m(self, name)\u001b[0m\n\u001b[1;32m   5895\u001b[0m \u001b[38;5;28;01mif\u001b[39;00m (\n\u001b[1;32m   5896\u001b[0m     name \u001b[38;5;129;01mnot\u001b[39;00m \u001b[38;5;129;01min\u001b[39;00m \u001b[38;5;28mself\u001b[39m\u001b[38;5;241m.\u001b[39m_internal_names_set\n\u001b[1;32m   5897\u001b[0m     \u001b[38;5;129;01mand\u001b[39;00m name \u001b[38;5;129;01mnot\u001b[39;00m \u001b[38;5;129;01min\u001b[39;00m \u001b[38;5;28mself\u001b[39m\u001b[38;5;241m.\u001b[39m_metadata\n\u001b[1;32m   5898\u001b[0m     \u001b[38;5;129;01mand\u001b[39;00m name \u001b[38;5;129;01mnot\u001b[39;00m \u001b[38;5;129;01min\u001b[39;00m \u001b[38;5;28mself\u001b[39m\u001b[38;5;241m.\u001b[39m_accessors\n\u001b[1;32m   5899\u001b[0m     \u001b[38;5;129;01mand\u001b[39;00m \u001b[38;5;28mself\u001b[39m\u001b[38;5;241m.\u001b[39m_info_axis\u001b[38;5;241m.\u001b[39m_can_hold_identifiers_and_holds_name(name)\n\u001b[1;32m   5900\u001b[0m ):\n\u001b[1;32m   5901\u001b[0m     \u001b[38;5;28;01mreturn\u001b[39;00m \u001b[38;5;28mself\u001b[39m[name]\n\u001b[0;32m-> 5902\u001b[0m \u001b[38;5;28;01mreturn\u001b[39;00m \u001b[38;5;28;43mobject\u001b[39;49m\u001b[38;5;241;43m.\u001b[39;49m\u001b[38;5;21;43m__getattribute__\u001b[39;49m\u001b[43m(\u001b[49m\u001b[38;5;28;43mself\u001b[39;49m\u001b[43m,\u001b[49m\u001b[43m \u001b[49m\u001b[43mname\u001b[49m\u001b[43m)\u001b[49m\n",
      "\u001b[0;31mAttributeError\u001b[0m: 'DataFrame' object has no attribute 'Moyenne'"
     ]
    }
   ],
   "source": [
    "from scipy.stats import linregress\n",
    "a, b, r, p_value, std_err = linregress(dp.Age, dp.Moyenne)\n",
    "print(\"a   ={:8.3f}\\nb   ={:8.3f}\\nr^2 ={:8.5f}\".format(a, b, r**2))"
   ]
  },
  {
   "cell_type": "markdown",
   "id": "c0d9fde2",
   "metadata": {},
   "source": [
    "### Interprétation\n",
    "\n",
    "Les résultats indiquent la distribution des moyennes des notes en fonction de l'age de l'étudiant :\n",
    "\n",
    "La moyenne de la moyenne des notes des étudiants est d'environ 13/20.\n",
    "\n",
    "On constate que les moyennes des notes à l'age de 20 est très dispersée. Cette étendue est moins important pour les étudiants ayant 19 ans.Cela peut s'expliquer par le fait que la population d'étudiant ayant 20 ans est plus grande. \n",
    "\n",
    "Au vu de la faible corélation entre les points, on ne peut pas en déduire avec ses résultats que l'age influence les résultats de l'étudiant."
   ]
  },
  {
   "cell_type": "markdown",
   "id": "ee5c1052",
   "metadata": {},
   "source": [
    "### 4.C Influence du nombre d'absences sur les notes obtenues<a class=\"anchor\" id=\"sec4.3\"></a>"
   ]
  },
  {
   "cell_type": "code",
   "execution_count": 21,
   "id": "6b611f49",
   "metadata": {},
   "outputs": [
    {
     "ename": "NameError",
     "evalue": "name 'dp' is not defined",
     "output_type": "error",
     "traceback": [
      "\u001b[0;31m---------------------------------------------------------------------------\u001b[0m",
      "\u001b[0;31mNameError\u001b[0m                                 Traceback (most recent call last)",
      "Cell \u001b[0;32mIn [21], line 4\u001b[0m\n\u001b[1;32m      1\u001b[0m \u001b[38;5;28;01mimport\u001b[39;00m \u001b[38;5;21;01mseaborn\u001b[39;00m \u001b[38;5;28;01mas\u001b[39;00m \u001b[38;5;21;01msns\u001b[39;00m\n\u001b[1;32m      2\u001b[0m \u001b[38;5;28;01mimport\u001b[39;00m \u001b[38;5;21;01mmatplotlib\u001b[39;00m\u001b[38;5;21;01m.\u001b[39;00m\u001b[38;5;21;01mpyplot\u001b[39;00m \u001b[38;5;28;01mas\u001b[39;00m \u001b[38;5;21;01mplt\u001b[39;00m\n\u001b[0;32m----> 4\u001b[0m sns\u001b[38;5;241m.\u001b[39mlmplot(data\u001b[38;5;241m=\u001b[39mdp, x\u001b[38;5;241m=\u001b[39m\u001b[38;5;124m\"\u001b[39m\u001b[38;5;124mNbAbs\u001b[39m\u001b[38;5;124m\"\u001b[39m, y\u001b[38;5;241m=\u001b[39m\u001b[38;5;124m\"\u001b[39m\u001b[38;5;124mMoyenne\u001b[39m\u001b[38;5;124m\"\u001b[39m)\n\u001b[1;32m      6\u001b[0m plt\u001b[38;5;241m.\u001b[39mxlabel(\u001b[38;5;124m'\u001b[39m\u001b[38;5;124mNombre d\u001b[39m\u001b[38;5;130;01m\\'\u001b[39;00m\u001b[38;5;124mabsences\u001b[39m\u001b[38;5;124m'\u001b[39m)\n\u001b[1;32m      7\u001b[0m plt\u001b[38;5;241m.\u001b[39mylabel(\u001b[38;5;124m'\u001b[39m\u001b[38;5;124mMoyenne\u001b[39m\u001b[38;5;124m'\u001b[39m)\n",
      "\u001b[0;31mNameError\u001b[0m: name 'dp' is not defined"
     ]
    }
   ],
   "source": [
    "import seaborn as sns\n",
    "import matplotlib.pyplot as plt\n",
    "\n",
    "dp['NbAbs']=0\n",
    "for i in range(1,dp.NumEtu.count()):\n",
    "    dp['NbAbs'].loc[dp['NumEtu'] == i] = df[df.NumEtu == i].Date.count()\n",
    "\n",
    "sns.lmplot(data=dp, x=\"NbAbs\", y=\"Moyenne\")\n",
    "\n",
    "plt.xlabel('Nombre d\\'absences')\n",
    "plt.ylabel('Moyenne')\n",
    "plt.title('Relation entre le nombre d\\'absences et la moyenne')\n",
    "\n",
    "plt.show()"
   ]
  },
  {
   "cell_type": "raw",
   "id": "6e56867c",
   "metadata": {},
   "source": [
    "### Interprétation\n",
    "\n",
    "Les résultats indiquent la distribution des moyennes des notes en fonction du nombre d'absences:\n",
    "\n",
    "La moyenne de la moyenne des notes des étudiants est d'environ 13/20.\n",
    "\n",
    "On constate que les moyennes des notes lorsque l'étudiant a 0 absence est très dispersée et que c'est la meme chose lorsque le nombre d'absences augmentent.\n",
    "\n",
    "Au vu de la faible corrélation entre les points, on ne peut pas en déduire avec ses résultats que le nombre d'absences influence les résultats de l'étudiant."
   ]
  },
  {
   "cell_type": "markdown",
   "id": "b8c3f27e",
   "metadata": {},
   "source": [
    "### 4.D Lien entre les notes obtenues dans les matières scientifiques et les matières non scientifiques<a class=\"anchor\" id=\"sec4.4\"></a>"
   ]
  },
  {
   "cell_type": "code",
   "execution_count": null,
   "id": "29ce5bc3",
   "metadata": {},
   "outputs": [],
   "source": [
    "# Calculer la moyenne des UE pour chaque étudiant dans une nouvelle colonne\n",
    "dp['MoyenneUESciences'] = dp[['UE 2.1', 'UE 2.2', 'UE 2.3', 'UE 2.4', 'UE 2.5']].mean(axis=1)\n",
    "\n",
    "# Affichage des premières lignes du DataFrame modifié\n",
    "print(dp.head())"
   ]
  },
  {
   "cell_type": "code",
   "execution_count": null,
   "id": "ff723189",
   "metadata": {},
   "outputs": [],
   "source": [
    "sns.lmplot(data=dp, x=\"MoyenneUESciences\", y=\"UE 2.6\")"
   ]
  },
  {
   "cell_type": "code",
   "execution_count": null,
   "id": "ee45d52e",
   "metadata": {},
   "outputs": [],
   "source": [
    "from scipy.stats import linregress\n",
    "a, b, r, p_value, std_err = linregress(dp.MoyenneUESciences, dp['UE 2.6'])\n",
    "print(\"a   ={:8.3f}\\nb   ={:8.3f}\\nr^2 ={:8.5f}\".format(a, b, r**2))"
   ]
  },
  {
   "cell_type": "markdown",
   "id": "cd1c6f84",
   "metadata": {},
   "source": [
    "### Interprétation\n",
    "\n",
    "Nuage de points:\n",
    "\n",
    "On remarque qu'on a une corrélation positive entre les moyennes des matières scientifiques et non scientifiques. En effet, lorsque l'axe des moyennes des matières scientifiques augmentent, l'axe des matières non-scientifiques augmentent aussi.\n",
    "\n",
    "Les élèves qui réussissent bien dans les matières scientifiques ont aussi tendance à réussir dans les matières non scientifiques. Cela pourrait être dû à une variété de facteurs, tels que des compétences d'étude solides, une bonne gestion du temps, ou une motivation intrinsèque pour réussir à l'école."
   ]
  },
  {
   "cell_type": "markdown",
   "id": "e7fc5f95",
   "metadata": {},
   "source": [
    "## 5. Synthèse des résultats et conclusions<a class=\"anchor\" id=\"sec5\"></a>"
   ]
  },
  {
   "cell_type": "markdown",
   "id": "d29e3516",
   "metadata": {},
   "source": [
    "### Partie 1: les profils étudiants\n",
    "\n",
    "La majorité des étudiants proviennent des filières de baccalauréat STI2D et NBGE, ce qui suggère que l'institution attire principalement des étudiants avec des parcours académiques diversifiés, axés sur les sciences et technologies ou des baccalauréats généraux.\n",
    "\n",
    "Les mentions obtenues au baccalauréat sont généralement \"Assez Bien\", ce qui suggère un niveau de performance académique satisfaisant pour une grande partie des étudiants. Il est également à noter que la mention \"Très bien\" est moins fréquente, ce qui peut indiquer un niveau de performance exceptionnellement élevé chez une petite proportion d'étudiants.\n",
    "\n",
    "La majorité des étudiants réussissent à valider leur année, ce qui montre une forte réussite académique globale. Une petite proportion d'étudiants sont dans la situation \"Ajac\", ce qui indique qu'ils peuvent continuer leurs études tout en rattrapant des matières non validées.\n",
    "\n",
    "Il y a une association statistiquement significative entre le type de baccalauréat et les mentions obtenues. Cela suggère que le parcours académique antérieur d'un étudiant peut avoir une influence sur son niveau de performance à l'institution.\n",
    "\n",
    "Les étudiants issus du baccalauréat NBGE semblent avoir une légère tendance à obtenir des mentions plus élevées par rapport à ceux des autres filières. Les étudiants de la filière STMG semblent rencontrer plus de difficultés à obtenir des mentions.\n",
    "\n",
    "Les étudiants ayant un baccalauréat général semblent avoir une légère tendance à mieux performer académiquement par rapport aux étudiants ayant un baccalauréat technologique. Cela peut être dû à divers facteurs, y compris les compétences et connaissances acquises dans leur parcours académique antérieur.\n",
    "\n",
    "En somme, ces analyses démontrent l'importance du parcours scolaire antérieur dans la réussite académique future et suggèrent que l'institution pourrait bénéficier de l'adaptation de ses stratégies pédagogiques et de ses politiques de recrutement en conséquence. Par exemple, en fournissant un soutien supplémentaire aux étudiants issus de certaines filières, ou en cherchant à attirer des étudiants de diverses filières pour enrichir davantage la diversité académique de sa population étudiante.\n",
    "\n",
    "### Partie 2:Analyse des absences\n",
    "\n",
    "La majorité des absences sont justifiées, soit 71% contre 29% d'injustifiées. Cela montre que la plupart des étudiants ont des motifs valables pour leurs absences. Toutefois, la proportion non négligeable d'absences non justifiées nécessite une attention particulière.\n",
    "\n",
    "Les absences sont plus fréquentes le matin (74%) par rapport à l'après-midi (26%). Cela peut être attribué à divers facteurs tels que les contraintes personnelles des étudiants le matin ou une préférence pour les cours de l'après-midi.\n",
    "\n",
    "Les travaux dirigés (TD) enregistrent le plus grand nombre d'absences. Cela pourrait indiquer que les étudiants trouvent ces sessions moins attrayantes ou moins nécessaires. Les projets, en revanche, ont le moins d'absences, ce qui pourrait indiquer que les étudiants considèrent ces sessions comme cruciales pour leur réussite académique.\n",
    "\n",
    "L'impact de l'enseignant sur le taux d'absentéisme n'est pas significatif, comme le suggère le test du Chi-carré. Cela signifie que l'absentéisme est plus probablement influencé par d'autres facteurs que l'enseignant lui-même.\n",
    "\n",
    "Les absences sont plus fréquentes durant les mois d'hiver, avec une augmentation notable en avril. Cela pourrait être attribué à divers facteurs tels que le relâchement des étudiants après les partiels ou l'approche des vacances de printemps.\n",
    "\n",
    "Les absences justifiées sont particulièrement élevées en janvier, mars et avril, ce qui pourrait être lié à une pression académique accrue durant ces mois. Les absences non justifiées, en revanche, sont plus fréquentes en mars, avril et juin, ce qui pourrait indiquer une baisse de la motivation des étudiants pendant ces mois.\n",
    "\n",
    "En somme, il semble que l'absentéisme est un phénomène complexe, influencé par une multitude de facteurs allant du moment de la journée aux périodes de l'année, en passant par le type de cours. Une compréhension détaillée de ces facteurs peut aider à concevoir des interventions efficaces pour réduire l'absentéisme et améliorer la participation des étudiants.\n",
    "\n",
    "\n",
    "### Partie 3: Performances académiques des étudiants\n",
    "\n",
    "La majorité des étudiants ont des notes de portfolio dans l'intervalle de 10 à 15. Très peu d'étudiants ont des notes inférieures à 5 ou supérieures à 15. Cela indique que la plupart des étudiants performent moyennement dans leurs portfolios.\n",
    "\n",
    "Il n'y a pas de corrélation claire entre l'âge des étudiants et leurs moyennes de notes. Il est important de noter que la dispersion des notes est plus grande pour les étudiants de 20 ans, peut-être en raison d'un effectif plus important dans ce groupe d'âge. Cependant, ce manque de corrélation suggère que l'âge n'est pas un facteur déterminant pour la réussite académique.\n",
    "\n",
    "De même, il n'y a pas de corrélation évidente entre le nombre d'absences d'un étudiant et sa moyenne de notes. Cela peut être un point surprenant, car on pourrait s'attendre à ce qu'un nombre élevé d'absences entrave la performance académique. Cela pourrait suggérer que d'autres facteurs, comme l'effort personnel et les stratégies d'étude, sont plus déterminants pour la réussite académique.\n",
    "\n",
    "Il existe une corrélation positive entre les moyennes des matières scientifiques et non scientifiques. Cela suggère que les compétences qui contribuent à la réussite dans un type de matière peuvent être transférables à l'autre. Les étudiants qui réussissent dans les matières scientifiques ont aussi tendance à réussir dans les matières non scientifiques, ce qui pourrait indiquer une compétence académique globale plutôt qu'une spécialisation dans un domaine particulier.\n",
    "\n",
    "En somme, ces résultats indiquent que la réussite académique ne dépend pas uniquement de l'assiduité ou de l'âge, mais semble être une combinaison de divers facteurs dont la transférabilité des compétences académiques d'un domaine à l'autre. Par ailleurs, la performance moyenne dans les portfolios indique qu'il y a une marge pour l'amélioration et que des stratégies ciblées pourraient être mises en place pour aider les étudiants à améliorer leurs notes.\n"
   ]
  },
  {
   "cell_type": "markdown",
   "id": "65f3166c",
   "metadata": {},
   "source": [
    "<table style=\"width:100%\">\n",
    "  <tr>\n",
    "    <th>Type</th>\n",
    "    <th>Nom variable</th> \n",
    "    <th>Qui</th>\n",
    "  </tr>\n",
    "  <tr>\n",
    "    <td>Qualitative nominale</td>\n",
    "    <td>Justification</td> \n",
    "    <td>Johanne</td>\n",
    "  </tr>\n",
    "  <tr>\n",
    "    <td>Qualitative ordinale</td>\n",
    "    <td>Mention</td> \n",
    "    <td>Johanne</td>\n",
    "  </tr>\n",
    "  <tr>\n",
    "    <td>Quantitative discrète</td>\n",
    "    <td>NbAbs</td> \n",
    "    <td>Éloïse</td>\n",
    "  </tr>\n",
    "  <tr>\n",
    "    <td>Quantitative continue</td>\n",
    "    <td>Notes Portfolio</td> \n",
    "    <td>Johanne</td>\n",
    "  </tr>\n",
    "  <tr>\n",
    "    <td>2 Quantitatives</td>\n",
    "    <td>NbAbs/prof</td> \n",
    "    <td>Éloïse</td>\n",
    "  </tr>\n",
    "  <tr>\n",
    "    <td>2 Quantitatives</td>\n",
    "    <td>Age/moyenne</td> \n",
    "    <td>Johanne</td>\n",
    "  </tr>\n",
    "  <tr>\n",
    "    <td>Qualitative nominale</td>\n",
    "    <td>Type de bac</td> \n",
    "    <td>Johanne</td>\n",
    "  </tr>\n",
    "  <tr>\n",
    "    <td>Qualitative ordinale</td>\n",
    "    <td>Passe ?</td> \n",
    "    <td>Éloïse</td>\n",
    "  </tr>\n",
    "  <tr>\n",
    "    <td>Qualitative et Quantitative</td>\n",
    "    <td>NbAbs/TypeCours</td> \n",
    "    <td>Éloïse</td>\n",
    "  </tr>\n",
    "  <tr>\n",
    "    <td>2 Quantitatives</td>\n",
    "    <td>NbAbs/Moyenne</td> \n",
    "    <td>Éloïse</td>\n",
    "  </tr>\n",
    "  <tr>\n",
    "    <td>Qualitative nominale</td>\n",
    "    <td>Moment</td> \n",
    "    <td>Johanne</td>\n",
    "  </tr>\n",
    "  <tr>\n",
    "    <td>Qualitative et Quantitative</td>\n",
    "    <td>NbAbs/Moyenne</td> \n",
    "    <td>Éloïse</td>\n",
    "  </tr>\n",
    "  <tr>\n",
    "    <td>2 Quantitatives</td>\n",
    "    <td>MoyenneSciences/UE 2.6</td> \n",
    "    <td>Éloïse</td>\n",
    "  </tr>\n",
    "</table>"
   ]
  },
  {
   "cell_type": "code",
   "execution_count": null,
   "id": "e226981f",
   "metadata": {},
   "outputs": [],
   "source": []
  }
 ],
 "metadata": {
  "kernelspec": {
   "display_name": "Python 3 (ipykernel)",
   "language": "python",
   "name": "python3"
  },
  "language_info": {
   "codemirror_mode": {
    "name": "ipython",
    "version": 3
   },
   "file_extension": ".py",
   "mimetype": "text/x-python",
   "name": "python",
   "nbconvert_exporter": "python",
   "pygments_lexer": "ipython3",
   "version": "3.9.16"
  }
 },
 "nbformat": 4,
 "nbformat_minor": 5
}
